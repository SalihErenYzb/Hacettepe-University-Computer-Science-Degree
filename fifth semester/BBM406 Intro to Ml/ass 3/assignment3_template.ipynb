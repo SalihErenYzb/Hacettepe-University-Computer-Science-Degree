{
 "cells": [
  {
   "cell_type": "markdown",
   "metadata": {
    "id": "HEPifRWi8RB0"
   },
   "source": [
    "## BBM 409 - Programming Assignment 3\n",
    "\n",
    "* You can add as many cells as you want in-between each question.\n",
    "* Please add comments to your code to explain your work.  \n",
    "* Please add Markdown cells to answer the (non-coding) questions in the homework text. You can, however, refer to the outputs of code cells without adding them as images to the Markdown cell unless you are requested to do otherwise.\n",
    "* Please be careful about the order of runs of cells. Doing the homework, it is likely that you will be running the cells in different orders, however, they will be evaluated in the order they appear. Hence, please try running the cells in this order before submission to make sure they work.    \n",
    "* Please refer to the homework text for any implementation detail. Though you are somewhat expected to abide by the comments in the below cells, they are mainly just provided for guidance. That is, as long as you are not completely off this structure and your work pattern is understandable and traceable, it is fine. For instance, you do not have to implement a particular function within a cell just because the comment directs you to do so.\n",
    "* This document is also your report. Show your work."
   ]
  },
  {
   "cell_type": "markdown",
   "metadata": {
    "id": "fRABL12L8RB4"
   },
   "source": [
    "### Salih Eren Yüzbaşıoğlu - 2220356040"
   ]
  },
  {
   "cell_type": "markdown",
   "metadata": {
    "id": "Qb4QIkS68RB4"
   },
   "source": [
    "## 1. Implementing a CNN from Scratch (40 points)"
   ]
  },
  {
   "cell_type": "markdown",
   "metadata": {
    "id": "Sq8IboH58RB4"
   },
   "source": [
    "### 1.1. Introduction\n",
    "\n",
    "This part of the assignment focuses on building and training a Convolutional Neural Network (CNN) from scratch for image classification. CNNs are a class of deep neural networks that have shown state-of-the-art performance in various computer vision tasks. They are particularly well-suited for image data due to their ability to automatically learn hierarchical features through convolutional layers. These features capture spatial dependencies and patterns, enabling the network to learn abstract representations of images effectively.\n",
    "\n",
    "**Key components of a CNN architecture:**\n",
    "\n",
    "*   **Convolutional Layers:** These layers apply filters to the input image, extracting features such as edges, corners, and textures.\n",
    "*   **Activation Functions:** Non-linear functions (like ReLU) introduce non-linearity, enabling the network to learn complex mappings.\n",
    "*   **Pooling Layers:** Reduce the spatial dimensions of feature maps, decreasing the number of parameters and increasing robustness.\n",
    "*   **Fully Connected Layers:** Used for final classification, mapping the extracted features to output classes.\n",
    "\n",
    "**Why CNNs for image classification?**\n",
    "\n",
    "  CNNs excel at image classification because they leverage the spatial structure of images effectively. They automatically learn relevant features, reducing the need for manual feature engineering. The hierarchical structure of a CNN captures increasingly complex features, making them suitable for challenging vision tasks.\n",
    "\n",
    "**Dataset Description:**\n",
    "\n",
    "  We will be using the \"Animals-10\" dataset, consisting of 4500 images spread across 10 different animal classes. The dataset is split into training (3000 images), validation (750 images), and test (750 images) sets, maintaining balanced class representation within each split."
   ]
  },
  {
   "cell_type": "markdown",
   "metadata": {
    "id": "9-LA2-Ww8RB6"
   },
   "source": [
    "### 1.2. Data Loading and Preprocessing (3 points)"
   ]
  },
  {
   "cell_type": "code",
   "execution_count": 1,
   "metadata": {
    "id": "CzXEXAD68RB6"
   },
   "outputs": [],
   "source": [
    "## Import necessary libraries\n",
    "import numpy as np\n",
    "import matplotlib.pyplot as plt\n",
    "import torch\n",
    "from torch.utils.data import DataLoader\n",
    "from torchvision import datasets, transforms\n",
    "from torch import nn, optim\n",
    "import torch.nn.functional as F\n"
   ]
  },
  {
   "cell_type": "code",
   "execution_count": 2,
   "metadata": {},
   "outputs": [
    {
     "data": {
      "text/plain": [
       "device(type='cuda')"
      ]
     },
     "execution_count": 2,
     "metadata": {},
     "output_type": "execute_result"
    }
   ],
   "source": [
    "device = torch.device(\"cuda\" if torch.cuda.is_available() else \"cpu\")\n",
    "device"
   ]
  },
  {
   "cell_type": "code",
   "execution_count": 21,
   "metadata": {},
   "outputs": [
    {
     "name": "stdout",
     "output_type": "stream",
     "text": [
      "Class-to-Index Mapping: {'cane': 0, 'cavallo': 1, 'elefante': 2, 'farfalla': 3, 'gallina': 4, 'gatto': 5, 'mucca': 6, 'pecora': 7, 'ragno': 8, 'scoiattolo': 9}\n"
     ]
    }
   ],
   "source": [
    "\n",
    "# Define transformations for the training dataset (with augmentation)\n",
    "train_transform = transforms.Compose([\n",
    "    \n",
    "    transforms.ToTensor(),\n",
    "    transforms.Resize((256, 256)),\n",
    "\n",
    "    transforms.Normalize(mean=[0.485, 0.456, 0.406], std=[0.229, 0.224, 0.225]),\n",
    "    transforms.RandomHorizontalFlip(p=0.5),\n",
    "    # transforms.ColorJitter(brightness=0.1, contrast=0.1, saturation=0.1),\n",
    "    transforms.RandomAffine(degrees=(-42, 42),translate=(0.15, 0.15), scale=(0.7, 1.2),shear=(15,15)),\n",
    "\n",
    "])\n",
    "\n",
    "# Define transformations for validation/test dataset (no augmentation)\n",
    "val_test_transform = transforms.Compose([\n",
    "    transforms.Resize((256, 256)),           # Resize to 256x256\n",
    "    transforms.ToTensor(),\n",
    "    transforms.Normalize(mean=[0.485, 0.456, 0.406], std=[0.229, 0.224, 0.225])\n",
    "])\n",
    "\n",
    "# Load datasets using ImageFolder\n",
    "dataset_path = \"dataset2\"\n",
    "full_dataset = datasets.ImageFolder(root=dataset_path, transform=None)  # Temporarily set transform=None\n",
    "\n",
    "# Split into training, validation, and test sets\n",
    "train_size = 3000\n",
    "val_size = 750\n",
    "test_size = 750\n",
    "\n",
    "# seed\n",
    "torch.manual_seed(1453 + 1)\n",
    "train_dataset, val_dataset, test_dataset = torch.utils.data.random_split(\n",
    "    full_dataset, [train_size, val_size, test_size]\n",
    ")\n",
    "\n",
    "\n",
    "# Assign the appropriate transforms to each dataset\n",
    "train_dataset.dataset.transform = train_transform  # Apply augmentation to training dataset\n",
    "train_loader = DataLoader(train_dataset, batch_size=32, shuffle=True, num_workers=2)\n",
    "\n",
    "val_dataset.dataset.transform = val_test_transform  # Standard preprocessing for validation\n",
    "val_loader = DataLoader(val_dataset, batch_size=32, shuffle=False, num_workers=2)\n",
    "\n",
    "test_dataset.dataset.transform = val_test_transform  # Standard preprocessing for test\n",
    "\n",
    "# Create DataLoaders\n",
    "test_loader = DataLoader(test_dataset, batch_size=32, shuffle=False, num_workers=2)\n",
    "\n",
    "# Class-to-index mapping\n",
    "print(\"Class-to-Index Mapping:\", full_dataset.class_to_idx)\n"
   ]
  },
  {
   "cell_type": "markdown",
   "metadata": {
    "id": "O6yQkfFD8RB8"
   },
   "source": [
    "### 1.3. Define your CNN architecture (7 points)\n",
    "  I tried many different architectures and the best one with low amount parameters and smaller than 4gb(my rtx 3050 memory) is the one below. I used 5 convolutional layers with batch normalization, max-pooling, activation functions and a dropout layer to prevent overfitting. The network then uses fully connected layers at the end for classification with ReLU activations.\n",
    "\n",
    "  The CNN architecture used in this section consists of five convolutional layers interspersed with batch normalization, max-pooling, activation functions and a dropout layer to prevent overfitting. The network then uses fully connected layers at the end for classification with ReLU activations.\n",
    "\n",
    "  **Explanation:**\n",
    "\n",
    "  *   **Convolutional Layers:** Each convolutional layer is followed by batch normalization and a ReLU activation function. The number of filters and kernel sizes used help with extracting increasingly complex features.\n",
    "  *   **Max Pooling:** Max pooling layers reduce the dimensionality, helping to reduce the computational load.\n",
    "  *   **Fully Connected Layers:** The fully connected layers before output are used to map learned features to class outputs and batch normalization is used after the first fully connected layer to stabilize learning and prevent overfitting.\n",
    "  *   **ReLU Activations:** The ReLU activation function is used to introduce non-linearity.\n",
    "  *   **Dropout:** Dropout is added to fully connected layer to prevent overfitting.\n",
    "  \n",
    "  Batch normalization is added to stabilize and increase learning.\n",
    "\n",
    "  **Activation function choice:**\n",
    "\n",
    "  ReLU (Rectified Linear Unit) activation is used here after every batch normalization and convolutional layer because they are computationally efficient and help to solve the vanishing gradient problem effectively. Leaky ReLU is used for not making the output 0 in some cases and improving overall performance. "
   ]
  },
  {
   "cell_type": "code",
   "execution_count": 4,
   "metadata": {
    "id": "jYEoFWPJoZ-Y"
   },
   "outputs": [],
   "source": [
    "## Design a CNN architecture with at least 3 and at most 6 convolutional layers\n",
    "## Add activation functions (e.g., ReLU) after each convolutional layer\n",
    "## Intersperse pooling layers (e.g., max pooling) to reduce spatial dimensions\n",
    "## Add a fully connected layer at the end to map features to output classes\n",
    "\n",
    "# try with batch normalization\n",
    "class CNN(nn.Module):\n",
    "    def __init__(self):\n",
    "        super(CNN, self).__init__()\n",
    "        # parameter count = 3*3*3*16 + 3*3*16*32 + 3*3*32*64 + 64*8*8*512 + 512*256 + 256*2\n",
    "        self.conv1 = nn.Conv2d(3, 32, kernel_size=3, padding=1)\n",
    "        self.bn1 = nn.BatchNorm2d(32)\n",
    "        self.conv2 = nn.Conv2d(32, 32, kernel_size=3, padding=1)\n",
    "        self.bn2 = nn.BatchNorm2d(32)\n",
    "        self.conv3 = nn.Conv2d(32, 64, kernel_size=3, padding=1)\n",
    "        self.bn3 = nn.BatchNorm2d(64)\n",
    "        self.conv4 = nn.Conv2d(64, 64, kernel_size=3, padding=1)\n",
    "        self.conv5 = nn.Conv2d(64, 64, kernel_size=3, padding=1)\n",
    "        self.bn4 = nn.BatchNorm2d(64)\n",
    "        self.fc1 = nn.Linear(64 * 16 * 16, 128) # highest parameter count\n",
    "        self.bn_fc1 = nn.BatchNorm1d(128)\n",
    "        self.fc2 = nn.Linear(128, 64)\n",
    "        self.bn_fc2 = nn.BatchNorm1d(64)\n",
    "        self.fc3 = nn.Linear(64, 10)\n",
    "        self.pool = nn.MaxPool2d(2, 2)\n",
    "        self.dropout = nn.Dropout(0.5)\n",
    "\n",
    "    def forward(self, x):\n",
    "        x = self.pool(F.leaky_relu(self.bn1(self.conv1(x))))\n",
    "        x = self.pool(F.leaky_relu(self.bn2(self.conv2(x))))\n",
    "        x = self.pool(F.leaky_relu(self.bn3(self.conv3(x))))\n",
    "        x = F.leaky_relu(self.bn4(self.conv4(x)))\n",
    "        x = self.pool(F.leaky_relu(self.conv5(x)))\n",
    "        x = x.view(-1, 64 * 16 * 16)\n",
    "        x = self.dropout(F.leaky_relu(self.bn_fc1(self.fc1(x))))\n",
    "        x = F.leaky_relu(self.bn_fc2(self.fc2(x)))\n",
    "        x = self.fc3(x)\n",
    "        return x\n",
    "# 72% after about 120 epochs\n",
    "\n",
    "# # create CNN with different kernel size that eventually which gets concatenated\n",
    "# class CNN(nn.Module):\n",
    "#     def __init__(self):\n",
    "#         super(CNN, self).__init__()\n",
    "#         # parameter count = 3*3*3*16 + 3*3*16*32 + 3*3*32*64 + 64*8*8*512 + 512*256 + 256*2\n",
    "#         self.conv1 = nn.Conv2d(3, 16, kernel_size=3, padding=1)\n",
    "#         self.conv1_2 = nn.Conv2d(3, 16, kernel_size=5, padding=2)\n",
    "#         self.conv1_3 = nn.Conv2d(3, 16, kernel_size=7, padding=3)\n",
    "#         self.bn1 = nn.BatchNorm2d(48)\n",
    "#         self.conv2 = nn.Conv2d(48, 24, kernel_size=3, padding=1)\n",
    "#         self.conv2_2 = nn.Conv2d(48, 24, kernel_size=5, padding=2)\n",
    "#         self.bn2 = nn.BatchNorm2d(48)\n",
    "#         self.conv3 = nn.Conv2d(48, 32, kernel_size=3, padding=1)\n",
    "#         self.conv3_2 = nn.Conv2d(48, 32, kernel_size=5, padding=2)\n",
    "#         self.bn3 = nn.BatchNorm2d(64)\n",
    "#         self.fc1 = nn.Linear(64 * 32 * 32, 128)\n",
    "#         self.bn_fc1 = nn.BatchNorm1d(128)\n",
    "#         self.fc2 = nn.Linear(128, 64)\n",
    "#         self.bn_fc2 = nn.BatchNorm1d(64)\n",
    "#         self.fc3 = nn.Linear(64, 10)\n",
    "#         self.pool = nn.MaxPool2d(2, 2)\n",
    "\n",
    "#     def forward(self, x):\n",
    "#         x1 = self.conv1(x)\n",
    "#         x2 = self.conv1_2(x)\n",
    "#         x3 = self.conv1_3(x)\n",
    "#         x = torch.cat((x1, x2, x3), 1)\n",
    "#         x = self.pool(F.leaky_relu(self.bn1(x)))\n",
    "#         x1 = self.conv2(x)\n",
    "#         x2 = self.conv2_2(x)\n",
    "#         x = torch.cat((x1, x2), 1)\n",
    "#         x = self.pool(F.leaky_relu(self.bn2(x)))\n",
    "#         x1 = self.conv3(x)\n",
    "#         x2 = self.conv3_2(x)\n",
    "#         x = torch.cat((x1, x2), 1)\n",
    "#         x = self.pool(F.leaky_relu(self.bn3(x)))\n",
    "#         x = x.view(-1, 64 * 32 * 32)\n",
    "#         x = F.leaky_relu(self.bn_fc1(self.fc1(x)))\n",
    "#         x = F.leaky_relu(self.bn_fc2(self.fc2(x)))\n",
    "#         x = self.fc3(x)\n",
    "#         return x\n",
    "# 65.07% after about 50 epochs\n",
    "\n",
    "\n",
    "\n",
    "# trying to see if fc is big or small\n",
    "# class CNN(nn.Module):\n",
    "#     def __init__(self):\n",
    "#         super(CNN, self).__init__()\n",
    "#         # parameter count = 3*3*3*16 + 3*3*16*32 + 3*3*32*64 + 64*8*8*512 + 512*256 + 256*2\n",
    "#         self.conv1 = nn.Conv2d(3, 32, kernel_size=3, padding=1)\n",
    "#         self.bn1 = nn.BatchNorm2d(32)\n",
    "#         self.conv2 = nn.Conv2d(32, 32, kernel_size=3, padding=1)\n",
    "#         self.bn2 = nn.BatchNorm2d(32)\n",
    "#         self.conv3 = nn.Conv2d(32, 64, kernel_size=3, padding=1)\n",
    "#         self.bn3 = nn.BatchNorm2d(64)\n",
    "#         self.conv4 = nn.Conv2d(64, 64, kernel_size=3, padding=1)\n",
    "#         self.conv5 = nn.Conv2d(64, 64, kernel_size=3, padding=1)\n",
    "#         self.bn4 = nn.BatchNorm2d(64)\n",
    "#         self.fc1 = nn.Linear(64 * 16 * 16, 10) # highest parameter count\n",
    "#         # self.bn_fc1 = nn.BatchNorm1d(128)\n",
    "#         # self.fc2 = nn.Linear(128, 64)\n",
    "#         # self.bn_fc2 = nn.BatchNorm1d(64)\n",
    "#         # self.fc3 = nn.Linear(64, 10)\n",
    "#         self.pool = nn.MaxPool2d(2, 2)\n",
    "#         self.dropout = nn.Dropout(0.5)\n",
    "\n",
    "#     def forward(self, x):\n",
    "#         x = self.pool(F.leaky_relu(self.bn1(self.conv1(x))))\n",
    "#         x = self.pool(F.leaky_relu(self.bn2(self.conv2(x))))\n",
    "#         x = self.pool(F.leaky_relu(self.bn3(self.conv3(x))))\n",
    "#         x = F.leaky_relu(self.bn4(self.conv4(x)))\n",
    "#         x = self.pool(F.leaky_relu(self.conv5(x)))\n",
    "#         x = x.view(-1, 64 * 16 * 16)\n",
    "#         # x = self.dropout(F.leaky_relu(self.bn_fc1(self.fc1(x))))\n",
    "#         # x = F.leaky_relu(self.bn_fc2(self.fc2(x)))\n",
    "#         # x = self.fc3(x)\n",
    "#         x = self.fc1(x)\n",
    "#         return x\n",
    "# reaches 52.67% after just 10 epochs!!! many full layers are not needed\n",
    "\n",
    "\n",
    "# trying higher kernel sizes: \n",
    "# class CNN(nn.Module):\n",
    "#     def __init__(self):\n",
    "#         super(CNN, self).__init__()\n",
    "        \n",
    "#         # Conv Layer 1: Input size = 256x256x3\n",
    "#         # Kernel size = 7x7, Stride = 2, Padding = 3\n",
    "#         # Reason: Larger kernels in the initial layer capture more global features (AlexNet, VGG). Stride reduces spatial dimensions.\n",
    "#         self.conv1 = nn.Conv2d(3, 64, kernel_size=7, stride=2, padding=3)\n",
    "#         self.bn1 = nn.BatchNorm2d(64)\n",
    "        \n",
    "#         # Conv Layer 2: Input size = 128x128x64\n",
    "#         # Kernel size = 5x5, Stride = 1, Padding = 2\n",
    "#         # Reason: Intermediate kernel size to balance local and global feature extraction.\n",
    "#         self.conv2 = nn.Conv2d(64, 128, kernel_size=5, stride=1, padding=2)\n",
    "#         self.bn2 = nn.BatchNorm2d(128)\n",
    "\n",
    "#         # Conv Layer 3: Input size = 64x64x128 (after pooling)\n",
    "#         # Kernel size = 3x3, Stride = 1, Padding = 1\n",
    "#         # Reason: 3x3 is common in deeper layers for fine-grained features (Inception, ResNet).\n",
    "#         self.conv3 = nn.Conv2d(128, 256, kernel_size=3, stride=1, padding=1)\n",
    "#         self.bn3 = nn.BatchNorm2d(256)\n",
    "\n",
    "#         # Conv Layer 4: Input size = 32x32x256 (after pooling)\n",
    "#         # Kernel size = 3x3, Stride = 1, Padding = 1\n",
    "#         self.conv4 = nn.Conv2d(256, 512, kernel_size=3, stride=1, padding=1)\n",
    "#         self.bn4 = nn.BatchNorm2d(512)\n",
    "\n",
    "#         # Conv Layer 5: Input size = 16x16x512 (after pooling)\n",
    "#         # Kernel size = 3x3, Stride = 1, Padding = 1\n",
    "#         self.conv5 = nn.Conv2d(512, 512, kernel_size=3, stride=1, padding=1)\n",
    "#         self.bn5 = nn.BatchNorm2d(512)\n",
    "\n",
    "#         # MaxPooling layer: Reduces spatial dimensions after each block\n",
    "#         # Reason: Prevent overfitting and reduce computational cost.\n",
    "#         self.pool = nn.MaxPool2d(kernel_size=2, stride=2)\n",
    "\n",
    "#         # Fully Connected Layers\n",
    "#         # Flatten output size = 8x8x512 = 32768\n",
    "#         self.fc1 = nn.Linear(8 * 8 * 512, 1024)\n",
    "#         self.fc2 = nn.Linear(1024, 10)  # Assume 10 classes for classification\n",
    "\n",
    "#     def forward(self, x):\n",
    "#         x = F.relu(self.bn1(self.conv1(x)))  # Conv1 + BN + ReLU + MaxPool\n",
    "#         x = self.pool(F.relu(self.bn2(self.conv2(x))))  # Conv2 + BN + ReLU + MaxPool\n",
    "#         x = self.pool(F.relu(self.bn3(self.conv3(x))))  # Conv3 + BN + ReLU + MaxPool\n",
    "#         x = self.pool(F.relu(self.bn4(self.conv4(x))))  # Conv4 + BN + ReLU + MaxPool\n",
    "#         x = self.pool(F.relu(self.bn5(self.conv5(x))))  # Conv5 + BN + ReLU + MaxPool\n",
    "        \n",
    "#         x = x.view(-1, 8 * 8 * 512)  # Flatten the tensor\n",
    "#         x = F.relu(self.fc1(x))      # Fully Connected Layer 1 + ReLU\n",
    "#         x = self.fc2(x)              # Fully Connected Layer 2 (Output Layer)\n",
    "#         return x\n",
    "# 54% after 42 epochs either the high kernel size or stride did not work well\n",
    "# how this take so little memory?\n",
    "\n",
    "class CNN(nn.Module):\n",
    "    def __init__(self):\n",
    "        super(CNN, self).__init__()\n",
    "        # parameter count = 3*3*3*16 + 3*3*16*32 + 3*3*32*64 + 64*8*8*512 + 512*256 + 256*2\n",
    "        self.conv1 = nn.Conv2d(3, 64, kernel_size=3, padding=1)\n",
    "        self.bn1 = nn.BatchNorm2d(64)\n",
    "        self.conv2 = nn.Conv2d(64, 64, kernel_size=3, padding=1)\n",
    "        self.bn2 = nn.BatchNorm2d(64)\n",
    "        self.conv2_2 = nn.Conv2d(64, 64, kernel_size=3, padding=1)\n",
    "        self.bn2_2 = nn.BatchNorm2d(64)\n",
    "        self.conv3 = nn.Conv2d(64, 64, kernel_size=3, padding=1)\n",
    "        self.bn3 = nn.BatchNorm2d(64)\n",
    "        self.conv4 = nn.Conv2d(64, 64, kernel_size=3, padding=1)\n",
    "        self.bn4 = nn.BatchNorm2d(64)\n",
    "        self.conv5 = nn.Conv2d(64, 64, kernel_size=3, padding=1)\n",
    "        self.bn5 = nn.BatchNorm2d(64)\n",
    "        self.conv6 = nn.Conv2d(64, 64, kernel_size=3, padding=1)\n",
    "        self.bn6 = nn.BatchNorm2d(64)\n",
    "        self.fc1 = nn.Linear(64 * 8 * 8, 100) # highest parameter count\n",
    "        self.bn_fc1 = nn.BatchNorm1d(100)\n",
    "        self.fc2 = nn.Linear(100, 64)\n",
    "        self.bn_fc2 = nn.BatchNorm1d(64)\n",
    "        self.fc3 = nn.Linear(64, 10)\n",
    "        self.pool = nn.MaxPool2d(2, 2)\n",
    "        self.dropout = nn.Dropout(0.5)\n",
    "\n",
    "    def forward(self, x):\n",
    "        x = self.pool(F.leaky_relu(self.bn1(self.conv1(x))))\n",
    "        x = self.pool(F.leaky_relu(self.bn2(self.conv2(x))))\n",
    "        x = F.leaky_relu(self.bn2_2(self.conv2_2(x)))\n",
    "        x = self.pool(F.leaky_relu(self.bn3(self.conv3(x))))\n",
    "        x = F.leaky_relu(self.bn4(self.conv4(x)))\n",
    "        x = self.pool(F.leaky_relu(self.bn5(self.conv5(x))))\n",
    "        x = self.pool(F.leaky_relu(self.bn6(self.conv6(x))))\n",
    "        x = x.view(-1, 64 * 8 * 8)\n",
    "        x = self.dropout(F.leaky_relu(self.bn_fc1(self.fc1(x))))\n",
    "        x = F.leaky_relu(self.bn_fc2(self.fc2(x)))\n",
    "        x = self.fc3(x)\n",
    "        return x\n",
    "# reached 68.67% after like 90 epochs"
   ]
  },
  {
   "cell_type": "code",
   "execution_count": 5,
   "metadata": {},
   "outputs": [],
   "source": [
    "# seed\n",
    "torch.manual_seed(145)\n",
    "model = CNN().to(device)"
   ]
  },
  {
   "cell_type": "markdown",
   "metadata": {
    "id": "23njcboArttc"
   },
   "source": [
    "### 1.4 Prepare the model for training (3 points)\n",
    "\n",
    "  For model training, we will use cross-entropy loss and Adam optimizer.\n",
    "\n",
    "  **Loss Function:**\n",
    "\n",
    "  *   **Cross-Entropy Loss:** This loss function is used because we have a multi-class classification problem, which it handles effectively. It will quantify the difference between the predicted probabilities and the actual labels.\n",
    "\n",
    "  **Optimization Algorithm:**\n",
    "\n",
    "  *   **Adam Optimizer:** Adam (Adaptive Moment Estimation) was used as optimizer since it works good in a variety of problems and it calculates adaptive learning rates for different parameters, which accelerates the training process and can result in better convergence by using momentum."
   ]
  },
  {
   "cell_type": "code",
   "execution_count": 6,
   "metadata": {
    "id": "5Z7dmNGprxDo"
   },
   "outputs": [],
   "source": [
    "## Define appropriate loss function for multi-class classification (e.g., cross-entropy loss)\n",
    "criteria = nn.CrossEntropyLoss()"
   ]
  },
  {
   "cell_type": "code",
   "execution_count": 22,
   "metadata": {
    "id": "dDG_al2zr76F"
   },
   "outputs": [],
   "source": [
    "## Choose an optimizer (SGD or Adam) and set its parameters (e.g., learning rate)\n",
    "# think about lr\n",
    "optimizer = optim.Adam(model.parameters(), lr=0.0001, weight_decay=1e-5)"
   ]
  },
  {
   "cell_type": "code",
   "execution_count": 23,
   "metadata": {},
   "outputs": [
    {
     "name": "stderr",
     "output_type": "stream",
     "text": [
      "c:\\Users\\algos\\AppData\\Local\\Programs\\Python\\Python39\\lib\\site-packages\\torch\\optim\\lr_scheduler.py:60: UserWarning: The verbose parameter is deprecated. Please use get_last_lr() to access the learning rate.\n",
      "  warnings.warn(\n"
     ]
    }
   ],
   "source": [
    "# More sophisticated learning rate scheduler\n",
    "from torch.optim.lr_scheduler import ReduceLROnPlateau\n",
    "\n",
    "scheduler = ReduceLROnPlateau(\n",
    "    optimizer, \n",
    "    mode='min', \n",
    "    factor=0.3, \n",
    "    patience=5, \n",
    "    min_lr=1e-5, \n",
    "    verbose=True\n",
    ")"
   ]
  },
  {
   "cell_type": "code",
   "execution_count": 9,
   "metadata": {},
   "outputs": [
    {
     "data": {
      "text/plain": [
       "641398"
      ]
     },
     "execution_count": 9,
     "metadata": {},
     "output_type": "execute_result"
    }
   ],
   "source": [
    "# parameter count\n",
    "def count_parameters(model):\n",
    "    return sum(p.numel() for p in model.parameters() if p.requires_grad)\n",
    "count_parameters(model)"
   ]
  },
  {
   "cell_type": "code",
   "execution_count": 10,
   "metadata": {},
   "outputs": [],
   "source": [
    "train_losses, val_losses = [], []\n",
    "val_accuracies = []"
   ]
  },
  {
   "cell_type": "markdown",
   "metadata": {
    "id": "3aW87Td98RB9"
   },
   "source": [
    "### 1.5 Train and Validate the CNN model (9 points)"
   ]
  },
  {
   "cell_type": "code",
   "execution_count": 29,
   "metadata": {
    "id": "Q3DK67Y8oyKr"
   },
   "outputs": [
    {
     "name": "stdout",
     "output_type": "stream",
     "text": [
      "Epoch 1/60, Train Loss: 0.5748, Val Loss: 0.8454, Validation Accuracy: 72.00% in 32.58 sec\n",
      "Epoch 2/60, Train Loss: 0.5698, Val Loss: 0.8328, Validation Accuracy: 71.87% in 31.20 sec\n",
      "Epoch 3/60, Train Loss: 0.5728, Val Loss: 0.8311, Validation Accuracy: 71.73% in 31.64 sec\n",
      "Epoch 4/60, Train Loss: 0.5518, Val Loss: 0.8338, Validation Accuracy: 72.40% in 32.12 sec\n",
      "Epoch 5/60, Train Loss: 0.5721, Val Loss: 0.8361, Validation Accuracy: 73.20% in 32.02 sec\n",
      "Epoch 6/60, Train Loss: 0.5548, Val Loss: 0.8313, Validation Accuracy: 72.40% in 32.15 sec\n",
      "Epoch 7/60, Train Loss: 0.5772, Val Loss: 0.8465, Validation Accuracy: 72.13% in 32.24 sec\n",
      "Epoch 8/60, Train Loss: 0.5636, Val Loss: 0.8234, Validation Accuracy: 72.67% in 32.38 sec\n",
      "Epoch 9/60, Train Loss: 0.5613, Val Loss: 0.8474, Validation Accuracy: 71.87% in 32.40 sec\n",
      "Epoch 10/60, Train Loss: 0.5661, Val Loss: 0.8427, Validation Accuracy: 71.87% in 32.55 sec\n",
      "Epoch 11/60, Train Loss: 0.5925, Val Loss: 0.8347, Validation Accuracy: 71.73% in 32.29 sec\n",
      "Epoch 12/60, Train Loss: 0.5702, Val Loss: 0.8283, Validation Accuracy: 73.73% in 32.31 sec\n",
      "Epoch 13/60, Train Loss: 0.5610, Val Loss: 0.8308, Validation Accuracy: 72.27% in 32.38 sec\n",
      "Epoch 14/60, Train Loss: 0.5480, Val Loss: 0.8312, Validation Accuracy: 73.33% in 32.27 sec\n",
      "Epoch 15/60, Train Loss: 0.5842, Val Loss: 0.8281, Validation Accuracy: 72.93% in 34.42 sec\n",
      "Epoch 16/60, Train Loss: 0.5706, Val Loss: 0.8399, Validation Accuracy: 72.27% in 33.57 sec\n",
      "Epoch 17/60, Train Loss: 0.5475, Val Loss: 0.8318, Validation Accuracy: 73.20% in 33.76 sec\n",
      "Epoch 18/60, Train Loss: 0.5770, Val Loss: 0.8243, Validation Accuracy: 72.80% in 34.49 sec\n",
      "Epoch 19/60, Train Loss: 0.5655, Val Loss: 0.8474, Validation Accuracy: 72.27% in 33.90 sec\n"
     ]
    },
    {
     "ename": "KeyboardInterrupt",
     "evalue": "",
     "output_type": "error",
     "traceback": [
      "\u001b[1;31m---------------------------------------------------------------------------\u001b[0m",
      "\u001b[1;31mKeyboardInterrupt\u001b[0m                         Traceback (most recent call last)",
      "Cell \u001b[1;32mIn[29], line 26\u001b[0m\n\u001b[0;32m     24\u001b[0m     loss\u001b[38;5;241m.\u001b[39mbackward()\n\u001b[0;32m     25\u001b[0m     optimizer\u001b[38;5;241m.\u001b[39mstep()\n\u001b[1;32m---> 26\u001b[0m     train_loss \u001b[38;5;241m+\u001b[39m\u001b[38;5;241m=\u001b[39m \u001b[43mloss\u001b[49m\u001b[38;5;241;43m.\u001b[39;49m\u001b[43mitem\u001b[49m\u001b[43m(\u001b[49m\u001b[43m)\u001b[49m \u001b[38;5;241m*\u001b[39m images\u001b[38;5;241m.\u001b[39msize(\u001b[38;5;241m0\u001b[39m)\n\u001b[0;32m     27\u001b[0m train_loss \u001b[38;5;241m=\u001b[39m train_loss \u001b[38;5;241m/\u001b[39m \u001b[38;5;28mlen\u001b[39m(train_loader\u001b[38;5;241m.\u001b[39mdataset)\n\u001b[0;32m     28\u001b[0m train_losses\u001b[38;5;241m.\u001b[39mappend(train_loss)\n",
      "\u001b[1;31mKeyboardInterrupt\u001b[0m: "
     ]
    }
   ],
   "source": [
    "## Iterate over the training dataset in mini-batches\n",
    "## Implement forward pass, compute loss, and backward pass for gradient computation\n",
    "## Update model parameters using the optimizer based on computed gradients\n",
    "## Validate the model on the validation set periodically and plot the validation loss\n",
    "## Repeat the training process for a suitable number of epochs (at least 30epochs)\n",
    "\n",
    "epochs = 60\n",
    "\n",
    "# train the model\n",
    "import time\n",
    "for epoch in range(epochs):\n",
    "    time_start = time.time()\n",
    "    model.train()\n",
    "    train_loss = 0.0\n",
    "    # change transform to train_transform\n",
    "    train_dataset.dataset.transform = train_transform\n",
    "    for images, labels in train_loader:\n",
    "        images, labels = images.to(device), labels.to(device)\n",
    "\n",
    "\n",
    "        optimizer.zero_grad()\n",
    "        outputs = model(images)\n",
    "        loss = criteria(outputs, labels)\n",
    "        loss.backward()\n",
    "        optimizer.step()\n",
    "        train_loss += loss.item() * images.size(0)\n",
    "    train_loss = train_loss / len(train_loader.dataset)\n",
    "    train_losses.append(train_loss)\n",
    "    model.eval()\n",
    "    val_loss = 0.0\n",
    "    correct = 0\n",
    "    total = 0\n",
    "    val_dataset.dataset.transform = val_test_transform\n",
    "    with torch.no_grad():\n",
    "        for images, labels in val_loader:\n",
    "            images, labels = images.to(device), labels.to(device)\n",
    "            # print first images\n",
    "            # if epoch == 0:\n",
    "            #     img = images[0].cpu().numpy()\n",
    "            #     img = np.transpose(img, (1, 2, 0))\n",
    "            #     plt.imshow(img)\n",
    "            #     plt.show()\n",
    "            outputs = model(images)\n",
    "            loss = criteria(outputs, labels)\n",
    "            val_loss += loss.item() * images.size(0)\n",
    "            _, predicted = torch.max(outputs, 1)\n",
    "            total += labels.size(0)\n",
    "            correct += (predicted == labels).sum().item()\n",
    "    val_loss = val_loss / len(val_loader.dataset)\n",
    "    val_losses.append(val_loss)\n",
    "    val_accuracy = 100 * correct / total\n",
    "    val_accuracies.append(val_accuracy)\n",
    "    scheduler.step(val_loss)\n",
    "\n",
    "    print(f\"Epoch {epoch+1}/{epochs}, Train Loss: {train_loss:.4f}, Val Loss: {val_loss:.4f}\"+ f\", Validation Accuracy: {val_accuracy:.2f}% in {time.time()-time_start:.2f} sec\")"
   ]
  },
  {
   "cell_type": "code",
   "execution_count": 25,
   "metadata": {},
   "outputs": [
    {
     "name": "stdout",
     "output_type": "stream",
     "text": [
      "Current Learning Rate: 1e-05\n"
     ]
    }
   ],
   "source": [
    "# print current learning rate\n",
    "print(\"Current Learning Rate:\", optimizer.param_groups[0]['lr'])"
   ]
  },
  {
   "cell_type": "code",
   "execution_count": 26,
   "metadata": {},
   "outputs": [],
   "source": [
    "# save model\n",
    "torch.save(model.state_dict(), \"conv.pth\")"
   ]
  },
  {
   "cell_type": "code",
   "execution_count": 30,
   "metadata": {},
   "outputs": [
    {
     "name": "stdout",
     "output_type": "stream",
     "text": [
      "Predictions saved to predictions.csv\n"
     ]
    }
   ],
   "source": [
    "import os\n",
    "import torch\n",
    "import pandas as pd\n",
    "from torchvision import transforms\n",
    "from PIL import Image\n",
    "from torch.utils.data import Dataset, DataLoader\n",
    "\n",
    "# Use the same transforms as in your original preprocessing\n",
    "predict_transform = transforms.Compose([\n",
    "    transforms.Resize((256, 256)),           # Resize to 256x256\n",
    "    transforms.ToTensor(),\n",
    "    transforms.Normalize(mean=[0.485, 0.456, 0.406], std=[0.229, 0.224, 0.225])\n",
    "])\n",
    "\n",
    "class PredictionDataset(Dataset):\n",
    "    def __init__(self, image_dir, transform=None):\n",
    "        self.image_dir = image_dir\n",
    "        self.transform = transform\n",
    "        self.image_files = [f for f in os.listdir(image_dir) \n",
    "                             if f.lower().endswith(('.jpg', '.jpeg', '.png'))]\n",
    "    \n",
    "    def __len__(self):\n",
    "        return len(self.image_files)\n",
    "    \n",
    "    def __getitem__(self, idx):\n",
    "        img_name = self.image_files[idx]\n",
    "        img_path = os.path.join(self.image_dir, img_name)\n",
    "        \n",
    "        # Load image\n",
    "        image = Image.open(img_path).convert('RGB')\n",
    "        \n",
    "        # Transform image if transform is specified\n",
    "        if self.transform:\n",
    "            image = self.transform(image)\n",
    "        \n",
    "        return image, img_name\n",
    "\n",
    "def predict_images(model, image_dir, device):\n",
    "    # Set model to evaluation mode\n",
    "    model.eval()\n",
    "    \n",
    "    # Create dataset and dataloader\n",
    "    predict_dataset = PredictionDataset(image_dir, transform=predict_transform)\n",
    "    predict_loader = DataLoader(predict_dataset, batch_size=32, shuffle=False)\n",
    "    \n",
    "    # Prepare to store predictions\n",
    "    predictions = []\n",
    "    # id to name mapper\n",
    "    # Class-to-Index Mapping: {'cane': 0, 'cavallo': 1, 'elefante': 2, 'farfalla': 3, 'gallina': 4, 'gatto': 5, 'mucca': 6, 'pecora': 7, 'ragno': 8, 'scoiattolo': 9}\n",
    "    dict1 = {0: 'cane', 1: 'cavallo', 2: 'elefante', 3: 'farfalla', 4: 'gallina', 5: 'gatto', 6: 'mucca', 7: 'pecora', 8: 'ragno', 9: 'scoiattolo'}\n",
    "    # Disable gradient calculation\n",
    "    with torch.no_grad():\n",
    "        for images, img_names in predict_loader:\n",
    "            # Move images to the correct device\n",
    "            images = images.to(device)\n",
    "            \n",
    "            # Get model predictions\n",
    "            outputs = model(images)\n",
    "            \n",
    "            # Get the predicted class\n",
    "            _, predicted_classes = torch.max(outputs, 1)\n",
    "            \n",
    "            # Convert to numpy for easier handling\n",
    "            predicted_classes = predicted_classes.cpu().numpy()\n",
    "            \n",
    "            # Store results\n",
    "            for img_name, pred_class in zip(img_names, predicted_classes):\n",
    "                # Extract the image ID (filename without extension)\n",
    "                img_id = os.path.splitext(img_name)[0]\n",
    "                predictions.append({\n",
    "                    'ID': img_id,\n",
    "                    'Label': dict1[pred_class]\n",
    "                })\n",
    "    \n",
    "    return predictions\n",
    "image_dir = \"./kaggle\"\n",
    "predictions = predict_images(model, image_dir, device)\n",
    "predictions_df = pd.DataFrame(predictions)\n",
    "predictions_df.to_csv(\"predictions.csv\", index=False)\n",
    "print(\"Predictions saved to predictions.csv\")"
   ]
  },
  {
   "cell_type": "markdown",
   "metadata": {
    "id": "86YzyL-xr-Z6"
   },
   "source": [
    "Mention about, why did you choose your learning rate and batch size?\n",
    "\n",
    "First of all I can not choose a batch size bigger than 32 since it does not fit into memory. Secondly small batch sizes makes the learning more noisy and it can help the model to generalize better but a one small would be too noisy to learn properly. I chose 0.001 as learning rate since it is a common value for Adam optimizer and it is a good starting point for most of the problems. I also used a scheduler to decrease the learning rate when the validation loss does not decrease for 3 epochs. This can help the model to converge better and faster. I also test with different learning rates and 0.001 was the best one."
   ]
  },
  {
   "cell_type": "code",
   "execution_count": 13,
   "metadata": {
    "id": "aiqcJh6XgIxF"
   },
   "outputs": [
    {
     "data": {
      "image/png": "[encoded data removed]",
      "text/plain": [
       "<Figure size 1000x500 with 1 Axes>"
      ]
     },
     "metadata": {},
     "output_type": "display_data"
    },
    {
     "data": {
      "image/png": "[encoded data removed]",
      "text/plain": [
       "<Figure size 1000x500 with 1 Axes>"
      ]
     },
     "metadata": {},
     "output_type": "display_data"
    }
   ],
   "source": [
    "## Select your best model with respect to validation accuracy\n",
    "## Visualize the accuracy and loss change of the best performing model across training and validation datasets.\n",
    "plt.figure(figsize=(10, 5))\n",
    "plt.plot(train_losses, label='Training Loss')\n",
    "plt.plot(val_losses, label='Validation Loss')\n",
    "plt.xlabel('Epoch')\n",
    "plt.ylabel('Loss')\n",
    "plt.legend()\n",
    "plt.show()\n",
    "# accuracy\n",
    "plt.figure(figsize=(10, 5))\n",
    "plt.plot(val_accuracies, label='Validation Accuracy')\n",
    "plt.xlabel('Epoch')\n",
    "plt.ylabel('Accuracy')\n",
    "plt.legend()    \n",
    "plt.show()\n"
   ]
  },
  {
   "cell_type": "markdown",
   "metadata": {
    "id": "Snzyw25wy2qD"
   },
   "source": [
    "### 1.6 Evaluate the trained model on the test set (6 points)"
   ]
  },
  {
   "cell_type": "code",
   "execution_count": 31,
   "metadata": {
    "id": "QzZCISJRy7eR"
   },
   "outputs": [
    {
     "name": "stdout",
     "output_type": "stream",
     "text": [
      "Test Accuracy: 67.07%\n",
      "              precision    recall  f1-score   support\n",
      "\n",
      "           0       0.60      0.60      0.60        78\n",
      "           1       0.59      0.57      0.58        67\n",
      "           2       0.70      0.82      0.76        66\n",
      "           3       0.77      0.85      0.81        73\n",
      "           4       0.74      0.74      0.74        88\n",
      "           5       0.62      0.55      0.58        73\n",
      "           6       0.69      0.65      0.67        79\n",
      "           7       0.65      0.54      0.59        83\n",
      "           8       0.67      0.74      0.71        74\n",
      "           9       0.63      0.67      0.65        69\n",
      "\n",
      "    accuracy                           0.67       750\n",
      "   macro avg       0.67      0.67      0.67       750\n",
      "weighted avg       0.67      0.67      0.67       750\n",
      "\n"
     ]
    },
    {
     "data": {
      "image/png": "[encoded data removed]",
      "text/plain": [
       "<Figure size 1000x800 with 2 Axes>"
      ]
     },
     "metadata": {},
     "output_type": "display_data"
    }
   ],
   "source": [
    "## Test the trained model on the test set to evaluate its performance\n",
    "## Compute metrics such as accuracy, precision, recall, and F1-score\n",
    "## Visualize confusion matrix to understand the model's behavior across different classes\n",
    "## Comment on the results\n",
    "# check test accuracy\n",
    "\n",
    "from sklearn.metrics import classification_report\n",
    "y_true = []\n",
    "y_pred = []\n",
    "model.eval()\n",
    "correct = 0\n",
    "total = 0\n",
    "with torch.no_grad():\n",
    "    for images, labels in test_loader:\n",
    "        images, labels = images.to(device), labels.to(device)\n",
    "        outputs = model(images)\n",
    "        _, predicted = torch.max(outputs, 1)\n",
    "        total += labels.size(0)\n",
    "        correct += (predicted == labels).sum().item()\n",
    "        y_true.extend(labels.cpu().numpy())\n",
    "        y_pred.extend(predicted.cpu().numpy())\n",
    "test_accuracy = 100 * correct / total\n",
    "print(f\"Test Accuracy: {test_accuracy:.2f}%\")\n",
    "\n",
    "# classification report\n",
    "print(classification_report(y_true, y_pred))\n",
    "\n",
    "# confusion matrix\n",
    "from sklearn.metrics import confusion_matrix\n",
    "import seaborn as sns\n",
    "import matplotlib.pyplot as plt\n",
    "\n",
    "cm = confusion_matrix(y_true, y_pred)\n",
    "plt.figure(figsize=(10, 8))\n",
    "sns.heatmap(cm, annot=True, fmt='d', cmap='Blues')\n",
    "plt.xlabel('Predicted')\n",
    "plt.ylabel('Actual')\n",
    "plt.show()"
   ]
  },
  {
   "cell_type": "markdown",
   "metadata": {
    "id": "RCPD35O9zPri"
   },
   "source": [
    "### 1.7 Conclusion and interpretation (7 points)\n",
    "\n",
    "  The CNN model achieved an accuracy of approximately %70 on the test set. The confusion matrix can help see the model's performance for each class. \n",
    "\n",
    "  **Challenges during training:**\n",
    "\n",
    "  *   Finding optimal hyperparameter values was challenging.\n",
    "  *   Avoiding overfitting while still obtaining satisfactory performance was also hard.\n",
    "\n",
    "  **Potential areas for improvement:**\n",
    "\n",
    "  *   Maybe using other architectures like ResNet or DenseNet can improve the performance.\n",
    "  *   Bigger model (cant fit into memory)\n",
    "\n",
    "  **Overall effectiveness:**\n",
    "\n",
    "  The chosen CNN architecture, with five convolutional layers and batch normalization, along with ReLU activation and dropout, resulted in a reasonable accuracy on the dataset. However, with more sophisticated training techniques and architecture choices it can be improved."
   ]
  },
  {
   "cell_type": "markdown",
   "metadata": {
    "id": "LRSuH_PhblsG"
   },
   "source": [
    "### 1.8 Kaggle Test Result (5 points)\n",
    " The Kaggle test result for the CNN model was 68% which translates to 3.4 when multiplied by the maximum possible score of 5.\n",
    "\n",
    " The result is consistent with the performance metrics obtained during validation and testing. The model demonstrates some ability to generalize well and can classify the animal images successfully."
   ]
  },
  {
   "cell_type": "markdown",
   "metadata": {
    "id": "Jfa8FPbS8RCC"
   },
   "source": [
    "## 2. Exploring Transfer Learning with ResNet50 and MobileNet (60 points)"
   ]
  },
  {
   "cell_type": "markdown",
   "metadata": {
    "id": "70saVqfas_xw"
   },
   "source": [
    "### 2.1. Introduction\n",
    "\n",
    "  This part of the assignment explores the concept of transfer learning, where we leverage pre-trained models for image classification. Transfer learning allows us to use knowledge gained from a large dataset (like ImageNet) and apply it to a different, related task. By fine-tuning the last layers, or a larger portion of the model, we can achieve good results with a fraction of the time and effort compared to training from scratch.\n",
    "\n",
    "  **What is Fine-tuning?**\n",
    "\n",
    "  Fine-tuning is a transfer learning technique where the weights of a pre-trained model are adjusted (or tuned) to a new task. This helps to utilize the general features learned by the model and learn the particular task of classification of new data more effectively.\n",
    "\n",
    "  **Why Fine-Tuning?**\n",
    "\n",
    "  Fine-tuning is effective because:\n",
    "\n",
    "  *   It leverages existing knowledge and generalizes well.\n",
    "  *   It significantly reduces training time.\n",
    "  *   It often leads to improved performance compared to training from scratch, especially on smaller datasets.\n",
    "\n",
    "  **Why Freeze Lower Layers?**\n",
    "\n",
    "  Lower layers of a deep CNN capture more generic features (edges, corners), while deeper layers capture task-specific features. Freezing lower layers prevents them from changing drastically during fine-tuning, and also the low level features are often useful for other related task also."
   ]
  },
  {
   "cell_type": "markdown",
   "metadata": {
    "id": "7AUPSGkss_xx"
   },
   "source": [
    "### 2.2. Load the pre-trained ResNet18 model (3 points)\n"
   ]
  },
  {
   "cell_type": "code",
   "execution_count": null,
   "metadata": {},
   "outputs": [
    {
     "ename": "NameError",
     "evalue": "name 'model' is not defined",
     "output_type": "error",
     "traceback": [
      "\u001b[1;31m---------------------------------------------------------------------------\u001b[0m",
      "\u001b[1;31mNameError\u001b[0m                                 Traceback (most recent call last)",
      "Cell \u001b[1;32mIn[17], line 3\u001b[0m\n\u001b[0;32m      1\u001b[0m \u001b[38;5;66;03m# delete model for memory\u001b[39;00m\n\u001b[0;32m      2\u001b[0m \u001b[38;5;28;01mdel\u001b[39;00m resnet18\n\u001b[1;32m----> 3\u001b[0m \u001b[38;5;28;01mdel\u001b[39;00m model\n",
      "\u001b[1;31mNameError\u001b[0m: name 'model' is not defined"
     ]
    }
   ],
   "source": [
    "# delete model for memory\n",
    "del model"
   ]
  },
  {
   "cell_type": "code",
   "execution_count": null,
   "metadata": {
    "id": "ujz4g2mJs_xx"
   },
   "outputs": [
    {
     "name": "stdout",
     "output_type": "stream",
     "text": [
      "ResNet(\n",
      "  (conv1): Conv2d(3, 64, kernel_size=(7, 7), stride=(2, 2), padding=(3, 3), bias=False)\n",
      "  (bn1): BatchNorm2d(64, eps=1e-05, momentum=0.1, affine=True, track_running_stats=True)\n",
      "  (relu): ReLU(inplace=True)\n",
      "  (maxpool): MaxPool2d(kernel_size=3, stride=2, padding=1, dilation=1, ceil_mode=False)\n",
      "  (layer1): Sequential(\n",
      "    (0): BasicBlock(\n",
      "      (conv1): Conv2d(64, 64, kernel_size=(3, 3), stride=(1, 1), padding=(1, 1), bias=False)\n",
      "      (bn1): BatchNorm2d(64, eps=1e-05, momentum=0.1, affine=True, track_running_stats=True)\n",
      "      (relu): ReLU(inplace=True)\n",
      "      (conv2): Conv2d(64, 64, kernel_size=(3, 3), stride=(1, 1), padding=(1, 1), bias=False)\n",
      "      (bn2): BatchNorm2d(64, eps=1e-05, momentum=0.1, affine=True, track_running_stats=True)\n",
      "    )\n",
      "    (1): BasicBlock(\n",
      "      (conv1): Conv2d(64, 64, kernel_size=(3, 3), stride=(1, 1), padding=(1, 1), bias=False)\n",
      "      (bn1): BatchNorm2d(64, eps=1e-05, momentum=0.1, affine=True, track_running_stats=True)\n",
      "      (relu): ReLU(inplace=True)\n",
      "      (conv2): Conv2d(64, 64, kernel_size=(3, 3), stride=(1, 1), padding=(1, 1), bias=False)\n",
      "      (bn2): BatchNorm2d(64, eps=1e-05, momentum=0.1, affine=True, track_running_stats=True)\n",
      "    )\n",
      "  )\n",
      "  (layer2): Sequential(\n",
      "    (0): BasicBlock(\n",
      "      (conv1): Conv2d(64, 128, kernel_size=(3, 3), stride=(2, 2), padding=(1, 1), bias=False)\n",
      "      (bn1): BatchNorm2d(128, eps=1e-05, momentum=0.1, affine=True, track_running_stats=True)\n",
      "      (relu): ReLU(inplace=True)\n",
      "      (conv2): Conv2d(128, 128, kernel_size=(3, 3), stride=(1, 1), padding=(1, 1), bias=False)\n",
      "      (bn2): BatchNorm2d(128, eps=1e-05, momentum=0.1, affine=True, track_running_stats=True)\n",
      "      (downsample): Sequential(\n",
      "        (0): Conv2d(64, 128, kernel_size=(1, 1), stride=(2, 2), bias=False)\n",
      "        (1): BatchNorm2d(128, eps=1e-05, momentum=0.1, affine=True, track_running_stats=True)\n",
      "      )\n",
      "    )\n",
      "    (1): BasicBlock(\n",
      "      (conv1): Conv2d(128, 128, kernel_size=(3, 3), stride=(1, 1), padding=(1, 1), bias=False)\n",
      "      (bn1): BatchNorm2d(128, eps=1e-05, momentum=0.1, affine=True, track_running_stats=True)\n",
      "      (relu): ReLU(inplace=True)\n",
      "      (conv2): Conv2d(128, 128, kernel_size=(3, 3), stride=(1, 1), padding=(1, 1), bias=False)\n",
      "      (bn2): BatchNorm2d(128, eps=1e-05, momentum=0.1, affine=True, track_running_stats=True)\n",
      "    )\n",
      "  )\n",
      "  (layer3): Sequential(\n",
      "    (0): BasicBlock(\n",
      "      (conv1): Conv2d(128, 256, kernel_size=(3, 3), stride=(2, 2), padding=(1, 1), bias=False)\n",
      "      (bn1): BatchNorm2d(256, eps=1e-05, momentum=0.1, affine=True, track_running_stats=True)\n",
      "      (relu): ReLU(inplace=True)\n",
      "      (conv2): Conv2d(256, 256, kernel_size=(3, 3), stride=(1, 1), padding=(1, 1), bias=False)\n",
      "      (bn2): BatchNorm2d(256, eps=1e-05, momentum=0.1, affine=True, track_running_stats=True)\n",
      "      (downsample): Sequential(\n",
      "        (0): Conv2d(128, 256, kernel_size=(1, 1), stride=(2, 2), bias=False)\n",
      "        (1): BatchNorm2d(256, eps=1e-05, momentum=0.1, affine=True, track_running_stats=True)\n",
      "      )\n",
      "    )\n",
      "    (1): BasicBlock(\n",
      "      (conv1): Conv2d(256, 256, kernel_size=(3, 3), stride=(1, 1), padding=(1, 1), bias=False)\n",
      "      (bn1): BatchNorm2d(256, eps=1e-05, momentum=0.1, affine=True, track_running_stats=True)\n",
      "      (relu): ReLU(inplace=True)\n",
      "      (conv2): Conv2d(256, 256, kernel_size=(3, 3), stride=(1, 1), padding=(1, 1), bias=False)\n",
      "      (bn2): BatchNorm2d(256, eps=1e-05, momentum=0.1, affine=True, track_running_stats=True)\n",
      "    )\n",
      "  )\n",
      "  (layer4): Sequential(\n",
      "    (0): BasicBlock(\n",
      "      (conv1): Conv2d(256, 512, kernel_size=(3, 3), stride=(2, 2), padding=(1, 1), bias=False)\n",
      "      (bn1): BatchNorm2d(512, eps=1e-05, momentum=0.1, affine=True, track_running_stats=True)\n",
      "      (relu): ReLU(inplace=True)\n",
      "      (conv2): Conv2d(512, 512, kernel_size=(3, 3), stride=(1, 1), padding=(1, 1), bias=False)\n",
      "      (bn2): BatchNorm2d(512, eps=1e-05, momentum=0.1, affine=True, track_running_stats=True)\n",
      "      (downsample): Sequential(\n",
      "        (0): Conv2d(256, 512, kernel_size=(1, 1), stride=(2, 2), bias=False)\n",
      "        (1): BatchNorm2d(512, eps=1e-05, momentum=0.1, affine=True, track_running_stats=True)\n",
      "      )\n",
      "    )\n",
      "    (1): BasicBlock(\n",
      "      (conv1): Conv2d(512, 512, kernel_size=(3, 3), stride=(1, 1), padding=(1, 1), bias=False)\n",
      "      (bn1): BatchNorm2d(512, eps=1e-05, momentum=0.1, affine=True, track_running_stats=True)\n",
      "      (relu): ReLU(inplace=True)\n",
      "      (conv2): Conv2d(512, 512, kernel_size=(3, 3), stride=(1, 1), padding=(1, 1), bias=False)\n",
      "      (bn2): BatchNorm2d(512, eps=1e-05, momentum=0.1, affine=True, track_running_stats=True)\n",
      "    )\n",
      "  )\n",
      "  (avgpool): AdaptiveAvgPool2d(output_size=(1, 1))\n",
      "  (fc): Linear(in_features=512, out_features=1000, bias=True)\n",
      ")\n"
     ]
    },
    {
     "name": "stderr",
     "output_type": "stream",
     "text": [
      "c:\\Users\\algos\\AppData\\Local\\Programs\\Python\\Python39\\lib\\site-packages\\torchvision\\models\\_utils.py:208: UserWarning: The parameter 'pretrained' is deprecated since 0.13 and may be removed in the future, please use 'weights' instead.\n",
      "  warnings.warn(\n",
      "c:\\Users\\algos\\AppData\\Local\\Programs\\Python\\Python39\\lib\\site-packages\\torchvision\\models\\_utils.py:223: UserWarning: Arguments other than a weight enum or `None` for 'weights' are deprecated since 0.13 and may be removed in the future. The current behavior is equivalent to passing `weights=ResNet18_Weights.IMAGENET1K_V1`. You can also use `weights=ResNet18_Weights.DEFAULT` to get the most up-to-date weights.\n",
      "  warnings.warn(msg)\n"
     ]
    }
   ],
   "source": [
    "## Utilize torchvision library to load the pre-trained ResNet50 model\n",
    "## Ensure that the model's architecture matches ResNet50, by checking the model summary.\n",
    "\n",
    "import torchvision.models as models\n",
    "\n",
    "# Load the pre-trained ResNet-18 model\n",
    "resnet18 = models.resnet18(pretrained=True).to(device)\n",
    "resnet18.eval()\n",
    "print(resnet18)"
   ]
  },
  {
   "cell_type": "markdown",
   "metadata": {
    "id": "H6P7NdYbs_xx"
   },
   "source": [
    "### 2.3 Modify the ResNet18 model for transfer learning (15 points)"
   ]
  },
  {
   "cell_type": "code",
   "execution_count": null,
   "metadata": {
    "id": "s46C2XOls_xx"
   },
   "outputs": [
    {
     "name": "stderr",
     "output_type": "stream",
     "text": [
      "c:\\Users\\algos\\AppData\\Local\\Programs\\Python\\Python39\\lib\\site-packages\\torch\\optim\\lr_scheduler.py:60: UserWarning: The verbose parameter is deprecated. Please use get_last_lr() to access the learning rate.\n",
      "  warnings.warn(\n"
     ]
    }
   ],
   "source": [
    "## Freeze all layers of the ResNet18 model.\n",
    "## Replace the final fully connected layer with a new FC layer matching the number of classes\n",
    "## Unfreeze the final FC layer\n",
    "## Define appropriate loss function and optimizer for training\n",
    "## Train the modified ResNet18 model on the animal-10 image dataset. (base model)\n",
    "\n",
    "\n",
    "# Freeze all layers\n",
    "for param in resnet18.parameters():\n",
    "    param.requires_grad = False\n",
    "\n",
    "# Replace the final FC layer\n",
    "resnet18.fc = nn.Linear(resnet18.fc.in_features, 10).to(device)\n",
    "\n",
    "\n",
    "\n",
    "for param in resnet18.fc.parameters():\n",
    "    param.requires_grad = True\n",
    "\n"
   ]
  },
  {
   "cell_type": "code",
   "execution_count": null,
   "metadata": {},
   "outputs": [],
   "source": [
    "# loss\n",
    "criteria = nn.CrossEntropyLoss()\n",
    "optimizer = optim.Adam(resnet18.parameters(), lr=0.001, weight_decay=1e-5)\n",
    "# should use lineer weight decay\n",
    "scheduler = optim.lr_scheduler.StepLR(optimizer, step_size=3, gamma=0.3)\n"
   ]
  },
  {
   "cell_type": "code",
   "execution_count": null,
   "metadata": {},
   "outputs": [
    {
     "name": "stderr",
     "output_type": "stream",
     "text": [
      "c:\\Users\\algos\\AppData\\Local\\Programs\\Python\\Python39\\lib\\site-packages\\torch\\optim\\lr_scheduler.py:232: UserWarning: The epoch parameter in `scheduler.step()` was not necessary and is being deprecated where possible. Please use `scheduler.step()` to step the scheduler. During the deprecation, if epoch is different from None, the closed form is used instead of the new chainable form, where available. Please open an issue if you are unable to replicate your use case: https://github.com/pytorch/pytorch/issues/new/choose.\n",
      "  warnings.warn(EPOCH_DEPRECATION_WARNING, UserWarning)\n"
     ]
    },
    {
     "name": "stdout",
     "output_type": "stream",
     "text": [
      "Epoch 1/10, Train Loss: 0.3318, Val Loss: 0.2165, Validation Accuracy: 92.80% in 25.37 sec\n",
      "Epoch 2/10, Train Loss: 0.3111, Val Loss: 0.2062, Validation Accuracy: 93.60% in 24.86 sec\n",
      "Epoch 3/10, Train Loss: 0.3116, Val Loss: 0.2269, Validation Accuracy: 92.80% in 28.57 sec\n",
      "Epoch 4/10, Train Loss: 0.3167, Val Loss: 0.1941, Validation Accuracy: 94.40% in 29.00 sec\n",
      "Epoch 5/10, Train Loss: 0.3091, Val Loss: 0.2351, Validation Accuracy: 92.40% in 28.24 sec\n"
     ]
    },
    {
     "ename": "KeyboardInterrupt",
     "evalue": "",
     "output_type": "error",
     "traceback": [
      "\u001b[1;31m---------------------------------------------------------------------------\u001b[0m",
      "\u001b[1;31mKeyboardInterrupt\u001b[0m                         Traceback (most recent call last)",
      "Cell \u001b[1;32mIn[26], line 27\u001b[0m\n\u001b[0;32m     25\u001b[0m val_dataset\u001b[38;5;241m.\u001b[39mdataset\u001b[38;5;241m.\u001b[39mtransform \u001b[38;5;241m=\u001b[39m val_test_transform\n\u001b[0;32m     26\u001b[0m \u001b[38;5;28;01mwith\u001b[39;00m torch\u001b[38;5;241m.\u001b[39mno_grad():\n\u001b[1;32m---> 27\u001b[0m     \u001b[38;5;28;01mfor\u001b[39;00m images, labels \u001b[38;5;129;01min\u001b[39;00m val_loader:\n\u001b[0;32m     28\u001b[0m         images, labels \u001b[38;5;241m=\u001b[39m images\u001b[38;5;241m.\u001b[39mto(device), labels\u001b[38;5;241m.\u001b[39mto(device)\n\u001b[0;32m     29\u001b[0m         outputs \u001b[38;5;241m=\u001b[39m resnet18(images)\n",
      "File \u001b[1;32mc:\\Users\\algos\\AppData\\Local\\Programs\\Python\\Python39\\lib\\site-packages\\torch\\utils\\data\\dataloader.py:630\u001b[0m, in \u001b[0;36m_BaseDataLoaderIter.__next__\u001b[1;34m(self)\u001b[0m\n\u001b[0;32m    627\u001b[0m \u001b[38;5;28;01mif\u001b[39;00m \u001b[38;5;28mself\u001b[39m\u001b[38;5;241m.\u001b[39m_sampler_iter \u001b[38;5;129;01mis\u001b[39;00m \u001b[38;5;28;01mNone\u001b[39;00m:\n\u001b[0;32m    628\u001b[0m     \u001b[38;5;66;03m# TODO(https://github.com/pytorch/pytorch/issues/76750)\u001b[39;00m\n\u001b[0;32m    629\u001b[0m     \u001b[38;5;28mself\u001b[39m\u001b[38;5;241m.\u001b[39m_reset()  \u001b[38;5;66;03m# type: ignore[call-arg]\u001b[39;00m\n\u001b[1;32m--> 630\u001b[0m data \u001b[38;5;241m=\u001b[39m \u001b[38;5;28;43mself\u001b[39;49m\u001b[38;5;241;43m.\u001b[39;49m\u001b[43m_next_data\u001b[49m\u001b[43m(\u001b[49m\u001b[43m)\u001b[49m\n\u001b[0;32m    631\u001b[0m \u001b[38;5;28mself\u001b[39m\u001b[38;5;241m.\u001b[39m_num_yielded \u001b[38;5;241m+\u001b[39m\u001b[38;5;241m=\u001b[39m \u001b[38;5;241m1\u001b[39m\n\u001b[0;32m    632\u001b[0m \u001b[38;5;28;01mif\u001b[39;00m \u001b[38;5;28mself\u001b[39m\u001b[38;5;241m.\u001b[39m_dataset_kind \u001b[38;5;241m==\u001b[39m _DatasetKind\u001b[38;5;241m.\u001b[39mIterable \u001b[38;5;129;01mand\u001b[39;00m \\\n\u001b[0;32m    633\u001b[0m         \u001b[38;5;28mself\u001b[39m\u001b[38;5;241m.\u001b[39m_IterableDataset_len_called \u001b[38;5;129;01mis\u001b[39;00m \u001b[38;5;129;01mnot\u001b[39;00m \u001b[38;5;28;01mNone\u001b[39;00m \u001b[38;5;129;01mand\u001b[39;00m \\\n\u001b[0;32m    634\u001b[0m         \u001b[38;5;28mself\u001b[39m\u001b[38;5;241m.\u001b[39m_num_yielded \u001b[38;5;241m>\u001b[39m \u001b[38;5;28mself\u001b[39m\u001b[38;5;241m.\u001b[39m_IterableDataset_len_called:\n",
      "File \u001b[1;32mc:\\Users\\algos\\AppData\\Local\\Programs\\Python\\Python39\\lib\\site-packages\\torch\\utils\\data\\dataloader.py:1316\u001b[0m, in \u001b[0;36m_MultiProcessingDataLoaderIter._next_data\u001b[1;34m(self)\u001b[0m\n\u001b[0;32m   1313\u001b[0m \u001b[38;5;28;01melse\u001b[39;00m:\n\u001b[0;32m   1314\u001b[0m     \u001b[38;5;66;03m# no valid `self._rcvd_idx` is found (i.e., didn't break)\u001b[39;00m\n\u001b[0;32m   1315\u001b[0m     \u001b[38;5;28;01mif\u001b[39;00m \u001b[38;5;129;01mnot\u001b[39;00m \u001b[38;5;28mself\u001b[39m\u001b[38;5;241m.\u001b[39m_persistent_workers:\n\u001b[1;32m-> 1316\u001b[0m         \u001b[38;5;28;43mself\u001b[39;49m\u001b[38;5;241;43m.\u001b[39;49m\u001b[43m_shutdown_workers\u001b[49m\u001b[43m(\u001b[49m\u001b[43m)\u001b[49m\n\u001b[0;32m   1317\u001b[0m     \u001b[38;5;28;01mraise\u001b[39;00m \u001b[38;5;167;01mStopIteration\u001b[39;00m\n\u001b[0;32m   1319\u001b[0m \u001b[38;5;66;03m# Now `self._rcvd_idx` is the batch index we want to fetch\u001b[39;00m\n\u001b[0;32m   1320\u001b[0m \n\u001b[0;32m   1321\u001b[0m \u001b[38;5;66;03m# Check if the next sample has already been generated\u001b[39;00m\n",
      "File \u001b[1;32mc:\\Users\\algos\\AppData\\Local\\Programs\\Python\\Python39\\lib\\site-packages\\torch\\utils\\data\\dataloader.py:1441\u001b[0m, in \u001b[0;36m_MultiProcessingDataLoaderIter._shutdown_workers\u001b[1;34m(self)\u001b[0m\n\u001b[0;32m   1436\u001b[0m         \u001b[38;5;28mself\u001b[39m\u001b[38;5;241m.\u001b[39m_mark_worker_as_unavailable(worker_id, shutdown\u001b[38;5;241m=\u001b[39m\u001b[38;5;28;01mTrue\u001b[39;00m)\n\u001b[0;32m   1437\u001b[0m \u001b[38;5;28;01mfor\u001b[39;00m w \u001b[38;5;129;01min\u001b[39;00m \u001b[38;5;28mself\u001b[39m\u001b[38;5;241m.\u001b[39m_workers:\n\u001b[0;32m   1438\u001b[0m     \u001b[38;5;66;03m# We should be able to join here, but in case anything went\u001b[39;00m\n\u001b[0;32m   1439\u001b[0m     \u001b[38;5;66;03m# wrong, we set a timeout and if the workers fail to join,\u001b[39;00m\n\u001b[0;32m   1440\u001b[0m     \u001b[38;5;66;03m# they are killed in the `finally` block.\u001b[39;00m\n\u001b[1;32m-> 1441\u001b[0m     \u001b[43mw\u001b[49m\u001b[38;5;241;43m.\u001b[39;49m\u001b[43mjoin\u001b[49m\u001b[43m(\u001b[49m\u001b[43mtimeout\u001b[49m\u001b[38;5;241;43m=\u001b[39;49m\u001b[43m_utils\u001b[49m\u001b[38;5;241;43m.\u001b[39;49m\u001b[43mMP_STATUS_CHECK_INTERVAL\u001b[49m\u001b[43m)\u001b[49m\n\u001b[0;32m   1442\u001b[0m \u001b[38;5;28;01mfor\u001b[39;00m q \u001b[38;5;129;01min\u001b[39;00m \u001b[38;5;28mself\u001b[39m\u001b[38;5;241m.\u001b[39m_index_queues:\n\u001b[0;32m   1443\u001b[0m     q\u001b[38;5;241m.\u001b[39mcancel_join_thread()\n",
      "File \u001b[1;32mc:\\Users\\algos\\AppData\\Local\\Programs\\Python\\Python39\\lib\\multiprocessing\\process.py:149\u001b[0m, in \u001b[0;36mBaseProcess.join\u001b[1;34m(self, timeout)\u001b[0m\n\u001b[0;32m    147\u001b[0m \u001b[38;5;28;01massert\u001b[39;00m \u001b[38;5;28mself\u001b[39m\u001b[38;5;241m.\u001b[39m_parent_pid \u001b[38;5;241m==\u001b[39m os\u001b[38;5;241m.\u001b[39mgetpid(), \u001b[38;5;124m'\u001b[39m\u001b[38;5;124mcan only join a child process\u001b[39m\u001b[38;5;124m'\u001b[39m\n\u001b[0;32m    148\u001b[0m \u001b[38;5;28;01massert\u001b[39;00m \u001b[38;5;28mself\u001b[39m\u001b[38;5;241m.\u001b[39m_popen \u001b[38;5;129;01mis\u001b[39;00m \u001b[38;5;129;01mnot\u001b[39;00m \u001b[38;5;28;01mNone\u001b[39;00m, \u001b[38;5;124m'\u001b[39m\u001b[38;5;124mcan only join a started process\u001b[39m\u001b[38;5;124m'\u001b[39m\n\u001b[1;32m--> 149\u001b[0m res \u001b[38;5;241m=\u001b[39m \u001b[38;5;28;43mself\u001b[39;49m\u001b[38;5;241;43m.\u001b[39;49m\u001b[43m_popen\u001b[49m\u001b[38;5;241;43m.\u001b[39;49m\u001b[43mwait\u001b[49m\u001b[43m(\u001b[49m\u001b[43mtimeout\u001b[49m\u001b[43m)\u001b[49m\n\u001b[0;32m    150\u001b[0m \u001b[38;5;28;01mif\u001b[39;00m res \u001b[38;5;129;01mis\u001b[39;00m \u001b[38;5;129;01mnot\u001b[39;00m \u001b[38;5;28;01mNone\u001b[39;00m:\n\u001b[0;32m    151\u001b[0m     _children\u001b[38;5;241m.\u001b[39mdiscard(\u001b[38;5;28mself\u001b[39m)\n",
      "File \u001b[1;32mc:\\Users\\algos\\AppData\\Local\\Programs\\Python\\Python39\\lib\\multiprocessing\\popen_spawn_win32.py:108\u001b[0m, in \u001b[0;36mPopen.wait\u001b[1;34m(self, timeout)\u001b[0m\n\u001b[0;32m    105\u001b[0m \u001b[38;5;28;01melse\u001b[39;00m:\n\u001b[0;32m    106\u001b[0m     msecs \u001b[38;5;241m=\u001b[39m \u001b[38;5;28mmax\u001b[39m(\u001b[38;5;241m0\u001b[39m, \u001b[38;5;28mint\u001b[39m(timeout \u001b[38;5;241m*\u001b[39m \u001b[38;5;241m1000\u001b[39m \u001b[38;5;241m+\u001b[39m \u001b[38;5;241m0.5\u001b[39m))\n\u001b[1;32m--> 108\u001b[0m res \u001b[38;5;241m=\u001b[39m \u001b[43m_winapi\u001b[49m\u001b[38;5;241;43m.\u001b[39;49m\u001b[43mWaitForSingleObject\u001b[49m\u001b[43m(\u001b[49m\u001b[38;5;28;43mint\u001b[39;49m\u001b[43m(\u001b[49m\u001b[38;5;28;43mself\u001b[39;49m\u001b[38;5;241;43m.\u001b[39;49m\u001b[43m_handle\u001b[49m\u001b[43m)\u001b[49m\u001b[43m,\u001b[49m\u001b[43m \u001b[49m\u001b[43mmsecs\u001b[49m\u001b[43m)\u001b[49m\n\u001b[0;32m    109\u001b[0m \u001b[38;5;28;01mif\u001b[39;00m res \u001b[38;5;241m==\u001b[39m _winapi\u001b[38;5;241m.\u001b[39mWAIT_OBJECT_0:\n\u001b[0;32m    110\u001b[0m     code \u001b[38;5;241m=\u001b[39m _winapi\u001b[38;5;241m.\u001b[39mGetExitCodeProcess(\u001b[38;5;28mself\u001b[39m\u001b[38;5;241m.\u001b[39m_handle)\n",
      "\u001b[1;31mKeyboardInterrupt\u001b[0m: "
     ]
    }
   ],
   "source": [
    "# train the model\n",
    "train_losses_res, val_losses_res = [], []\n",
    "val_accuracies_res = []\n",
    "\n",
    "epochs = 10\n",
    "for epoch in range(epochs):\n",
    "    time_start = time.time()\n",
    "    resnet18.train()\n",
    "    train_loss = 0.0\n",
    "    train_dataset.dataset.transform = train_transform\n",
    "    for images, labels in train_loader:\n",
    "        images, labels = images.to(device), labels.to(device)\n",
    "        optimizer.zero_grad()\n",
    "        outputs = resnet18(images)\n",
    "        loss = criteria(outputs, labels)\n",
    "        loss.backward()\n",
    "        optimizer.step()\n",
    "        train_loss += loss.item() * images.size(0)\n",
    "    train_loss = train_loss / len(train_loader.dataset)\n",
    "    train_losses_res.append(train_loss)\n",
    "    resnet18.eval()\n",
    "    val_loss = 0.0\n",
    "    correct = 0\n",
    "    total = 0\n",
    "    val_dataset.dataset.transform = val_test_transform\n",
    "    with torch.no_grad():\n",
    "        for images, labels in val_loader:\n",
    "            images, labels = images.to(device), labels.to(device)\n",
    "            outputs = resnet18(images)\n",
    "            loss = criteria(outputs, labels)\n",
    "            val_loss += loss.item() * images.size(0)\n",
    "            _, predicted = torch.max(outputs, 1)\n",
    "            total += labels.size(0)\n",
    "            correct += (predicted == labels).sum().item()\n",
    "    val_loss = val_loss / len(val_loader.dataset)\n",
    "    val_losses_res.append(val_loss)\n",
    "    val_accuracy = 100 * correct / total\n",
    "    val_accuracies_res.append(val_accuracy)\n",
    "    scheduler.step(val_loss)\n",
    "\n",
    "    print(f\"Epoch {epoch+1}/{epochs}, Train Loss: {train_loss:.4f}, Val Loss: {val_loss:.4f}\"+ f\", Validation Accuracy: {val_accuracy:.2f}% in {time.time()-time_start:.2f} sec\")\n"
   ]
  },
  {
   "cell_type": "code",
   "execution_count": null,
   "metadata": {
    "id": "FlEHAyNX0QP0"
   },
   "outputs": [
    {
     "name": "stderr",
     "output_type": "stream",
     "text": [
      "c:\\Users\\algos\\AppData\\Local\\Programs\\Python\\Python39\\lib\\site-packages\\torchvision\\models\\_utils.py:208: UserWarning: The parameter 'pretrained' is deprecated since 0.13 and may be removed in the future, please use 'weights' instead.\n",
      "  warnings.warn(\n",
      "c:\\Users\\algos\\AppData\\Local\\Programs\\Python\\Python39\\lib\\site-packages\\torchvision\\models\\_utils.py:223: UserWarning: Arguments other than a weight enum or `None` for 'weights' are deprecated since 0.13 and may be removed in the future. The current behavior is equivalent to passing `weights=ResNet18_Weights.IMAGENET1K_V1`. You can also use `weights=ResNet18_Weights.DEFAULT` to get the most up-to-date weights.\n",
      "  warnings.warn(msg)\n"
     ]
    }
   ],
   "source": [
    "## Define another ResNet18 model\n",
    "## Freeze all layers of the ResNet18 model.\n",
    "## Replace the final fully connected layer with a new FC layer matching the number of classes\n",
    "## Unfreeze the final FC layer\n",
    "## Unfreeze convolutional layers 3 and 4 of the ResNet18 model and again proceed with training. (second model)\n",
    "\n",
    "\n",
    "# Load the pre-trained ResNet-18 model\n",
    "resnet18_2 = models.resnet18(pretrained=True).to(device)\n",
    "\n",
    "# Freeze all layers\n",
    "for param in resnet18_2.parameters():\n",
    "    param.requires_grad = False\n",
    "\n",
    "# Replace the final FC layer\n",
    "resnet18_2.fc = nn.Linear(resnet18_2.fc.in_features, 10).to(device)\n",
    "\n",
    "for param in resnet18_2.fc.parameters():\n",
    "    param.requires_grad = True\n",
    "\n",
    "for param in resnet18.layer3.parameters():\n",
    "    param.requires_grad = True\n",
    "\n",
    "for param in resnet18.layer4.parameters():\n",
    "    param.requires_grad = True"
   ]
  },
  {
   "cell_type": "code",
   "execution_count": null,
   "metadata": {},
   "outputs": [
    {
     "name": "stdout",
     "output_type": "stream",
     "text": [
      "Epoch 1/10, Train Loss: 0.3914, Val Loss: 0.2496, Validation Accuracy: 91.87% in 25.67 sec\n",
      "Epoch 2/10, Train Loss: 0.3719, Val Loss: 0.2394, Validation Accuracy: 92.00% in 25.55 sec\n",
      "Epoch 3/10, Train Loss: 0.3500, Val Loss: 0.2582, Validation Accuracy: 91.33% in 24.38 sec\n",
      "Epoch 4/10, Train Loss: 0.3323, Val Loss: 0.2068, Validation Accuracy: 93.33% in 24.10 sec\n",
      "Epoch 5/10, Train Loss: 0.3247, Val Loss: 0.2071, Validation Accuracy: 92.53% in 23.99 sec\n",
      "Epoch 6/10, Train Loss: 0.3303, Val Loss: 0.1922, Validation Accuracy: 93.47% in 22.61 sec\n",
      "Epoch 7/10, Train Loss: 0.3281, Val Loss: 0.2093, Validation Accuracy: 92.93% in 23.22 sec\n",
      "Epoch 8/10, Train Loss: 0.3097, Val Loss: 0.2043, Validation Accuracy: 93.07% in 26.08 sec\n",
      "Epoch 9/10, Train Loss: 0.2901, Val Loss: 0.2110, Validation Accuracy: 92.80% in 26.25 sec\n",
      "Epoch 10/10, Train Loss: 0.2965, Val Loss: 0.2081, Validation Accuracy: 92.80% in 26.12 sec\n"
     ]
    }
   ],
   "source": [
    "# training\n",
    "criteria = nn.CrossEntropyLoss()\n",
    "optimizer = optim.Adam(resnet18_2.parameters(), lr=0.001, weight_decay=1e-5)\n",
    "\n",
    "\n",
    "train_losses_res2, val_losses_res2 = [], []\n",
    "val_accuracies_res2 = []\n",
    "\n",
    "epochs = 10\n",
    "for epoch in range(epochs):\n",
    "    time_start = time.time()\n",
    "    resnet18_2.train()\n",
    "    train_loss = 0.0\n",
    "    train_dataset.dataset.transform = train_transform\n",
    "    for images, labels in train_loader:\n",
    "        images, labels = images.to(device), labels.to(device)\n",
    "        optimizer.zero_grad()\n",
    "        outputs = resnet18_2(images)\n",
    "        loss = criteria(outputs, labels)\n",
    "        loss.backward()\n",
    "        optimizer.step()\n",
    "        train_loss += loss.item() * images.size(0)\n",
    "    train_loss = train_loss / len(train_loader.dataset)\n",
    "    train_losses_res2.append(train_loss)\n",
    "    resnet18_2.eval()\n",
    "    val_loss = 0.0\n",
    "    correct = 0\n",
    "    total = 0\n",
    "    val_dataset.dataset.transform = val_test_transform\n",
    "    with torch.no_grad():\n",
    "        for images, labels in val_loader:\n",
    "            images, labels = images.to(device), labels.to(device)\n",
    "            outputs = resnet18_2(images)\n",
    "            loss = criteria(outputs, labels)\n",
    "            val_loss += loss.item() * images.size(0)\n",
    "            _, predicted = torch.max(outputs, 1)\n",
    "            total += labels.size(0)\n",
    "            correct += (predicted == labels).sum().item()\n",
    "    val_loss = val_loss / len(val_loader.dataset)\n",
    "    val_losses_res2.append(val_loss)\n",
    "    val_accuracy = 100 * correct / total\n",
    "    val_accuracies_res2.append(val_accuracy)\n",
    "\n",
    "    print(f\"Epoch {epoch+1}/{epochs}, Train Loss: {train_loss:.4f}, Val Loss: {val_loss:.4f}\"+ f\", Validation Accuracy: {val_accuracy:.2f}% in {time.time()-time_start:.2f} sec\")"
   ]
  },
  {
   "cell_type": "code",
   "execution_count": null,
   "metadata": {
    "id": "nCnETnfayW4A"
   },
   "outputs": [
    {
     "name": "stderr",
     "output_type": "stream",
     "text": [
      "c:\\Users\\algos\\AppData\\Local\\Programs\\Python\\Python39\\lib\\site-packages\\torchvision\\models\\_utils.py:208: UserWarning: The parameter 'pretrained' is deprecated since 0.13 and may be removed in the future, please use 'weights' instead.\n",
      "  warnings.warn(\n",
      "c:\\Users\\algos\\AppData\\Local\\Programs\\Python\\Python39\\lib\\site-packages\\torchvision\\models\\_utils.py:223: UserWarning: Arguments other than a weight enum or `None` for 'weights' are deprecated since 0.13 and may be removed in the future. The current behavior is equivalent to passing `weights=ResNet18_Weights.IMAGENET1K_V1`. You can also use `weights=ResNet18_Weights.DEFAULT` to get the most up-to-date weights.\n",
      "  warnings.warn(msg)\n",
      "c:\\Users\\algos\\AppData\\Local\\Programs\\Python\\Python39\\lib\\site-packages\\torch\\optim\\lr_scheduler.py:60: UserWarning: The verbose parameter is deprecated. Please use get_last_lr() to access the learning rate.\n",
      "  warnings.warn(\n"
     ]
    }
   ],
   "source": [
    "## Define another ResNet18 model\n",
    "## Replace the final fully connected layer with a new FC layer matching the number of classes proceed with training. (third model)\n",
    "\n",
    "\n",
    "# Load the pre-trained ResNet-18 model\n",
    "resnet18_3 = models.resnet18(pretrained=True).to(device)\n",
    "\n",
    "# dont freeze add new layer\n",
    "resnet18_3.fc = nn.Linear(resnet18_3.fc.in_features, 10).to(device)\n",
    "\n",
    "# loss\n",
    "criteria = nn.CrossEntropyLoss()\n",
    "optimizer = optim.Adam(resnet18_3.parameters(), lr=0.001, weight_decay=1e-5)\n",
    "scheduler = ReduceLROnPlateau(\n",
    "    optimizer, \n",
    "    mode='min', \n",
    "    factor=0.5, \n",
    "    patience=2, \n",
    "    min_lr=1e-5, \n",
    "    verbose=True\n",
    ")"
   ]
  },
  {
   "cell_type": "code",
   "execution_count": null,
   "metadata": {
    "id": "g8dv5zSLi2p0"
   },
   "outputs": [
    {
     "name": "stdout",
     "output_type": "stream",
     "text": [
      "Epoch 1/10, Train Loss: 1.2675, Val Loss: 2.6824, Validation Accuracy: 50.67% in 29.13 sec\n",
      "Epoch 2/10, Train Loss: 0.8809, Val Loss: 0.9611, Validation Accuracy: 71.20% in 29.45 sec\n",
      "Epoch 3/10, Train Loss: 0.8193, Val Loss: 1.9139, Validation Accuracy: 53.73% in 30.56 sec\n",
      "Epoch 4/10, Train Loss: 0.7034, Val Loss: 1.2362, Validation Accuracy: 66.93% in 29.81 sec\n",
      "Epoch 5/10, Train Loss: 0.6401, Val Loss: 0.8128, Validation Accuracy: 74.67% in 30.88 sec\n",
      "Epoch 6/10, Train Loss: 0.5501, Val Loss: 0.9975, Validation Accuracy: 72.67% in 29.81 sec\n",
      "Epoch 7/10, Train Loss: 0.5367, Val Loss: 0.8759, Validation Accuracy: 74.13% in 29.02 sec\n",
      "Epoch 8/10, Train Loss: 0.4820, Val Loss: 0.7292, Validation Accuracy: 79.33% in 29.41 sec\n"
     ]
    },
    {
     "ename": "KeyboardInterrupt",
     "evalue": "",
     "output_type": "error",
     "traceback": [
      "\u001b[1;31m---------------------------------------------------------------------------\u001b[0m",
      "\u001b[1;31mKeyboardInterrupt\u001b[0m                         Traceback (most recent call last)",
      "Cell \u001b[1;32mIn[38], line 15\u001b[0m\n\u001b[0;32m     13\u001b[0m train_loss \u001b[38;5;241m=\u001b[39m \u001b[38;5;241m0.0\u001b[39m\n\u001b[0;32m     14\u001b[0m train_dataset\u001b[38;5;241m.\u001b[39mdataset\u001b[38;5;241m.\u001b[39mtransform \u001b[38;5;241m=\u001b[39m train_transform\n\u001b[1;32m---> 15\u001b[0m \u001b[38;5;28;01mfor\u001b[39;00m images, labels \u001b[38;5;129;01min\u001b[39;00m train_loader:\n\u001b[0;32m     16\u001b[0m     images, labels \u001b[38;5;241m=\u001b[39m images\u001b[38;5;241m.\u001b[39mto(device), labels\u001b[38;5;241m.\u001b[39mto(device)\n\u001b[0;32m     17\u001b[0m     optimizer\u001b[38;5;241m.\u001b[39mzero_grad()\n",
      "File \u001b[1;32mc:\\Users\\algos\\AppData\\Local\\Programs\\Python\\Python39\\lib\\site-packages\\torch\\utils\\data\\dataloader.py:630\u001b[0m, in \u001b[0;36m_BaseDataLoaderIter.__next__\u001b[1;34m(self)\u001b[0m\n\u001b[0;32m    627\u001b[0m \u001b[38;5;28;01mif\u001b[39;00m \u001b[38;5;28mself\u001b[39m\u001b[38;5;241m.\u001b[39m_sampler_iter \u001b[38;5;129;01mis\u001b[39;00m \u001b[38;5;28;01mNone\u001b[39;00m:\n\u001b[0;32m    628\u001b[0m     \u001b[38;5;66;03m# TODO(https://github.com/pytorch/pytorch/issues/76750)\u001b[39;00m\n\u001b[0;32m    629\u001b[0m     \u001b[38;5;28mself\u001b[39m\u001b[38;5;241m.\u001b[39m_reset()  \u001b[38;5;66;03m# type: ignore[call-arg]\u001b[39;00m\n\u001b[1;32m--> 630\u001b[0m data \u001b[38;5;241m=\u001b[39m \u001b[38;5;28;43mself\u001b[39;49m\u001b[38;5;241;43m.\u001b[39;49m\u001b[43m_next_data\u001b[49m\u001b[43m(\u001b[49m\u001b[43m)\u001b[49m\n\u001b[0;32m    631\u001b[0m \u001b[38;5;28mself\u001b[39m\u001b[38;5;241m.\u001b[39m_num_yielded \u001b[38;5;241m+\u001b[39m\u001b[38;5;241m=\u001b[39m \u001b[38;5;241m1\u001b[39m\n\u001b[0;32m    632\u001b[0m \u001b[38;5;28;01mif\u001b[39;00m \u001b[38;5;28mself\u001b[39m\u001b[38;5;241m.\u001b[39m_dataset_kind \u001b[38;5;241m==\u001b[39m _DatasetKind\u001b[38;5;241m.\u001b[39mIterable \u001b[38;5;129;01mand\u001b[39;00m \\\n\u001b[0;32m    633\u001b[0m         \u001b[38;5;28mself\u001b[39m\u001b[38;5;241m.\u001b[39m_IterableDataset_len_called \u001b[38;5;129;01mis\u001b[39;00m \u001b[38;5;129;01mnot\u001b[39;00m \u001b[38;5;28;01mNone\u001b[39;00m \u001b[38;5;129;01mand\u001b[39;00m \\\n\u001b[0;32m    634\u001b[0m         \u001b[38;5;28mself\u001b[39m\u001b[38;5;241m.\u001b[39m_num_yielded \u001b[38;5;241m>\u001b[39m \u001b[38;5;28mself\u001b[39m\u001b[38;5;241m.\u001b[39m_IterableDataset_len_called:\n",
      "File \u001b[1;32mc:\\Users\\algos\\AppData\\Local\\Programs\\Python\\Python39\\lib\\site-packages\\torch\\utils\\data\\dataloader.py:1327\u001b[0m, in \u001b[0;36m_MultiProcessingDataLoaderIter._next_data\u001b[1;34m(self)\u001b[0m\n\u001b[0;32m   1324\u001b[0m     \u001b[38;5;28;01mreturn\u001b[39;00m \u001b[38;5;28mself\u001b[39m\u001b[38;5;241m.\u001b[39m_process_data(data)\n\u001b[0;32m   1326\u001b[0m \u001b[38;5;28;01massert\u001b[39;00m \u001b[38;5;129;01mnot\u001b[39;00m \u001b[38;5;28mself\u001b[39m\u001b[38;5;241m.\u001b[39m_shutdown \u001b[38;5;129;01mand\u001b[39;00m \u001b[38;5;28mself\u001b[39m\u001b[38;5;241m.\u001b[39m_tasks_outstanding \u001b[38;5;241m>\u001b[39m \u001b[38;5;241m0\u001b[39m\n\u001b[1;32m-> 1327\u001b[0m idx, data \u001b[38;5;241m=\u001b[39m \u001b[38;5;28;43mself\u001b[39;49m\u001b[38;5;241;43m.\u001b[39;49m\u001b[43m_get_data\u001b[49m\u001b[43m(\u001b[49m\u001b[43m)\u001b[49m\n\u001b[0;32m   1328\u001b[0m \u001b[38;5;28mself\u001b[39m\u001b[38;5;241m.\u001b[39m_tasks_outstanding \u001b[38;5;241m-\u001b[39m\u001b[38;5;241m=\u001b[39m \u001b[38;5;241m1\u001b[39m\n\u001b[0;32m   1329\u001b[0m \u001b[38;5;28;01mif\u001b[39;00m \u001b[38;5;28mself\u001b[39m\u001b[38;5;241m.\u001b[39m_dataset_kind \u001b[38;5;241m==\u001b[39m _DatasetKind\u001b[38;5;241m.\u001b[39mIterable:\n\u001b[0;32m   1330\u001b[0m     \u001b[38;5;66;03m# Check for _IterableDatasetStopIteration\u001b[39;00m\n",
      "File \u001b[1;32mc:\\Users\\algos\\AppData\\Local\\Programs\\Python\\Python39\\lib\\site-packages\\torch\\utils\\data\\dataloader.py:1293\u001b[0m, in \u001b[0;36m_MultiProcessingDataLoaderIter._get_data\u001b[1;34m(self)\u001b[0m\n\u001b[0;32m   1289\u001b[0m     \u001b[38;5;66;03m# In this case, `self._data_queue` is a `queue.Queue`,. But we don't\u001b[39;00m\n\u001b[0;32m   1290\u001b[0m     \u001b[38;5;66;03m# need to call `.task_done()` because we don't use `.join()`.\u001b[39;00m\n\u001b[0;32m   1291\u001b[0m \u001b[38;5;28;01melse\u001b[39;00m:\n\u001b[0;32m   1292\u001b[0m     \u001b[38;5;28;01mwhile\u001b[39;00m \u001b[38;5;28;01mTrue\u001b[39;00m:\n\u001b[1;32m-> 1293\u001b[0m         success, data \u001b[38;5;241m=\u001b[39m \u001b[38;5;28;43mself\u001b[39;49m\u001b[38;5;241;43m.\u001b[39;49m\u001b[43m_try_get_data\u001b[49m\u001b[43m(\u001b[49m\u001b[43m)\u001b[49m\n\u001b[0;32m   1294\u001b[0m         \u001b[38;5;28;01mif\u001b[39;00m success:\n\u001b[0;32m   1295\u001b[0m             \u001b[38;5;28;01mreturn\u001b[39;00m data\n",
      "File \u001b[1;32mc:\\Users\\algos\\AppData\\Local\\Programs\\Python\\Python39\\lib\\site-packages\\torch\\utils\\data\\dataloader.py:1131\u001b[0m, in \u001b[0;36m_MultiProcessingDataLoaderIter._try_get_data\u001b[1;34m(self, timeout)\u001b[0m\n\u001b[0;32m   1118\u001b[0m \u001b[38;5;28;01mdef\u001b[39;00m \u001b[38;5;21m_try_get_data\u001b[39m(\u001b[38;5;28mself\u001b[39m, timeout\u001b[38;5;241m=\u001b[39m_utils\u001b[38;5;241m.\u001b[39mMP_STATUS_CHECK_INTERVAL):\n\u001b[0;32m   1119\u001b[0m     \u001b[38;5;66;03m# Tries to fetch data from `self._data_queue` once for a given timeout.\u001b[39;00m\n\u001b[0;32m   1120\u001b[0m     \u001b[38;5;66;03m# This can also be used as inner loop of fetching without timeout, with\u001b[39;00m\n\u001b[1;32m   (...)\u001b[0m\n\u001b[0;32m   1128\u001b[0m     \u001b[38;5;66;03m# Returns a 2-tuple:\u001b[39;00m\n\u001b[0;32m   1129\u001b[0m     \u001b[38;5;66;03m#   (bool: whether successfully get data, any: data if successful else None)\u001b[39;00m\n\u001b[0;32m   1130\u001b[0m     \u001b[38;5;28;01mtry\u001b[39;00m:\n\u001b[1;32m-> 1131\u001b[0m         data \u001b[38;5;241m=\u001b[39m \u001b[38;5;28;43mself\u001b[39;49m\u001b[38;5;241;43m.\u001b[39;49m\u001b[43m_data_queue\u001b[49m\u001b[38;5;241;43m.\u001b[39;49m\u001b[43mget\u001b[49m\u001b[43m(\u001b[49m\u001b[43mtimeout\u001b[49m\u001b[38;5;241;43m=\u001b[39;49m\u001b[43mtimeout\u001b[49m\u001b[43m)\u001b[49m\n\u001b[0;32m   1132\u001b[0m         \u001b[38;5;28;01mreturn\u001b[39;00m (\u001b[38;5;28;01mTrue\u001b[39;00m, data)\n\u001b[0;32m   1133\u001b[0m     \u001b[38;5;28;01mexcept\u001b[39;00m \u001b[38;5;167;01mException\u001b[39;00m \u001b[38;5;28;01mas\u001b[39;00m e:\n\u001b[0;32m   1134\u001b[0m         \u001b[38;5;66;03m# At timeout and error, we manually check whether any worker has\u001b[39;00m\n\u001b[0;32m   1135\u001b[0m         \u001b[38;5;66;03m# failed. Note that this is the only mechanism for Windows to detect\u001b[39;00m\n\u001b[0;32m   1136\u001b[0m         \u001b[38;5;66;03m# worker failures.\u001b[39;00m\n",
      "File \u001b[1;32mc:\\Users\\algos\\AppData\\Local\\Programs\\Python\\Python39\\lib\\multiprocessing\\queues.py:113\u001b[0m, in \u001b[0;36mQueue.get\u001b[1;34m(self, block, timeout)\u001b[0m\n\u001b[0;32m    111\u001b[0m \u001b[38;5;28;01mif\u001b[39;00m block:\n\u001b[0;32m    112\u001b[0m     timeout \u001b[38;5;241m=\u001b[39m deadline \u001b[38;5;241m-\u001b[39m time\u001b[38;5;241m.\u001b[39mmonotonic()\n\u001b[1;32m--> 113\u001b[0m     \u001b[38;5;28;01mif\u001b[39;00m \u001b[38;5;129;01mnot\u001b[39;00m \u001b[38;5;28;43mself\u001b[39;49m\u001b[38;5;241;43m.\u001b[39;49m\u001b[43m_poll\u001b[49m\u001b[43m(\u001b[49m\u001b[43mtimeout\u001b[49m\u001b[43m)\u001b[49m:\n\u001b[0;32m    114\u001b[0m         \u001b[38;5;28;01mraise\u001b[39;00m Empty\n\u001b[0;32m    115\u001b[0m \u001b[38;5;28;01melif\u001b[39;00m \u001b[38;5;129;01mnot\u001b[39;00m \u001b[38;5;28mself\u001b[39m\u001b[38;5;241m.\u001b[39m_poll():\n",
      "File \u001b[1;32mc:\\Users\\algos\\AppData\\Local\\Programs\\Python\\Python39\\lib\\multiprocessing\\connection.py:262\u001b[0m, in \u001b[0;36m_ConnectionBase.poll\u001b[1;34m(self, timeout)\u001b[0m\n\u001b[0;32m    260\u001b[0m \u001b[38;5;28mself\u001b[39m\u001b[38;5;241m.\u001b[39m_check_closed()\n\u001b[0;32m    261\u001b[0m \u001b[38;5;28mself\u001b[39m\u001b[38;5;241m.\u001b[39m_check_readable()\n\u001b[1;32m--> 262\u001b[0m \u001b[38;5;28;01mreturn\u001b[39;00m \u001b[38;5;28;43mself\u001b[39;49m\u001b[38;5;241;43m.\u001b[39;49m\u001b[43m_poll\u001b[49m\u001b[43m(\u001b[49m\u001b[43mtimeout\u001b[49m\u001b[43m)\u001b[49m\n",
      "File \u001b[1;32mc:\\Users\\algos\\AppData\\Local\\Programs\\Python\\Python39\\lib\\multiprocessing\\connection.py:335\u001b[0m, in \u001b[0;36mPipeConnection._poll\u001b[1;34m(self, timeout)\u001b[0m\n\u001b[0;32m    332\u001b[0m \u001b[38;5;28;01mif\u001b[39;00m (\u001b[38;5;28mself\u001b[39m\u001b[38;5;241m.\u001b[39m_got_empty_message \u001b[38;5;129;01mor\u001b[39;00m\n\u001b[0;32m    333\u001b[0m             _winapi\u001b[38;5;241m.\u001b[39mPeekNamedPipe(\u001b[38;5;28mself\u001b[39m\u001b[38;5;241m.\u001b[39m_handle)[\u001b[38;5;241m0\u001b[39m] \u001b[38;5;241m!=\u001b[39m \u001b[38;5;241m0\u001b[39m):\n\u001b[0;32m    334\u001b[0m     \u001b[38;5;28;01mreturn\u001b[39;00m \u001b[38;5;28;01mTrue\u001b[39;00m\n\u001b[1;32m--> 335\u001b[0m \u001b[38;5;28;01mreturn\u001b[39;00m \u001b[38;5;28mbool\u001b[39m(\u001b[43mwait\u001b[49m\u001b[43m(\u001b[49m\u001b[43m[\u001b[49m\u001b[38;5;28;43mself\u001b[39;49m\u001b[43m]\u001b[49m\u001b[43m,\u001b[49m\u001b[43m \u001b[49m\u001b[43mtimeout\u001b[49m\u001b[43m)\u001b[49m)\n",
      "File \u001b[1;32mc:\\Users\\algos\\AppData\\Local\\Programs\\Python\\Python39\\lib\\multiprocessing\\connection.py:884\u001b[0m, in \u001b[0;36mwait\u001b[1;34m(object_list, timeout)\u001b[0m\n\u001b[0;32m    881\u001b[0m                 ready_objects\u001b[38;5;241m.\u001b[39madd(o)\n\u001b[0;32m    882\u001b[0m                 timeout \u001b[38;5;241m=\u001b[39m \u001b[38;5;241m0\u001b[39m\n\u001b[1;32m--> 884\u001b[0m     ready_handles \u001b[38;5;241m=\u001b[39m \u001b[43m_exhaustive_wait\u001b[49m\u001b[43m(\u001b[49m\u001b[43mwaithandle_to_obj\u001b[49m\u001b[38;5;241;43m.\u001b[39;49m\u001b[43mkeys\u001b[49m\u001b[43m(\u001b[49m\u001b[43m)\u001b[49m\u001b[43m,\u001b[49m\u001b[43m \u001b[49m\u001b[43mtimeout\u001b[49m\u001b[43m)\u001b[49m\n\u001b[0;32m    885\u001b[0m \u001b[38;5;28;01mfinally\u001b[39;00m:\n\u001b[0;32m    886\u001b[0m     \u001b[38;5;66;03m# request that overlapped reads stop\u001b[39;00m\n\u001b[0;32m    887\u001b[0m     \u001b[38;5;28;01mfor\u001b[39;00m ov \u001b[38;5;129;01min\u001b[39;00m ov_list:\n",
      "File \u001b[1;32mc:\\Users\\algos\\AppData\\Local\\Programs\\Python\\Python39\\lib\\multiprocessing\\connection.py:816\u001b[0m, in \u001b[0;36m_exhaustive_wait\u001b[1;34m(handles, timeout)\u001b[0m\n\u001b[0;32m    814\u001b[0m ready \u001b[38;5;241m=\u001b[39m []\n\u001b[0;32m    815\u001b[0m \u001b[38;5;28;01mwhile\u001b[39;00m L:\n\u001b[1;32m--> 816\u001b[0m     res \u001b[38;5;241m=\u001b[39m \u001b[43m_winapi\u001b[49m\u001b[38;5;241;43m.\u001b[39;49m\u001b[43mWaitForMultipleObjects\u001b[49m\u001b[43m(\u001b[49m\u001b[43mL\u001b[49m\u001b[43m,\u001b[49m\u001b[43m \u001b[49m\u001b[38;5;28;43;01mFalse\u001b[39;49;00m\u001b[43m,\u001b[49m\u001b[43m \u001b[49m\u001b[43mtimeout\u001b[49m\u001b[43m)\u001b[49m\n\u001b[0;32m    817\u001b[0m     \u001b[38;5;28;01mif\u001b[39;00m res \u001b[38;5;241m==\u001b[39m WAIT_TIMEOUT:\n\u001b[0;32m    818\u001b[0m         \u001b[38;5;28;01mbreak\u001b[39;00m\n",
      "\u001b[1;31mKeyboardInterrupt\u001b[0m: "
     ]
    }
   ],
   "source": [
    "## Define appropriate loss function and optimizer for training\n",
    "## Iterate over the training dataset in mini-batches, compute the loss, and update model parameters.\n",
    "## Monitor the training process and evaluate all model's performance on the validation set periodically.\n",
    "## Visualize the accuracy and loss changes of the models across training and validation datasets.\n",
    "\n",
    "train_losses_res3, val_losses_res3 = [], []\n",
    "val_accuracies_res3 = []\n",
    "\n",
    "epochs = 10\n",
    "for epoch in range(epochs):\n",
    "    time_start = time.time()\n",
    "    resnet18_3.train()\n",
    "    train_loss = 0.0\n",
    "    train_dataset.dataset.transform = train_transform\n",
    "    for images, labels in train_loader:\n",
    "        images, labels = images.to(device), labels.to(device)\n",
    "        optimizer.zero_grad()\n",
    "        outputs = resnet18_3(images)\n",
    "        loss = criteria(outputs, labels)\n",
    "        loss.backward()\n",
    "        optimizer.step()\n",
    "        train_loss += loss.item() * images.size(0)\n",
    "    train_loss = train_loss / len(train_loader.dataset)\n",
    "    train_losses_res3.append(train_loss)\n",
    "    resnet18_3.eval()\n",
    "    val_loss = 0.0\n",
    "    correct = 0\n",
    "    total = 0\n",
    "    val_dataset.dataset.transform = val_test_transform\n",
    "    with torch.no_grad():\n",
    "        for images, labels in val_loader:\n",
    "            images, labels = images.to(device), labels.to(device)\n",
    "            outputs = resnet18_3(images)\n",
    "            loss = criteria(outputs, labels)\n",
    "            val_loss += loss.item() * images.size(0)\n",
    "            _, predicted = torch.max(outputs, 1)\n",
    "            total += labels.size(0)\n",
    "            correct += (predicted == labels).sum().item()\n",
    "    val_loss = val_loss / len(val_loader.dataset)\n",
    "    val_losses_res3.append(val_loss)\n",
    "    val_accuracy = 100 * correct / total\n",
    "    val_accuracies_res3.append(val_accuracy)\n",
    "    scheduler.step(val_loss)\n",
    "\n",
    "    print(f\"Epoch {epoch+1}/{epochs}, Train Loss: {train_loss:.4f}, Val Loss: {val_loss:.4f}\"+ f\", Validation Accuracy: {val_accuracy:.2f}% in {time.time()-time_start:.2f} sec\")"
   ]
  },
  {
   "cell_type": "code",
   "execution_count": null,
   "metadata": {},
   "outputs": [
    {
     "data": {
      "image/png": "[encoded data removed]",
      "text/plain": [
       "<Figure size 1000x500 with 1 Axes>"
      ]
     },
     "metadata": {},
     "output_type": "display_data"
    },
    {
     "data": {
      "text/plain": [
       "[<matplotlib.lines.Line2D at 0x17ba108c130>]"
      ]
     },
     "execution_count": 39,
     "metadata": {},
     "output_type": "execute_result"
    },
    {
     "data": {
      "image/png": "[encoded data removed]",
      "text/plain": [
       "<Figure size 1000x500 with 1 Axes>"
      ]
     },
     "metadata": {},
     "output_type": "display_data"
    }
   ],
   "source": [
    "## Visualize the accuracy and loss changes of the models across training and validation datasets.\n",
    "\n",
    "plt.figure(figsize=(10, 5))\n",
    "plt.plot(train_losses_res, label='Training Loss Last Layer')\n",
    "plt.plot(val_losses_res, label='Validation Loss Last Layer',color='purple')\n",
    "plt.plot(train_losses_res2, label='Training Loss Last layer + conv3/4', color='red')\n",
    "plt.plot(val_losses_res2, label='Validation Loss Last layer + conv3/4', color='green')\n",
    "plt.plot(train_losses_res3, label='Training Loss All Layers', color='orange')\n",
    "plt.plot(val_losses_res3, label='Validation Loss All Layers', color='purple')\n",
    "plt.xlabel('Epoch')\n",
    "plt.ylabel('Loss')\n",
    "plt.legend()   \n",
    "plt.show()\n",
    "\n",
    "plt.figure(figsize=(10, 5))\n",
    "plt.plot(val_accuracies_res, label='Validation Accuracy Last Layer')\n",
    "plt.plot(val_accuracies_res2, label='Validation Accuracy Last layer + conv3/4', color='red')\n",
    "plt.plot(val_accuracies_res3, label='Validation Accuracy All Layers', color='green')"
   ]
  },
  {
   "cell_type": "markdown",
   "metadata": {
    "id": "Zodp-puH3wzC"
   },
   "source": [
    "Conduct a comparative analysis among these three models. Comment on their performance and select your best model with respect to validation accuracy.\n",
    "Interestingly the model with least amount of freedom(first one) performed the best. Which was probably due to architecture being deep and complex enough to learn the features. The second model performed the worst since it was too simple and the last model performed better than the second one but worse than the first one. The first model was the best one with %80 accuracy."
   ]
  },
  {
   "cell_type": "markdown",
   "metadata": {
    "id": "biAtQZdWs_xy"
   },
   "source": [
    "### 2.4 Evaluate the fine-tuned ResNet18 model (5 points)"
   ]
  },
  {
   "cell_type": "code",
   "execution_count": null,
   "metadata": {
    "executionInfo": {
     "elapsed": 258,
     "status": "ok",
     "timestamp": 1732630507299,
     "user": {
      "displayName": "Sümeyye Meryem",
      "userId": "04766981645474141012"
     },
     "user_tz": -180
    },
    "id": "4DYImwx7s_xy"
   },
   "outputs": [
    {
     "name": "stdout",
     "output_type": "stream",
     "text": [
      "Test Accuracy: 87.07%\n",
      "              precision    recall  f1-score   support\n",
      "\n",
      "           0       0.71      0.90      0.79        78\n",
      "           1       0.87      0.67      0.76        67\n",
      "           2       0.85      0.95      0.90        66\n",
      "           3       0.86      0.93      0.89        73\n",
      "           4       0.93      0.92      0.93        88\n",
      "           5       0.97      0.84      0.90        73\n",
      "           6       0.85      0.80      0.82        79\n",
      "           7       0.88      0.84      0.86        83\n",
      "           8       0.93      0.91      0.92        74\n",
      "           9       0.93      0.94      0.94        69\n",
      "\n",
      "    accuracy                           0.87       750\n",
      "   macro avg       0.88      0.87      0.87       750\n",
      "weighted avg       0.88      0.87      0.87       750\n",
      "\n"
     ]
    },
    {
     "data": {
      "image/png": "[encoded data removed]",
      "text/plain": [
       "<Figure size 1000x800 with 2 Axes>"
      ]
     },
     "metadata": {},
     "output_type": "display_data"
    }
   ],
   "source": [
    "## Test the best model on the test set to evaluate its performance.\n",
    "## Compute metrics such as accuracy, precision, recall, and F1-score to assess classification performance.\n",
    "## Visualize confusion matrix to understand the model's behavior across different classes\n",
    "## Comment on the results\n",
    "## Compare the fine-tuned ResNet18 model performance with the CNN model implemented from scratch\n",
    "\n",
    "best_model = resnet18_3\n",
    "\n",
    "if val_accuracies_res[-1] > val_accuracies_res2[-1] and val_accuracies_res[-1] > val_accuracies_res3[-1]:\n",
    "    best_model = resnet18\n",
    "if val_accuracies_res2[-1] > val_accuracies_res[-1] and val_accuracies_res2[-1] > val_accuracies_res3[-1]:\n",
    "    best_model = resnet18_2\n",
    "\n",
    "from sklearn.metrics import classification_report\n",
    "y_true = []\n",
    "y_pred = []\n",
    "best_model.eval()\n",
    "correct = 0\n",
    "total = 0\n",
    "with torch.no_grad():\n",
    "    for images, labels in test_loader:\n",
    "        images, labels = images.to(device), labels.to(device)\n",
    "        outputs = best_model(images)\n",
    "        _, predicted = torch.max(outputs, 1)\n",
    "        total += labels.size(0)\n",
    "        correct += (predicted == labels).sum().item()\n",
    "        y_true.extend(labels.cpu().numpy())\n",
    "        y_pred.extend(predicted.cpu().numpy())\n",
    "test_accuracy = 100 * correct / total\n",
    "print(f\"Test Accuracy: {test_accuracy:.2f}%\")\n",
    "\n",
    "# classification report\n",
    "print(classification_report(y_true, y_pred))\n",
    "\n",
    "# confusion matrix\n",
    "from sklearn.metrics import confusion_matrix\n",
    "import seaborn as sns\n",
    "import matplotlib.pyplot as plt\n",
    "\n",
    "cm = confusion_matrix(y_true, y_pred)\n",
    "plt.figure(figsize=(10, 8))\n",
    "sns.heatmap(cm, annot=True, fmt='d', cmap='Blues')\n",
    "plt.xlabel('Predicted')\n",
    "plt.ylabel('Actual')\n",
    "plt.show()\n"
   ]
  },
  {
   "cell_type": "code",
   "execution_count": null,
   "metadata": {},
   "outputs": [
    {
     "name": "stdout",
     "output_type": "stream",
     "text": [
      "Predictions saved to predictions.csv\n"
     ]
    }
   ],
   "source": [
    "# best model \n",
    "predictions = predict_images(best_model, image_dir, device)\n",
    "predictions_df = pd.DataFrame(predictions)\n",
    "predictions_df.to_csv(\"resnet.csv\", index=False)\n",
    "print(\"Predictions saved to predictions.csv\")\n"
   ]
  },
  {
   "cell_type": "markdown",
   "metadata": {
    "id": "16ONKvGqcmcQ"
   },
   "source": [
    "### 2.5 Kaggle Test Result (5 points)\n",
    "* Put your Kaggle test result for your ResNet-18 pretrained model here and comment on it.\n",
    "* You will get a score between 0-1 and your percentage (e.g. 0.1, 0.3, 0.6, 0.85) of accuracy will be multiplied by the highest possible score (5 points) for this part. That will be your grading score."
   ]
  },
  {
   "cell_type": "code",
   "execution_count": null,
   "metadata": {},
   "outputs": [],
   "source": [
    "del resnet18\n",
    "del resnet18_2\n",
    "del resnet18_3"
   ]
  },
  {
   "cell_type": "markdown",
   "metadata": {
    "id": "998AhkSqxRLr"
   },
   "source": [
    "### 2.7. Load the pre-trained MobileNet model (3 points)\n"
   ]
  },
  {
   "cell_type": "code",
   "execution_count": null,
   "metadata": {
    "executionInfo": {
     "elapsed": 308,
     "status": "ok",
     "timestamp": 1732629606514,
     "user": {
      "displayName": "Sümeyye Meryem",
      "userId": "04766981645474141012"
     },
     "user_tz": -180
    },
    "id": "Eas9qmLFxRLs"
   },
   "outputs": [
    {
     "name": "stderr",
     "output_type": "stream",
     "text": [
      "c:\\Users\\algos\\AppData\\Local\\Programs\\Python\\Python39\\lib\\site-packages\\torchvision\\models\\_utils.py:208: UserWarning: The parameter 'pretrained' is deprecated since 0.13 and may be removed in the future, please use 'weights' instead.\n",
      "  warnings.warn(\n",
      "c:\\Users\\algos\\AppData\\Local\\Programs\\Python\\Python39\\lib\\site-packages\\torchvision\\models\\_utils.py:223: UserWarning: Arguments other than a weight enum or `None` for 'weights' are deprecated since 0.13 and may be removed in the future. The current behavior is equivalent to passing `weights=MobileNet_V2_Weights.IMAGENET1K_V1`. You can also use `weights=MobileNet_V2_Weights.DEFAULT` to get the most up-to-date weights.\n",
      "  warnings.warn(msg)\n",
      "Exception ignored in: <function _MultiProcessingDataLoaderIter.__del__ at 0x0000017BD1B69310>\n",
      "Traceback (most recent call last):\n",
      "  File \"c:\\Users\\algos\\AppData\\Local\\Programs\\Python\\Python39\\lib\\site-packages\\torch\\utils\\data\\dataloader.py\", line 1477, in __del__\n",
      "    self._shutdown_workers()\n",
      "  File \"c:\\Users\\algos\\AppData\\Local\\Programs\\Python\\Python39\\lib\\site-packages\\torch\\utils\\data\\dataloader.py\", line 1435, in _shutdown_workers\n",
      "    if self._persistent_workers or self._workers_status[worker_id]:\n",
      "AttributeError: '_MultiProcessingDataLoaderIter' object has no attribute '_workers_status'\n"
     ]
    },
    {
     "name": "stdout",
     "output_type": "stream",
     "text": [
      "MobileNetV2(\n",
      "  (features): Sequential(\n",
      "    (0): Conv2dNormActivation(\n",
      "      (0): Conv2d(3, 32, kernel_size=(3, 3), stride=(2, 2), padding=(1, 1), bias=False)\n",
      "      (1): BatchNorm2d(32, eps=1e-05, momentum=0.1, affine=True, track_running_stats=True)\n",
      "      (2): ReLU6(inplace=True)\n",
      "    )\n",
      "    (1): InvertedResidual(\n",
      "      (conv): Sequential(\n",
      "        (0): Conv2dNormActivation(\n",
      "          (0): Conv2d(32, 32, kernel_size=(3, 3), stride=(1, 1), padding=(1, 1), groups=32, bias=False)\n",
      "          (1): BatchNorm2d(32, eps=1e-05, momentum=0.1, affine=True, track_running_stats=True)\n",
      "          (2): ReLU6(inplace=True)\n",
      "        )\n",
      "        (1): Conv2d(32, 16, kernel_size=(1, 1), stride=(1, 1), bias=False)\n",
      "        (2): BatchNorm2d(16, eps=1e-05, momentum=0.1, affine=True, track_running_stats=True)\n",
      "      )\n",
      "    )\n",
      "    (2): InvertedResidual(\n",
      "      (conv): Sequential(\n",
      "        (0): Conv2dNormActivation(\n",
      "          (0): Conv2d(16, 96, kernel_size=(1, 1), stride=(1, 1), bias=False)\n",
      "          (1): BatchNorm2d(96, eps=1e-05, momentum=0.1, affine=True, track_running_stats=True)\n",
      "          (2): ReLU6(inplace=True)\n",
      "        )\n",
      "        (1): Conv2dNormActivation(\n",
      "          (0): Conv2d(96, 96, kernel_size=(3, 3), stride=(2, 2), padding=(1, 1), groups=96, bias=False)\n",
      "          (1): BatchNorm2d(96, eps=1e-05, momentum=0.1, affine=True, track_running_stats=True)\n",
      "          (2): ReLU6(inplace=True)\n",
      "        )\n",
      "        (2): Conv2d(96, 24, kernel_size=(1, 1), stride=(1, 1), bias=False)\n",
      "        (3): BatchNorm2d(24, eps=1e-05, momentum=0.1, affine=True, track_running_stats=True)\n",
      "      )\n",
      "    )\n",
      "    (3): InvertedResidual(\n",
      "      (conv): Sequential(\n",
      "        (0): Conv2dNormActivation(\n",
      "          (0): Conv2d(24, 144, kernel_size=(1, 1), stride=(1, 1), bias=False)\n",
      "          (1): BatchNorm2d(144, eps=1e-05, momentum=0.1, affine=True, track_running_stats=True)\n",
      "          (2): ReLU6(inplace=True)\n",
      "        )\n",
      "        (1): Conv2dNormActivation(\n",
      "          (0): Conv2d(144, 144, kernel_size=(3, 3), stride=(1, 1), padding=(1, 1), groups=144, bias=False)\n",
      "          (1): BatchNorm2d(144, eps=1e-05, momentum=0.1, affine=True, track_running_stats=True)\n",
      "          (2): ReLU6(inplace=True)\n",
      "        )\n",
      "        (2): Conv2d(144, 24, kernel_size=(1, 1), stride=(1, 1), bias=False)\n",
      "        (3): BatchNorm2d(24, eps=1e-05, momentum=0.1, affine=True, track_running_stats=True)\n",
      "      )\n",
      "    )\n",
      "    (4): InvertedResidual(\n",
      "      (conv): Sequential(\n",
      "        (0): Conv2dNormActivation(\n",
      "          (0): Conv2d(24, 144, kernel_size=(1, 1), stride=(1, 1), bias=False)\n",
      "          (1): BatchNorm2d(144, eps=1e-05, momentum=0.1, affine=True, track_running_stats=True)\n",
      "          (2): ReLU6(inplace=True)\n",
      "        )\n",
      "        (1): Conv2dNormActivation(\n",
      "          (0): Conv2d(144, 144, kernel_size=(3, 3), stride=(2, 2), padding=(1, 1), groups=144, bias=False)\n",
      "          (1): BatchNorm2d(144, eps=1e-05, momentum=0.1, affine=True, track_running_stats=True)\n",
      "          (2): ReLU6(inplace=True)\n",
      "        )\n",
      "        (2): Conv2d(144, 32, kernel_size=(1, 1), stride=(1, 1), bias=False)\n",
      "        (3): BatchNorm2d(32, eps=1e-05, momentum=0.1, affine=True, track_running_stats=True)\n",
      "      )\n",
      "    )\n",
      "    (5): InvertedResidual(\n",
      "      (conv): Sequential(\n",
      "        (0): Conv2dNormActivation(\n",
      "          (0): Conv2d(32, 192, kernel_size=(1, 1), stride=(1, 1), bias=False)\n",
      "          (1): BatchNorm2d(192, eps=1e-05, momentum=0.1, affine=True, track_running_stats=True)\n",
      "          (2): ReLU6(inplace=True)\n",
      "        )\n",
      "        (1): Conv2dNormActivation(\n",
      "          (0): Conv2d(192, 192, kernel_size=(3, 3), stride=(1, 1), padding=(1, 1), groups=192, bias=False)\n",
      "          (1): BatchNorm2d(192, eps=1e-05, momentum=0.1, affine=True, track_running_stats=True)\n",
      "          (2): ReLU6(inplace=True)\n",
      "        )\n",
      "        (2): Conv2d(192, 32, kernel_size=(1, 1), stride=(1, 1), bias=False)\n",
      "        (3): BatchNorm2d(32, eps=1e-05, momentum=0.1, affine=True, track_running_stats=True)\n",
      "      )\n",
      "    )\n",
      "    (6): InvertedResidual(\n",
      "      (conv): Sequential(\n",
      "        (0): Conv2dNormActivation(\n",
      "          (0): Conv2d(32, 192, kernel_size=(1, 1), stride=(1, 1), bias=False)\n",
      "          (1): BatchNorm2d(192, eps=1e-05, momentum=0.1, affine=True, track_running_stats=True)\n",
      "          (2): ReLU6(inplace=True)\n",
      "        )\n",
      "        (1): Conv2dNormActivation(\n",
      "          (0): Conv2d(192, 192, kernel_size=(3, 3), stride=(1, 1), padding=(1, 1), groups=192, bias=False)\n",
      "          (1): BatchNorm2d(192, eps=1e-05, momentum=0.1, affine=True, track_running_stats=True)\n",
      "          (2): ReLU6(inplace=True)\n",
      "        )\n",
      "        (2): Conv2d(192, 32, kernel_size=(1, 1), stride=(1, 1), bias=False)\n",
      "        (3): BatchNorm2d(32, eps=1e-05, momentum=0.1, affine=True, track_running_stats=True)\n",
      "      )\n",
      "    )\n",
      "    (7): InvertedResidual(\n",
      "      (conv): Sequential(\n",
      "        (0): Conv2dNormActivation(\n",
      "          (0): Conv2d(32, 192, kernel_size=(1, 1), stride=(1, 1), bias=False)\n",
      "          (1): BatchNorm2d(192, eps=1e-05, momentum=0.1, affine=True, track_running_stats=True)\n",
      "          (2): ReLU6(inplace=True)\n",
      "        )\n",
      "        (1): Conv2dNormActivation(\n",
      "          (0): Conv2d(192, 192, kernel_size=(3, 3), stride=(2, 2), padding=(1, 1), groups=192, bias=False)\n",
      "          (1): BatchNorm2d(192, eps=1e-05, momentum=0.1, affine=True, track_running_stats=True)\n",
      "          (2): ReLU6(inplace=True)\n",
      "        )\n",
      "        (2): Conv2d(192, 64, kernel_size=(1, 1), stride=(1, 1), bias=False)\n",
      "        (3): BatchNorm2d(64, eps=1e-05, momentum=0.1, affine=True, track_running_stats=True)\n",
      "      )\n",
      "    )\n",
      "    (8): InvertedResidual(\n",
      "      (conv): Sequential(\n",
      "        (0): Conv2dNormActivation(\n",
      "          (0): Conv2d(64, 384, kernel_size=(1, 1), stride=(1, 1), bias=False)\n",
      "          (1): BatchNorm2d(384, eps=1e-05, momentum=0.1, affine=True, track_running_stats=True)\n",
      "          (2): ReLU6(inplace=True)\n",
      "        )\n",
      "        (1): Conv2dNormActivation(\n",
      "          (0): Conv2d(384, 384, kernel_size=(3, 3), stride=(1, 1), padding=(1, 1), groups=384, bias=False)\n",
      "          (1): BatchNorm2d(384, eps=1e-05, momentum=0.1, affine=True, track_running_stats=True)\n",
      "          (2): ReLU6(inplace=True)\n",
      "        )\n",
      "        (2): Conv2d(384, 64, kernel_size=(1, 1), stride=(1, 1), bias=False)\n",
      "        (3): BatchNorm2d(64, eps=1e-05, momentum=0.1, affine=True, track_running_stats=True)\n",
      "      )\n",
      "    )\n",
      "    (9): InvertedResidual(\n",
      "      (conv): Sequential(\n",
      "        (0): Conv2dNormActivation(\n",
      "          (0): Conv2d(64, 384, kernel_size=(1, 1), stride=(1, 1), bias=False)\n",
      "          (1): BatchNorm2d(384, eps=1e-05, momentum=0.1, affine=True, track_running_stats=True)\n",
      "          (2): ReLU6(inplace=True)\n",
      "        )\n",
      "        (1): Conv2dNormActivation(\n",
      "          (0): Conv2d(384, 384, kernel_size=(3, 3), stride=(1, 1), padding=(1, 1), groups=384, bias=False)\n",
      "          (1): BatchNorm2d(384, eps=1e-05, momentum=0.1, affine=True, track_running_stats=True)\n",
      "          (2): ReLU6(inplace=True)\n",
      "        )\n",
      "        (2): Conv2d(384, 64, kernel_size=(1, 1), stride=(1, 1), bias=False)\n",
      "        (3): BatchNorm2d(64, eps=1e-05, momentum=0.1, affine=True, track_running_stats=True)\n",
      "      )\n",
      "    )\n",
      "    (10): InvertedResidual(\n",
      "      (conv): Sequential(\n",
      "        (0): Conv2dNormActivation(\n",
      "          (0): Conv2d(64, 384, kernel_size=(1, 1), stride=(1, 1), bias=False)\n",
      "          (1): BatchNorm2d(384, eps=1e-05, momentum=0.1, affine=True, track_running_stats=True)\n",
      "          (2): ReLU6(inplace=True)\n",
      "        )\n",
      "        (1): Conv2dNormActivation(\n",
      "          (0): Conv2d(384, 384, kernel_size=(3, 3), stride=(1, 1), padding=(1, 1), groups=384, bias=False)\n",
      "          (1): BatchNorm2d(384, eps=1e-05, momentum=0.1, affine=True, track_running_stats=True)\n",
      "          (2): ReLU6(inplace=True)\n",
      "        )\n",
      "        (2): Conv2d(384, 64, kernel_size=(1, 1), stride=(1, 1), bias=False)\n",
      "        (3): BatchNorm2d(64, eps=1e-05, momentum=0.1, affine=True, track_running_stats=True)\n",
      "      )\n",
      "    )\n",
      "    (11): InvertedResidual(\n",
      "      (conv): Sequential(\n",
      "        (0): Conv2dNormActivation(\n",
      "          (0): Conv2d(64, 384, kernel_size=(1, 1), stride=(1, 1), bias=False)\n",
      "          (1): BatchNorm2d(384, eps=1e-05, momentum=0.1, affine=True, track_running_stats=True)\n",
      "          (2): ReLU6(inplace=True)\n",
      "        )\n",
      "        (1): Conv2dNormActivation(\n",
      "          (0): Conv2d(384, 384, kernel_size=(3, 3), stride=(1, 1), padding=(1, 1), groups=384, bias=False)\n",
      "          (1): BatchNorm2d(384, eps=1e-05, momentum=0.1, affine=True, track_running_stats=True)\n",
      "          (2): ReLU6(inplace=True)\n",
      "        )\n",
      "        (2): Conv2d(384, 96, kernel_size=(1, 1), stride=(1, 1), bias=False)\n",
      "        (3): BatchNorm2d(96, eps=1e-05, momentum=0.1, affine=True, track_running_stats=True)\n",
      "      )\n",
      "    )\n",
      "    (12): InvertedResidual(\n",
      "      (conv): Sequential(\n",
      "        (0): Conv2dNormActivation(\n",
      "          (0): Conv2d(96, 576, kernel_size=(1, 1), stride=(1, 1), bias=False)\n",
      "          (1): BatchNorm2d(576, eps=1e-05, momentum=0.1, affine=True, track_running_stats=True)\n",
      "          (2): ReLU6(inplace=True)\n",
      "        )\n",
      "        (1): Conv2dNormActivation(\n",
      "          (0): Conv2d(576, 576, kernel_size=(3, 3), stride=(1, 1), padding=(1, 1), groups=576, bias=False)\n",
      "          (1): BatchNorm2d(576, eps=1e-05, momentum=0.1, affine=True, track_running_stats=True)\n",
      "          (2): ReLU6(inplace=True)\n",
      "        )\n",
      "        (2): Conv2d(576, 96, kernel_size=(1, 1), stride=(1, 1), bias=False)\n",
      "        (3): BatchNorm2d(96, eps=1e-05, momentum=0.1, affine=True, track_running_stats=True)\n",
      "      )\n",
      "    )\n",
      "    (13): InvertedResidual(\n",
      "      (conv): Sequential(\n",
      "        (0): Conv2dNormActivation(\n",
      "          (0): Conv2d(96, 576, kernel_size=(1, 1), stride=(1, 1), bias=False)\n",
      "          (1): BatchNorm2d(576, eps=1e-05, momentum=0.1, affine=True, track_running_stats=True)\n",
      "          (2): ReLU6(inplace=True)\n",
      "        )\n",
      "        (1): Conv2dNormActivation(\n",
      "          (0): Conv2d(576, 576, kernel_size=(3, 3), stride=(1, 1), padding=(1, 1), groups=576, bias=False)\n",
      "          (1): BatchNorm2d(576, eps=1e-05, momentum=0.1, affine=True, track_running_stats=True)\n",
      "          (2): ReLU6(inplace=True)\n",
      "        )\n",
      "        (2): Conv2d(576, 96, kernel_size=(1, 1), stride=(1, 1), bias=False)\n",
      "        (3): BatchNorm2d(96, eps=1e-05, momentum=0.1, affine=True, track_running_stats=True)\n",
      "      )\n",
      "    )\n",
      "    (14): InvertedResidual(\n",
      "      (conv): Sequential(\n",
      "        (0): Conv2dNormActivation(\n",
      "          (0): Conv2d(96, 576, kernel_size=(1, 1), stride=(1, 1), bias=False)\n",
      "          (1): BatchNorm2d(576, eps=1e-05, momentum=0.1, affine=True, track_running_stats=True)\n",
      "          (2): ReLU6(inplace=True)\n",
      "        )\n",
      "        (1): Conv2dNormActivation(\n",
      "          (0): Conv2d(576, 576, kernel_size=(3, 3), stride=(2, 2), padding=(1, 1), groups=576, bias=False)\n",
      "          (1): BatchNorm2d(576, eps=1e-05, momentum=0.1, affine=True, track_running_stats=True)\n",
      "          (2): ReLU6(inplace=True)\n",
      "        )\n",
      "        (2): Conv2d(576, 160, kernel_size=(1, 1), stride=(1, 1), bias=False)\n",
      "        (3): BatchNorm2d(160, eps=1e-05, momentum=0.1, affine=True, track_running_stats=True)\n",
      "      )\n",
      "    )\n",
      "    (15): InvertedResidual(\n",
      "      (conv): Sequential(\n",
      "        (0): Conv2dNormActivation(\n",
      "          (0): Conv2d(160, 960, kernel_size=(1, 1), stride=(1, 1), bias=False)\n",
      "          (1): BatchNorm2d(960, eps=1e-05, momentum=0.1, affine=True, track_running_stats=True)\n",
      "          (2): ReLU6(inplace=True)\n",
      "        )\n",
      "        (1): Conv2dNormActivation(\n",
      "          (0): Conv2d(960, 960, kernel_size=(3, 3), stride=(1, 1), padding=(1, 1), groups=960, bias=False)\n",
      "          (1): BatchNorm2d(960, eps=1e-05, momentum=0.1, affine=True, track_running_stats=True)\n",
      "          (2): ReLU6(inplace=True)\n",
      "        )\n",
      "        (2): Conv2d(960, 160, kernel_size=(1, 1), stride=(1, 1), bias=False)\n",
      "        (3): BatchNorm2d(160, eps=1e-05, momentum=0.1, affine=True, track_running_stats=True)\n",
      "      )\n",
      "    )\n",
      "    (16): InvertedResidual(\n",
      "      (conv): Sequential(\n",
      "        (0): Conv2dNormActivation(\n",
      "          (0): Conv2d(160, 960, kernel_size=(1, 1), stride=(1, 1), bias=False)\n",
      "          (1): BatchNorm2d(960, eps=1e-05, momentum=0.1, affine=True, track_running_stats=True)\n",
      "          (2): ReLU6(inplace=True)\n",
      "        )\n",
      "        (1): Conv2dNormActivation(\n",
      "          (0): Conv2d(960, 960, kernel_size=(3, 3), stride=(1, 1), padding=(1, 1), groups=960, bias=False)\n",
      "          (1): BatchNorm2d(960, eps=1e-05, momentum=0.1, affine=True, track_running_stats=True)\n",
      "          (2): ReLU6(inplace=True)\n",
      "        )\n",
      "        (2): Conv2d(960, 160, kernel_size=(1, 1), stride=(1, 1), bias=False)\n",
      "        (3): BatchNorm2d(160, eps=1e-05, momentum=0.1, affine=True, track_running_stats=True)\n",
      "      )\n",
      "    )\n",
      "    (17): InvertedResidual(\n",
      "      (conv): Sequential(\n",
      "        (0): Conv2dNormActivation(\n",
      "          (0): Conv2d(160, 960, kernel_size=(1, 1), stride=(1, 1), bias=False)\n",
      "          (1): BatchNorm2d(960, eps=1e-05, momentum=0.1, affine=True, track_running_stats=True)\n",
      "          (2): ReLU6(inplace=True)\n",
      "        )\n",
      "        (1): Conv2dNormActivation(\n",
      "          (0): Conv2d(960, 960, kernel_size=(3, 3), stride=(1, 1), padding=(1, 1), groups=960, bias=False)\n",
      "          (1): BatchNorm2d(960, eps=1e-05, momentum=0.1, affine=True, track_running_stats=True)\n",
      "          (2): ReLU6(inplace=True)\n",
      "        )\n",
      "        (2): Conv2d(960, 320, kernel_size=(1, 1), stride=(1, 1), bias=False)\n",
      "        (3): BatchNorm2d(320, eps=1e-05, momentum=0.1, affine=True, track_running_stats=True)\n",
      "      )\n",
      "    )\n",
      "    (18): Conv2dNormActivation(\n",
      "      (0): Conv2d(320, 1280, kernel_size=(1, 1), stride=(1, 1), bias=False)\n",
      "      (1): BatchNorm2d(1280, eps=1e-05, momentum=0.1, affine=True, track_running_stats=True)\n",
      "      (2): ReLU6(inplace=True)\n",
      "    )\n",
      "  )\n",
      "  (classifier): Sequential(\n",
      "    (0): Dropout(p=0.2, inplace=False)\n",
      "    (1): Linear(in_features=1280, out_features=1000, bias=True)\n",
      "  )\n",
      ")\n"
     ]
    }
   ],
   "source": [
    "## Utilize torchvision library to load the pre-trained MobileNetV2 model\n",
    "## Ensure that the model's architecture matches MobileNetV2, by checking the model summary.\n",
    "\n",
    "import torchvision.models as models\n",
    "\n",
    "# Load the pre-trained MobileNetV2 model\n",
    "mobilenet_v2 = models.mobilenet_v2(pretrained=True).to(device)\n",
    "\n",
    "print(mobilenet_v2)"
   ]
  },
  {
   "cell_type": "markdown",
   "metadata": {
    "id": "RkIZHLEXxcFu"
   },
   "source": [
    "### 2.8 Modify the MobileNet model for transfer learning (10 points)"
   ]
  },
  {
   "cell_type": "code",
   "execution_count": null,
   "metadata": {
    "id": "tFW5CF46xcFv"
   },
   "outputs": [],
   "source": [
    "## Freeze all layers of the MobileNet model.\n",
    "## Replace the final fully connected layer with a new FC layer matching the number of classes\n",
    "## Unfreeze the final FC layer\n",
    "## Define appropriate loss function and optimizer for training\n",
    "## Train the modified MobileNet model on the animal-10 image dataset. (base model)\n",
    "\n",
    "# Freeze all layers\n",
    "for param in mobilenet_v2.parameters():\n",
    "    param.requires_grad = False\n",
    "\n",
    "# Replace the final FC layer\n",
    "mobilenet_v2.classifier[1] = nn.Linear(mobilenet_v2.classifier[1].in_features, 10).to(device)\n",
    "\n",
    "for param in mobilenet_v2.classifier[1].parameters():\n",
    "    param.requires_grad = True\n",
    "\n",
    "# loss\n",
    "criteria = nn.CrossEntropyLoss()\n",
    "optimizer = optim.Adam(mobilenet_v2.parameters(), lr=0.001, weight_decay=1e-5)\n",
    "\n",
    "# training\n",
    "train_losses_mob, val_losses_mob = [], []\n",
    "val_accuracies_mob = []\n"
   ]
  },
  {
   "cell_type": "code",
   "execution_count": null,
   "metadata": {},
   "outputs": [
    {
     "name": "stdout",
     "output_type": "stream",
     "text": [
      "Epoch 1/10, Train Loss: 1.1650, Val Loss: 0.4904, Validation Accuracy: 88.00% in 26.05 sec\n",
      "Epoch 2/10, Train Loss: 0.6014, Val Loss: 0.3349, Validation Accuracy: 91.33% in 26.61 sec\n",
      "Epoch 3/10, Train Loss: 0.4969, Val Loss: 0.2957, Validation Accuracy: 90.80% in 26.42 sec\n",
      "Epoch 4/10, Train Loss: 0.4425, Val Loss: 0.2843, Validation Accuracy: 91.73% in 25.75 sec\n",
      "Epoch 5/10, Train Loss: 0.4062, Val Loss: 0.2396, Validation Accuracy: 92.53% in 25.17 sec\n",
      "Epoch 6/10, Train Loss: 0.4016, Val Loss: 0.2364, Validation Accuracy: 92.67% in 26.66 sec\n",
      "Epoch 7/10, Train Loss: 0.3757, Val Loss: 0.2357, Validation Accuracy: 92.00% in 26.74 sec\n",
      "Epoch 8/10, Train Loss: 0.3596, Val Loss: 0.2118, Validation Accuracy: 93.87% in 26.79 sec\n",
      "Epoch 9/10, Train Loss: 0.3645, Val Loss: 0.2284, Validation Accuracy: 92.53% in 26.79 sec\n",
      "Epoch 10/10, Train Loss: 0.3332, Val Loss: 0.2309, Validation Accuracy: 92.67% in 26.98 sec\n"
     ]
    }
   ],
   "source": [
    "# training\n",
    "epochs = 10\n",
    "for epoch in range(epochs):\n",
    "    time_start = time.time()\n",
    "    mobilenet_v2.train()\n",
    "    train_loss = 0.0\n",
    "    train_dataset.dataset.transform = train_transform\n",
    "    for images, labels in train_loader:\n",
    "        images, labels = images.to(device), labels.to(device)\n",
    "        optimizer.zero_grad()\n",
    "        outputs = mobilenet_v2(images)\n",
    "        loss = criteria(outputs, labels)\n",
    "        loss.backward()\n",
    "        optimizer.step()\n",
    "        train_loss += loss.item() * images.size(0)\n",
    "    train_loss = train_loss / len(train_loader.dataset)\n",
    "    train_losses_mob.append(train_loss)\n",
    "    mobilenet_v2.eval()\n",
    "    val_loss = 0.0\n",
    "    correct = 0\n",
    "    total = 0\n",
    "    val_dataset.dataset.transform = val_test_transform\n",
    "    with torch.no_grad():\n",
    "        for images, labels in val_loader:\n",
    "            images, labels = images.to(device), labels.to(device)\n",
    "            outputs = mobilenet_v2(images)\n",
    "            loss = criteria(outputs, labels)\n",
    "            val_loss += loss.item() * images.size(0)\n",
    "            _, predicted = torch.max(outputs, 1)\n",
    "            total += labels.size(0)\n",
    "            correct += (predicted == labels).sum().item()\n",
    "    val_loss = val_loss / len(val_loader.dataset)\n",
    "    val_losses_mob.append(val_loss)\n",
    "    val_accuracy = 100 * correct / total\n",
    "    val_accuracies_mob.append(val_accuracy)\n",
    "\n",
    "    print(f\"Epoch {epoch+1}/{epochs}, Train Loss: {train_loss:.4f}, Val Loss: {val_loss:.4f}\"+ f\", Validation Accuracy: {val_accuracy:.2f}% in {time.time()-time_start:.2f} sec\")\n",
    "\n"
   ]
  },
  {
   "cell_type": "code",
   "execution_count": null,
   "metadata": {
    "id": "8Mf3sXu7ygD1"
   },
   "outputs": [],
   "source": [
    "## Define another MobileNet model\n",
    "## Replace the final fully connected layer with a new FC layer matching the number of classes proceed with training. (second model)\n",
    "\n",
    "\n",
    "# Load the pre-trained MobileNetV2 model\n",
    "mobilenet_v2_2 = models.mobilenet_v2(pretrained=True).to(device)\n",
    "\n",
    "# dont freeze add new layer\n",
    "mobilenet_v2_2.classifier[1] = nn.Linear(mobilenet_v2_2.classifier[1].in_features, 10).to(device)\n",
    "\n",
    "\n",
    "## Define appropriate loss function and optimizer for training\n",
    "## Iterate over the training dataset in mini-batches, compute the loss, and update model parameters.\n",
    "## Monitor the training process and evaluate all model's performance on the validation set periodically.\n",
    "## Visualize the accuracy and loss changes of the models across training and validation datasets.\n",
    "# loss\n",
    "criteria = nn.CrossEntropyLoss()\n",
    "optimizer = optim.Adam(mobilenet_v2_2.parameters(), lr=0.001, weight_decay=1e-5)\n",
    "scheduler = ReduceLROnPlateau(\n",
    "    optimizer, \n",
    "    mode='min', \n",
    "    factor=0.5, \n",
    "    patience=2, \n",
    "    min_lr=1e-5, \n",
    "    verbose=True\n",
    ")\n",
    "\n",
    "train_losses_mob2, val_losses_mob2 = [], []\n",
    "val_accuracies_mob2 = []\n"
   ]
  },
  {
   "cell_type": "code",
   "execution_count": null,
   "metadata": {
    "id": "RUmvQDjZxcFx"
   },
   "outputs": [
    {
     "name": "stdout",
     "output_type": "stream",
     "text": [
      "Epoch 1/10, Train Loss: 1.0117, Val Loss: 1.0245, Validation Accuracy: 71.47% in 35.31 sec\n",
      "Epoch 2/10, Train Loss: 0.6919, Val Loss: 0.8106, Validation Accuracy: 74.93% in 35.77 sec\n",
      "Epoch 3/10, Train Loss: 0.6361, Val Loss: 0.6518, Validation Accuracy: 79.73% in 36.68 sec\n",
      "Epoch 4/10, Train Loss: 0.5827, Val Loss: 0.4932, Validation Accuracy: 84.67% in 39.10 sec\n",
      "Epoch 5/10, Train Loss: 0.4645, Val Loss: 0.7411, Validation Accuracy: 78.80% in 36.42 sec\n",
      "Epoch 6/10, Train Loss: 0.4799, Val Loss: 0.6727, Validation Accuracy: 79.73% in 35.97 sec\n",
      "Epoch 7/10, Train Loss: 0.4289, Val Loss: 0.5052, Validation Accuracy: 84.00% in 35.57 sec\n",
      "Epoch 8/10, Train Loss: 0.2740, Val Loss: 0.3602, Validation Accuracy: 88.53% in 35.17 sec\n",
      "Epoch 9/10, Train Loss: 0.1888, Val Loss: 0.3608, Validation Accuracy: 89.60% in 34.97 sec\n",
      "Epoch 10/10, Train Loss: 0.1816, Val Loss: 0.3411, Validation Accuracy: 90.00% in 35.03 sec\n"
     ]
    }
   ],
   "source": [
    "epochs = 10\n",
    "for epoch in range(epochs):\n",
    "    time_start = time.time()\n",
    "    mobilenet_v2_2.train()\n",
    "    train_loss = 0.0\n",
    "    train_dataset.dataset.transform = train_transform\n",
    "    for images, labels in train_loader:\n",
    "        images, labels = images.to(device), labels.to(device)\n",
    "        optimizer.zero_grad()\n",
    "        outputs = mobilenet_v2_2(images)\n",
    "        loss = criteria(outputs, labels)\n",
    "        loss.backward()\n",
    "        optimizer.step()\n",
    "        train_loss += loss.item() * images.size(0)\n",
    "    train_loss = train_loss / len(train_loader.dataset)\n",
    "    train_losses_mob2.append(train_loss)\n",
    "    mobilenet_v2_2.eval()\n",
    "    val_loss = 0.0\n",
    "    correct = 0\n",
    "    total = 0\n",
    "    val_dataset.dataset.transform = val_test_transform\n",
    "    with torch.no_grad():\n",
    "        for images, labels in val_loader:\n",
    "            images, labels = images.to(device), labels.to(device)\n",
    "            outputs = mobilenet_v2_2(images)\n",
    "            loss = criteria(outputs, labels)\n",
    "            val_loss += loss.item() * images.size(0)\n",
    "            _, predicted = torch.max(outputs, 1)\n",
    "            total += labels.size(0)\n",
    "            correct += (predicted == labels).sum().item()\n",
    "    val_loss = val_loss / len(val_loader.dataset)\n",
    "    val_losses_mob2.append(val_loss)\n",
    "    val_accuracy = 100 * correct / total\n",
    "    val_accuracies_mob2.append(val_accuracy)\n",
    "    scheduler.step(val_loss)\n",
    "\n",
    "    print(f\"Epoch {epoch+1}/{epochs}, Train Loss: {train_loss:.4f}, Val Loss: {val_loss:.4f}\"+ f\", Validation Accuracy: {val_accuracy:.2f}% in {time.time()-time_start:.2f} sec\")"
   ]
  },
  {
   "cell_type": "markdown",
   "metadata": {
    "id": "SBEZnnsXxcFy"
   },
   "source": [
    "Conduct a comparative analysis among these two models. Comment on their performance and select your best model with respect to validation accuracy.\n",
    "* Which model performed better and why do you think it performed better?  \n",
    "* Comment on the practical considerations among these models also."
   ]
  },
  {
   "cell_type": "markdown",
   "metadata": {
    "id": "Jnv5mIdtyr71"
   },
   "source": [
    "### 2.9 Evaluate the fine-tuned MobileNet model (7 points)"
   ]
  },
  {
   "cell_type": "code",
   "execution_count": null,
   "metadata": {
    "id": "FIs86Z-vyr72"
   },
   "outputs": [
    {
     "name": "stdout",
     "output_type": "stream",
     "text": [
      "Test Accuracy: 90.40%\n",
      "              precision    recall  f1-score   support\n",
      "\n",
      "           0       0.82      0.91      0.86        78\n",
      "           1       0.89      0.85      0.87        67\n",
      "           2       0.89      0.97      0.93        66\n",
      "           3       0.88      0.96      0.92        73\n",
      "           4       0.99      0.94      0.97        88\n",
      "           5       0.89      0.92      0.91        73\n",
      "           6       0.97      0.76      0.85        79\n",
      "           7       0.82      0.95      0.88        83\n",
      "           8       0.98      0.86      0.92        74\n",
      "           9       0.97      0.91      0.94        69\n",
      "\n",
      "    accuracy                           0.90       750\n",
      "   macro avg       0.91      0.90      0.90       750\n",
      "weighted avg       0.91      0.90      0.90       750\n",
      "\n"
     ]
    },
    {
     "data": {
      "image/png": "[encoded data removed]",
      "text/plain": [
       "<Figure size 1000x800 with 2 Axes>"
      ]
     },
     "metadata": {},
     "output_type": "display_data"
    }
   ],
   "source": [
    "## Test the best model on the test set to evaluate its performance.\n",
    "## Compute metrics such as accuracy, precision, recall, and F1-score to assess classification performance.\n",
    "## Visualize confusion matrix to understand the model's behavior across different classes\n",
    "## Comment on the results\n",
    "\n",
    "best_model = mobilenet_v2_2\n",
    "if val_accuracies_mob[-1] > val_accuracies_mob2[-1]:\n",
    "    best_model = mobilenet_v2\n",
    "\n",
    "from sklearn.metrics import classification_report\n",
    "y_true = []\n",
    "y_pred = []\n",
    "best_model.eval()\n",
    "correct = 0\n",
    "total = 0\n",
    "with torch.no_grad():\n",
    "    for images, labels in test_loader:\n",
    "        images, labels = images.to(device), labels.to(device)\n",
    "        outputs = best_model(images)\n",
    "        _, predicted = torch.max(outputs, 1)\n",
    "        total += labels.size(0)\n",
    "        correct += (predicted == labels).sum().item()\n",
    "        y_true.extend(labels.cpu().numpy())\n",
    "        y_pred.extend(predicted.cpu().numpy())\n",
    "test_accuracy = 100 * correct / total\n",
    "print(f\"Test Accuracy: {test_accuracy:.2f}%\")\n",
    "\n",
    "# classification report\n",
    "print(classification_report(y_true, y_pred))\n",
    "\n",
    "# confusion matrix\n",
    "from sklearn.metrics import confusion_matrix\n",
    "import seaborn as sns\n",
    "import matplotlib.pyplot as plt\n",
    "\n",
    "cm = confusion_matrix(y_true, y_pred)\n",
    "plt.figure(figsize=(10, 8))\n",
    "sns.heatmap(cm, annot=True, fmt='d', cmap='Blues')\n",
    "plt.xlabel('Predicted')\n",
    "plt.ylabel('Actual')\n",
    "plt.show()\n",
    "\n"
   ]
  },
  {
   "cell_type": "code",
   "execution_count": null,
   "metadata": {
    "id": "vrTY0X3EzIef"
   },
   "outputs": [],
   "source": [
    "\n",
    "# best model\n",
    "predictions = predict_images(best_model, image_dir, device)\n",
    "predictions_df = pd.DataFrame(predictions)\n",
    "predictions_df.to_csv(\"mobilenet.csv\", index=False)\n"
   ]
  },
  {
   "cell_type": "markdown",
   "metadata": {
    "id": "mqxqlRDozR7q"
   },
   "source": [
    " The Kaggle test result for the Resnet model was 90% which translates to 4.5 when multiplied by the maximum possible score of 5.\n",
    "\n",
    " The result is consistent with the performance metrics obtained during validation and testing. The model demonstrates some ability to generalize well and can classify the animal images successfully."
   ]
  },
  {
   "cell_type": "markdown",
   "metadata": {
    "id": "7N7lt6OG1cz7"
   },
   "source": [
    "### Advantages and Disadvantages of Transfer Learning vs. Training from Scratch\n",
    "\n",
    "**Transfer Learning:**\n",
    "\n",
    "*   **Advantages:**\n",
    "    *   **Reduced Training Time:** Transfer learning leverages pre-trained weights, which allows the model to converge much faster than training from random initialization. This can be a significant time-saver.\n",
    "    *   **Improved Generalization:** Pre-trained models have been trained on vast datasets like ImageNet, which equips them with rich feature extraction capabilities. This results in better generalization on new datasets, especially when the new dataset is not very large.\n",
    "    *   **Lower Data Requirements:** Transfer learning is effective even when the dataset for the new task is small. The pre-trained features are general enough to be adapted to new contexts with minimal new data.\n",
    "    *   **Better Performance:** Fine-tuning pre-trained models often yields higher accuracy and better performance metrics compared to training from scratch with a comparable effort.\n",
    "*   **Disadvantages:**\n",
    "    *   **Potential for Negative Transfer:** If the source task and the target task are very different, it can sometimes lead to a decrease in performance, compared to training from scratch. However, this is often not a problem when using datasets in the domain of image classification.\n",
    "    *   **Dependence on Pre-trained Models:** The performance of transfer learning is dependent on the quality and relevance of the chosen pre-trained model. It might need specific model choices depending on the task.\n",
    "    *   **Limited Control:** The pre-defined architecture of the chosen model limits the freedom of designing the architecture from the ground up, as you can not change the base architecture.\n",
    "\n",
    "**Training from Scratch:**\n",
    "\n",
    "*   **Advantages:**\n",
    "    *   **Flexibility:** You have complete control over the architecture, allowing you to optimize every aspect of the network design for your specific task.\n",
    "    *   **Adaptability to Specialized Tasks:** Training from scratch can be more effective if you have a very unique dataset or task that has little in common with the general datasets on which pre-trained models are trained.\n",
    "    *   **No Dependence on Pre-Trained Models:** You are not limited by what pre-trained models are available. This allows for more customization on model architecture.\n",
    "*   **Disadvantages:**\n",
    "    *   **Increased Training Time:** Training a CNN from scratch is time consuming, and needs a large amount of time to converge.\n",
    "    *   **High Data Requirements:** You generally need a much larger labeled dataset to train a CNN from scratch effectively.\n",
    "    *   **Difficult to Optimize:** Optimization can be tricky, as the starting point is random and hyperparameter tuning can be very time consuming.\n",
    "    *   **Lower Generalization:** Models trained from scratch tend to overfit to the training data more easily than pre-trained models, which leads to lower generalization.\n",
    "\n",
    "### Comparison Table of Best Models\n",
    "\n",
    "| Model               | Training Approach | Accuracy | Training Time |\n",
    "|---------------------|-------------------|-------------------|--------------|\n",
    "| CNN from Scratch     | From scratch      | 68%   | Very long    |\n",
    "| ResNet18 Fine-tuned   | Transfer Learning (All layers fine-tuned)      |  %90   |  Short               |\n",
    "| MobileNetV2 Fine-tuned | Transfer Learning (All layers fine-tuned)      |  %91  |  Short                   |\n",
    "\n",
    "### Practical Considerations\n",
    "\n",
    "When choosing between these approaches, the practical considerations are very important:\n",
    "\n",
    "*   **Dataset Size:**\n",
    "    *   If you have a small dataset, transfer learning is the better option.\n",
    "    *   If you have a large dataset, you can consider training from scratch.\n",
    "*   **Task Similarity:**\n",
    "    *   If the new task is very similar to the task the pre-trained model was trained on, then transfer learning is often the best option.\n",
    "    *   If the new task is very different, then training from scratch can be more effective, although fine-tuning can sometimes still be viable.\n",
    "*   **Computational Resources:**\n",
    "    *   If you have limited GPU resources, transfer learning is more suitable because it needs less time and less processing power.\n",
    "    *   If you have large computational resources, training from scratch is possible but might not be necessary.\n",
    "*   **Time Constraints:**\n",
    "    *   If you need a model quickly, transfer learning will save a lot of time.\n",
    "    *   If time is not a big constraint, you can consider training a model from scratch but note that model design, and hyperparameter tuning take time and resources.\n",
    "*   **Expertise and Control:**\n",
    "    *   If you need full control over the architecture, then training from scratch can be better.\n",
    "    *   If you do not have the resources for designing architectures and hyperparameter tuning, you can use pre-trained models and use transfer learning with minimal effort.\n"
   ]
  }
 ],
 "metadata": {
  "colab": {
   "collapsed_sections": [
    "9-LA2-Ww8RB6",
    "O6yQkfFD8RB8",
    "23njcboArttc",
    "3aW87Td98RB9",
    "Snzyw25wy2qD",
    "7AUPSGkss_xx",
    "H6P7NdYbs_xx",
    "biAtQZdWs_xy",
    "998AhkSqxRLr",
    "RkIZHLEXxcFu"
   ],
   "provenance": [
    {
     "file_id": "1i1_5Hd_HXRNRrlGlksKDbCPl5DVIQ2WJ",
     "timestamp": 1713971266011
    },
    {
     "file_id": "1KRiLDX0LGWSYTkQtyAUDOqSBtbsuSrml",
     "timestamp": 1709144210895
    }
   ]
  },
  "kernelspec": {
   "display_name": "Python 3",
   "language": "python",
   "name": "python3"
  },
  "language_info": {
   "codemirror_mode": {
    "name": "ipython",
    "version": 3
   },
   "file_extension": ".py",
   "mimetype": "text/x-python",
   "name": "python",
   "nbconvert_exporter": "python",
   "pygments_lexer": "ipython3",
   "version": "3.9.13"
  }
 },
 "nbformat": 4,
 "nbformat_minor": 0
}
