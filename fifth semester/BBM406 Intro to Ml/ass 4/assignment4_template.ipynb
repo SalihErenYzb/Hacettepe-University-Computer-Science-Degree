{
 "cells": [
  {
   "cell_type": "markdown",
   "metadata": {
    "id": "R552yZ2xacXl"
   },
   "source": [
    "## BBM 409 - Programming Assignment 4\n",
    "\n",
    "* You can add as many cells as you want in-between each question.\n",
    "* Please add comments to your code to explain your work.  \n",
    "* Please add Markdown cells to answer the (non-coding) questions in the homework text. You can, however, refer to the outputs of code cells without adding them as images to the Markdown cell unless you are requested to do otherwise.\n",
    "* Please be careful about the order of runs of cells. Doing the homework, it is likely that you will be running the cells in different orders, however, they will be evaluated in the order they appear. Hence, please try running the cells in this order before submission to make sure they work.    \n",
    "* Please refer to the homework text for any implementation detail. Though you are somewhat expected to abide by the comments in the below cells, they are mainly just provided for guidance. That is, as long as you are not completely off this structure and your work pattern is understandable and traceable, it is fine. For instance, you do not have to implement a particular function within a cell just because the comment directs you to do so.\n",
    "* This document is also your report. Show your work."
   ]
  },
  {
   "cell_type": "markdown",
   "metadata": {
    "id": "wxJVPQOvacXq"
   },
   "source": [
    "###  Salih Eren Yüzbaşıoğlu 2220356040"
   ]
  },
  {
   "cell_type": "markdown",
   "metadata": {
    "id": "9Y56wpudacXs"
   },
   "source": [
    "## Understanding LSTM's with Sentiment Analysis (100 points)"
   ]
  },
  {
   "cell_type": "markdown",
   "metadata": {
    "id": "Uf1b--J6acXu"
   },
   "source": [
    "### 1. Data Loading and Exploration (5 points)\n",
    "In this assignment, we have a dataset containing movie reviews. The dataset has two columns: review and sentiment. The sentiment column has two classes: 0 and 1, where 0 represents a negative review and 1 represents a positive review. Load the data and display the first 5 rows. Review are strings that express the sentiment of the review. Our task is to predict the sentiment of the review using LSTM."
   ]
  },
  {
   "cell_type": "code",
   "execution_count": 1,
   "metadata": {
    "id": "xZAj0NO_acXv"
   },
   "outputs": [
    {
     "name": "stderr",
     "output_type": "stream",
     "text": [
      "[nltk_data] Downloading package punkt_tab to\n",
      "[nltk_data]     C:\\Users\\algos\\AppData\\Roaming\\nltk_data...\n",
      "[nltk_data]   Package punkt_tab is already up-to-date!\n"
     ]
    },
    {
     "data": {
      "text/plain": [
       "device(type='cuda')"
      ]
     },
     "execution_count": 1,
     "metadata": {},
     "output_type": "execute_result"
    }
   ],
   "source": [
    "# Import necessary libraries\n",
    "import torch\n",
    "import torch.nn as nn\n",
    "import torch.optim as optim\n",
    "import torch.nn.functional as F\n",
    "import numpy as np\n",
    "import matplotlib.pyplot as plt\n",
    "import random\n",
    "import time\n",
    "import os\n",
    "import sys\n",
    "import re \n",
    "import spacy \n",
    "\n",
    "from nltk.tokenize import word_tokenize\n",
    "from nltk.corpus import stopwords\n",
    "import nltk\n",
    "nltk.download('punkt_tab')\n",
    "device = torch.device('cuda' if torch.cuda.is_available() else 'cpu')\n",
    "device\n"
   ]
  },
  {
   "cell_type": "code",
   "execution_count": 2,
   "metadata": {
    "id": "OntGZCL_acXx"
   },
   "outputs": [
    {
     "data": {
      "text/html": [
       "<div>\n",
       "<style scoped>\n",
       "    .dataframe tbody tr th:only-of-type {\n",
       "        vertical-align: middle;\n",
       "    }\n",
       "\n",
       "    .dataframe tbody tr th {\n",
       "        vertical-align: top;\n",
       "    }\n",
       "\n",
       "    .dataframe thead th {\n",
       "        text-align: right;\n",
       "    }\n",
       "</style>\n",
       "<table border=\"1\" class=\"dataframe\">\n",
       "  <thead>\n",
       "    <tr style=\"text-align: right;\">\n",
       "      <th></th>\n",
       "      <th>review</th>\n",
       "      <th>sentiment</th>\n",
       "    </tr>\n",
       "  </thead>\n",
       "  <tbody>\n",
       "    <tr>\n",
       "      <th>0</th>\n",
       "      <td>Starts really well, nice intro and build up fo...</td>\n",
       "      <td>0</td>\n",
       "    </tr>\n",
       "    <tr>\n",
       "      <th>1</th>\n",
       "      <td>Terrific movie: If you did not watch yet, you ...</td>\n",
       "      <td>1</td>\n",
       "    </tr>\n",
       "    <tr>\n",
       "      <th>2</th>\n",
       "      <td>I've seen hundreds of silent movies. Some will...</td>\n",
       "      <td>1</td>\n",
       "    </tr>\n",
       "    <tr>\n",
       "      <th>3</th>\n",
       "      <td>i had been looking for this film for so long b...</td>\n",
       "      <td>1</td>\n",
       "    </tr>\n",
       "    <tr>\n",
       "      <th>4</th>\n",
       "      <td>Good: Engaging cinematic firefights, great pre...</td>\n",
       "      <td>1</td>\n",
       "    </tr>\n",
       "  </tbody>\n",
       "</table>\n",
       "</div>"
      ],
      "text/plain": [
       "                                              review  sentiment\n",
       "0  Starts really well, nice intro and build up fo...          0\n",
       "1  Terrific movie: If you did not watch yet, you ...          1\n",
       "2  I've seen hundreds of silent movies. Some will...          1\n",
       "3  i had been looking for this film for so long b...          1\n",
       "4  Good: Engaging cinematic firefights, great pre...          1"
      ]
     },
     "execution_count": 2,
     "metadata": {},
     "output_type": "execute_result"
    }
   ],
   "source": [
    "# Load the data into pandas a dataframe\n",
    "# Represent the sentiments in a meaningful numerical form\n",
    "# Check the first few rows\n",
    "import pandas as pd\n",
    "# subset10000_IMDB_Dataset.csv\n",
    "data = pd.read_csv('subset10000_IMDB_Dataset.csv')\n",
    "# change setiment to 0 and 1\n",
    "data['sentiment'] = data['sentiment'].map({'positive': 1, 'negative': 0})\n",
    "data.head()"
   ]
  },
  {
   "cell_type": "code",
   "execution_count": 3,
   "metadata": {
    "id": "eGODCVDNacXy"
   },
   "outputs": [
    {
     "name": "stdout",
     "output_type": "stream",
     "text": [
      "(10000, 2)\n",
      "Index(['review', 'sentiment'], dtype='object')\n",
      "sentiment\n",
      "0    5000\n",
      "1    5000\n",
      "Name: count, dtype: int64\n",
      "nulls:  review       0\n",
      "sentiment    0\n",
      "dtype: int64\n"
     ]
    }
   ],
   "source": [
    "## Explore the dataset (e.g., size, features, target variables, summary statistics).\n",
    "## Check for any missing values and handle them if necessary.\n",
    "\n",
    "print(data.shape)\n",
    "print(data.columns)\n",
    "print(data['sentiment'].value_counts())\n",
    "print(\"nulls: \" , data.isnull().sum())"
   ]
  },
  {
   "cell_type": "code",
   "execution_count": 4,
   "metadata": {},
   "outputs": [
    {
     "data": {
      "text/plain": [
       "<Axes: >"
      ]
     },
     "execution_count": 4,
     "metadata": {},
     "output_type": "execute_result"
    },
    {
     "data": {
      "image/png": "[encoded data removed]",
      "text/plain": [
       "<Figure size 640x480 with 1 Axes>"
      ]
     },
     "metadata": {},
     "output_type": "display_data"
    }
   ],
   "source": [
    "# display distribution of review lengtsh\n",
    "data['review_length'] = data['review'].apply(lambda x: len(x.split()))\n",
    "data['review_length'].hist(bins=30)"
   ]
  },
  {
   "cell_type": "code",
   "execution_count": 5,
   "metadata": {},
   "outputs": [],
   "source": [
    "# delete review length column\n",
    "del data['review_length']"
   ]
  },
  {
   "cell_type": "markdown",
   "metadata": {},
   "source": [
    "Looks like dataset has no null values and fairly balanced distribution of positive and negative reviews and reviews make a nice distribution with an average of 170 words. It is a binary classification problem where we will try to predict the sentiment of the review."
   ]
  },
  {
   "cell_type": "markdown",
   "metadata": {
    "id": "Q-RPZZ87acXy"
   },
   "source": [
    "### 2. Preprocessing the Data (10 points)"
   ]
  },
  {
   "cell_type": "code",
   "execution_count": 6,
   "metadata": {
    "id": "Va4_8_x_acXy"
   },
   "outputs": [
    {
     "name": "stderr",
     "output_type": "stream",
     "text": [
      "[nltk_data] Downloading package punkt to\n",
      "[nltk_data]     C:\\Users\\algos\\AppData\\Roaming\\nltk_data...\n",
      "[nltk_data]   Package punkt is already up-to-date!\n",
      "[nltk_data] Downloading package stopwords to\n",
      "[nltk_data]     C:\\Users\\algos\\AppData\\Roaming\\nltk_data...\n",
      "[nltk_data]   Package stopwords is already up-to-date!\n"
     ]
    }
   ],
   "source": [
    "nltk.download('punkt')\n",
    "nltk.download('stopwords')\n",
    "\n",
    "# Load spaCy's English model\n",
    "nlp = spacy.load(\"en_core_web_sm\")\n",
    "\n",
    "# Define the preprocessing function\n",
    "def preprocess_text(text):\n",
    "\n",
    "    # 1) Remove HTML tags\n",
    "    text = re.sub(r\"<.*?>\", \" \", text)\n",
    "    \n",
    "    # 2) Convert to lowercase\n",
    "    text = text.lower()\n",
    "    \n",
    "    # 3) Remove special characters except spaces, punctuation, and numbers\n",
    "    text = re.sub(r\"[^a-z0-9\\s.,!?]\", \"\", text)\n",
    "    \n",
    "    # 4) Tokenize using NLTK\n",
    "    raw_tokens = word_tokenize(text)\n",
    "    \n",
    "    # 5) Remove stopwords and lemmatize using spaCy\n",
    "    doc = nlp(\" \".join(raw_tokens))\n",
    "    final_tokens = [\n",
    "        token.lemma_  # Lemmatize\n",
    "        for token in doc\n",
    "        if not token.is_stop  # Remove stopwords\n",
    "        and token.lemma_.strip() != \"\"  # Remove empty tokens\n",
    "    ]\n",
    "    return final_tokens\n"
   ]
  },
  {
   "cell_type": "code",
   "execution_count": 7,
   "metadata": {
    "id": "4gQ9rNtLacXz"
   },
   "outputs": [],
   "source": [
    "# Add a tokens column to the dataframe to store preprocessed tokens\n",
    "# Build the vocabulary using the tokens\n",
    "# Assign indices to each token in the vocabulary\n",
    "# Reserve 0 for padding\n",
    "\n",
    "data['tokens'] = data['review'].apply(preprocess_text)\n",
    "data['tokens'].head()\n",
    "\n",
    "from collections import Counter\n",
    "token_counter = Counter()\n",
    "\n",
    "for tokens in data['tokens']:\n",
    "    token_counter.update(tokens)\n",
    "\n",
    "vocab = {\n",
    "    token: index + 1\n",
    "    for index, (token, count) in enumerate(token_counter.most_common())\n",
    "}\n",
    "\n"
   ]
  },
  {
   "cell_type": "code",
   "execution_count": 8,
   "metadata": {},
   "outputs": [],
   "source": [
    "vocab['0'] = 0\n",
    "vocab[0] = 0"
   ]
  },
  {
   "cell_type": "code",
   "execution_count": 9,
   "metadata": {
    "id": "xUPH9hmyacXz"
   },
   "outputs": [
    {
     "data": {
      "text/plain": [
       "count    10000.000000\n",
       "mean       128.849500\n",
       "std         97.135683\n",
       "min          5.000000\n",
       "25%         69.000000\n",
       "50%         96.000000\n",
       "75%        159.000000\n",
       "max        950.000000\n",
       "Name: review_length, dtype: float64"
      ]
     },
     "execution_count": 9,
     "metadata": {},
     "output_type": "execute_result"
    }
   ],
   "source": [
    "# Calculate the length of each review from the tokenized version\n",
    "# Display statistical details about review lengths\n",
    "\n",
    "data['review_length'] = data['tokens'].apply(len)\n",
    "data['review_length'].describe()"
   ]
  },
  {
   "cell_type": "code",
   "execution_count": 10,
   "metadata": {},
   "outputs": [
    {
     "data": {
      "text/plain": [
       "<Axes: >"
      ]
     },
     "execution_count": 10,
     "metadata": {},
     "output_type": "execute_result"
    },
    {
     "data": {
      "image/png": "[encoded data removed]",
      "text/plain": [
       "<Figure size 640x480 with 1 Axes>"
      ]
     },
     "metadata": {},
     "output_type": "display_data"
    }
   ],
   "source": [
    "# plot the review length distribution\n",
    "data['review_length'].hist(bins=30)"
   ]
  },
  {
   "cell_type": "code",
   "execution_count": 11,
   "metadata": {},
   "outputs": [
    {
     "data": {
      "text/plain": [
       "332"
      ]
     },
     "execution_count": 11,
     "metadata": {},
     "output_type": "execute_result"
    }
   ],
   "source": [
    "# Decide padding length considering these stats\n",
    "# Remember we don't want padded zeros to overcome meaningful information in the sequence\n",
    "\n",
    "# 95th percentile\n",
    "max_length = int(data['review_length'].quantile(0.95))\n",
    "max_length"
   ]
  },
  {
   "cell_type": "code",
   "execution_count": 12,
   "metadata": {
    "id": "HtTk2LpOacXz"
   },
   "outputs": [],
   "source": [
    "# Convert review tokens to indices and add an indices column to the dataframe to store\n",
    "# Represent each token in the dataset with its corresponding index from the vocabulary\n",
    "# Ensure all sequences have the same length by padding shorter sequences with zeros\n",
    "# Pad the token indices version of review sequences\n",
    "\n",
    "def pad_sequence(seq, max_len):\n",
    "    if len(seq) < max_len:\n",
    "        padded_seq = [0] * (max_len - len(seq)) + seq\n",
    "    else:\n",
    "        padded_seq = seq[:max_len] \n",
    "    padded_indices = [vocab[token] for token in padded_seq]\n",
    "    return padded_indices\n",
    "    \n",
    "\n",
    "# Add an padded_indices column to store padded sequences\n",
    "\n",
    "data['padded_indices'] = data['tokens'].apply(pad_sequence, max_len=max_length)"
   ]
  },
  {
   "cell_type": "markdown",
   "metadata": {
    "id": "a1mmftRpacX0"
   },
   "source": [
    "### 3. Visualzing Word Vectors (15 points)"
   ]
  },
  {
   "cell_type": "code",
   "execution_count": 14,
   "metadata": {
    "id": "6fEvlL2XacX0"
   },
   "outputs": [
    {
     "name": "stdout",
     "output_type": "stream",
     "text": [
      "FastText model loaded.\n"
     ]
    }
   ],
   "source": [
    "# Load the FastText word vectors\n",
    "import gensim.downloader as api\n",
    "fasttext_vectors = api.load(\"fasttext-wiki-news-subwords-300\")\n",
    "print(\"FastText model loaded.\")"
   ]
  },
  {
   "cell_type": "code",
   "execution_count": 15,
   "metadata": {
    "id": "2quzLteyacX0"
   },
   "outputs": [
    {
     "name": "stdout",
     "output_type": "stream",
     "text": [
      "Number of OOV words: 23725\n",
      "Sample OOV words: ['lowbudget', 'seagal', 'bmovie', 'overthetop', 'stanwyck', 'miniserie', 'clichs', 'clichd', 'writerdirector', 'carrey']\n",
      "55824\n"
     ]
    }
   ],
   "source": [
    "# Check out for Out-of-Vocaublary (OOV) words\n",
    "# See how many words in your created vocaublary are not presented in fasttext-vectors\n",
    "# Make comments on how OOV words can effect your model performance\n",
    "\n",
    "# Identify OOV words\n",
    "oov_words = [word for word in vocab if word not in fasttext_vectors]\n",
    "print(f\"Number of OOV words: {len(oov_words)}\")\n",
    "\n",
    "# Example: Display some OOV words\n",
    "print(\"Sample OOV words:\", oov_words[:10])\n",
    "print(len(vocab))"
   ]
  },
  {
   "cell_type": "markdown",
   "metadata": {},
   "source": [
    "Word embeddings are a crucial component in natural language processing tasks like sentiment analysis, as they provide a way to represent words numerically in a dense, low-dimensional vector space. These embeddings capture semantic relationships between words, meaning that words with similar meanings (e.g., \"happy\" and \"joyful\") are placed closer together in the vector space. By using pre-trained word embeddings like Word2Vec, LSTMs can leverage this rich semantic information to better understand the context and sentiment of text, even when the data is limited. However, one challenge with using pre-trained embeddings is the issue of Out-of-Vocabulary (OOV) words—words that are not present in the embedding's vocabulary. For these words, random or default embeddings are often used, which may lack meaningful semantic information and can introduce noise into the model. To handle OOV words effectively, techniques such as subword embeddings (e.g., fastText) or training embeddings on the specific dataset can be employed, ensuring better representation and improved performance for tasks like sentiment analysis on movie reviews."
   ]
  },
  {
   "cell_type": "code",
   "execution_count": 16,
   "metadata": {
    "id": "myr4uCqNacX0"
   },
   "outputs": [
    {
     "name": "stdout",
     "output_type": "stream",
     "text": [
      "Selected words for visualization: ['man', 'woman', 'boy', 'girl', 'sir', 'madam', 'father', 'mother', 'brother', 'sister', 'king', 'queen', 'uncle', 'aunt', 'husband', 'wife']\n"
     ]
    }
   ],
   "source": [
    "# Visualize word vectors to understand how they work.\n",
    "# Start by choosing a manageable number of words from the vocabulary, ideally 100–500.\n",
    "# Focus on words that are frequent in the dataset or relevant to the task,\n",
    "# Such as sentiment-rich terms like \"good,\" \"bad,\" \"amazing,\" or \"terrible.\"\n",
    "\n",
    "selected_words = [\n",
    "    \"man\", \"woman\", \n",
    "    \"boy\", \"girl\", \n",
    "    \"sir\", \"madam\", \n",
    "    \"father\", \"mother\", \n",
    "    \"brother\", \"sister\", \n",
    "    \"king\", \"queen\", \n",
    "    \"uncle\", \"aunt\", \n",
    "    \"husband\", \"wife\"\n",
    "    # \"prince\", \"princess\", \n",
    "    # \"actor\", \"actress\", \n",
    "    # \"hero\", \"heroine\", \n",
    "    # \"wizard\", \"witch\", \n",
    "    # \"god\", \"goddess\", \n",
    "    # \"he\", \"she\", \n",
    "    # \"him\", \"her\", \n",
    "    # \"his\", \"hers\", \n",
    "    # \"male\", \"female\", \n",
    "    # \"grandfather\", \"grandmother\", \n",
    "    # \"nephew\", \"niece\", \n",
    "    # \"son\", \"daughter\", \n",
    "    # \"water\", \"waters\", \n",
    "    # \"mouse\", \"mice\", \n",
    "    # \"dog\", \"dogs\", \n",
    "    # \"cat\", \"cats\", \n",
    "    # \"child\", \"children\", \n",
    "    # \"person\", \"people\", \n",
    "    # \"foot\", \"feet\", \n",
    "    # \"fish\", \"fishes\", \n",
    "    # \"leaf\", \"leaves\", \n",
    "    # \"knife\", \"knives\", \n",
    "    # \"tooth\", \"teeth\", \n",
    "    # \"man\", \"men\", \n",
    "    # \"woman\", \"women\", \n",
    "    # \"ox\", \"oxen\", \n",
    "    # \"goose\", \"geese\", \n",
    "    # \"good\", \"bad\", \n",
    "    # \"happy\", \"sad\", \n",
    "    # \"amazing\", \"terrible\", \n",
    "    # \"excellent\", \"poor\", \n",
    "    # \"great\", \"awful\", \n",
    "    # \"positive\", \"negative\", \n",
    "    # \"boring\", \"exciting\", \n",
    "    # \"strong\", \"weak\", \n",
    "    # \"beautiful\", \"ugly\", \n",
    "    # \"rich\", \"poor\", \n",
    "    # \"kind\", \"cruel\", \n",
    "    # \"brave\", \"cowardly\", \n",
    "    # \"clean\", \"dirty\", \n",
    "    # \"fast\", \"slow\", \n",
    "    # \"hot\", \"cold\", \n",
    "    # \"hard\", \"soft\", \n",
    "    # \"tall\", \"short\", \n",
    "    # \"light\", \"dark\", \n",
    "    # \"run\", \"ran\", \n",
    "    # \"eat\", \"ate\", \n",
    "    # \"drink\", \"drank\", \n",
    "    # \"go\", \"went\", \n",
    "    # \"see\", \"saw\", \n",
    "    # \"write\", \"wrote\", \n",
    "    # \"read\", \"read\", \n",
    "    # \"sing\", \"sang\", \n",
    "    # \"bring\", \"brought\", \n",
    "    # \"swim\", \"swam\", \n",
    "    # \"think\", \"thought\", \n",
    "    # \"teach\", \"taught\", \n",
    "    # \"catch\", \"caught\", \n",
    "    # \"buy\", \"bought\", \n",
    "    # \"feel\", \"felt\", \n",
    "    # \"sit\", \"sat\", \n",
    "    # \"turkish\", \"german\", \n",
    "    # \"french\", \"italian\", \n",
    "    # \"spanish\", \"russian\", \n",
    "    # \"chinese\", \"japanese\", \n",
    "    # \"british\", \"american\", \n",
    "    # \"indian\", \"pakistani\", \n",
    "    # \"arab\", \"persian\", \n",
    "    # \"african\", \"european\", \n",
    "    # \"australian\", \"canadian\", \n",
    "    # \"love\", \"hate\", \n",
    "    # \"truth\", \"lie\", \n",
    "    # \"day\", \"night\", \n",
    "    # \"summer\", \"winter\", \n",
    "    # \"yes\", \"no\", \n",
    "    # \"up\", \"down\", \n",
    "    # \"left\", \"right\", \n",
    "    # \"open\", \"close\", \n",
    "    # \"big\", \"small\", \n",
    "    # \"young\", \"old\", \n",
    "    # \"start\", \"end\", \n",
    "    # \"win\", \"lose\", \n",
    "    # \"success\", \"failure\", \n",
    "    # \"war\", \"peace\", \n",
    "    # \"black\", \"white\", \n",
    "    # \"friend\", \"enemy\", \n",
    "    # \"life\", \"death\", \n",
    "    # \"happy\", \"angry\"\n",
    "]\n",
    "\n",
    "selected_words = [word for word in selected_words if word in fasttext_vectors]\n",
    "print(f\"Selected words for visualization: {selected_words}\")"
   ]
  },
  {
   "cell_type": "code",
   "execution_count": 17,
   "metadata": {
    "id": "YfyUjWFPacX0"
   },
   "outputs": [],
   "source": [
    "# For the selected words, retrieve their corresponding vector representations from the the pre-trained Word2Vec model.\n",
    "# Each word will have a dense vector of a fixed dimensionality (e.g., 300 for fasttext-wiki-news-subwords-300).\n",
    "\n",
    "word_vectors = [fasttext_vectors[word] for word in selected_words]"
   ]
  },
  {
   "cell_type": "code",
   "execution_count": 18,
   "metadata": {
    "id": "VZVIBfNzacX1"
   },
   "outputs": [
    {
     "name": "stdout",
     "output_type": "stream",
     "text": [
      "Explained variance ratio: [0.23581858 0.18626164]\n"
     ]
    }
   ],
   "source": [
    "# Use Principal Component Analysis (PCA) to reduce the dimensionality of the word vectors from their original size (e.g., 300) to 2D or 3D.\n",
    "# PCA simplifies the high-dimensional data while preserving as much variance as possible, making it easier to visualize\n",
    "\n",
    "from sklearn.decomposition import PCA\n",
    "\n",
    "# Reduce dimensionality to 2D\n",
    "pca = PCA(n_components=2)\n",
    "reduced_vectors = pca.fit_transform(word_vectors)\n",
    "\n",
    "# Check the explained variance ratio\n",
    "print(\"Explained variance ratio:\", pca.explained_variance_ratio_)"
   ]
  },
  {
   "cell_type": "code",
   "execution_count": 19,
   "metadata": {
    "id": "qbf2uI6tacX1"
   },
   "outputs": [
    {
     "data": {
      "image/png": "[encoded data removed]",
      "text/plain": [
       "<Figure size 1000x800 with 1 Axes>"
      ]
     },
     "metadata": {},
     "output_type": "display_data"
    },
    {
     "name": "stdout",
     "output_type": "stream",
     "text": [
      "Explained variance ratio for 3D PCA: [0.23581858 0.18626164 0.14379603]\n"
     ]
    },
    {
     "data": {
      "application/vnd.plotly.v1+json": {
       "config": {
        "plotlyServerURL": "https://plot.ly"
       },
       "data": [
        {
         "hovertemplate": "PCA1=%{x}<br>PCA2=%{y}<br>PCA3=%{z}<br>word=%{text}<extra></extra>",
         "legendgroup": "",
         "marker": {
          "color": "#636efa",
          "size": 8,
          "symbol": "circle"
         },
         "mode": "markers+text",
         "name": "",
         "scene": "scene",
         "showlegend": false,
         "text": [
          "man",
          "woman",
          "boy",
          "girl",
          "sir",
          "madam",
          "father",
          "mother",
          "brother",
          "sister",
          "king",
          "queen",
          "uncle",
          "aunt",
          "husband",
          "wife"
         ],
         "type": "scatter3d",
         "x": [
          0.08243115642613602,
          -0.06784629084398729,
          0.018412086654137984,
          -0.05006195692239796,
          1.1173366354272258,
          0.5589191829525283,
          -0.1930754892511791,
          -0.2519655873727063,
          -0.19036384371392553,
          -0.2978608905039168,
          0.12357634934490642,
          0.05787745496484296,
          -0.1681334274898849,
          -0.2734716571205089,
          -0.18038846883412332,
          -0.2853852537171477
         ],
         "y": [
          -0.4682794133114525,
          -0.379038284232568,
          -0.6520615569980732,
          -0.5650739861723647,
          0.256794604728649,
          0.15664405326073783,
          0.1274520496065926,
          0.05762381316317306,
          0.21321187346016046,
          0.21479621171823765,
          -0.006178609332487643,
          0.015425609459764579,
          0.3134785238387925,
          0.38059888388558943,
          0.17114944839195753,
          0.1634567785332912
         ],
         "z": [
          0.04606735828858628,
          0.0929080024707051,
          -0.3395718590111709,
          -0.18309796111745666,
          -0.22526994863099697,
          -0.0403034311240706,
          -0.07166608683371575,
          -0.019895936303323144,
          -0.06985875881067287,
          -0.07491230550504904,
          0.6421406284750565,
          0.6750835473133765,
          -0.21584902057519462,
          -0.3070559372743296,
          0.06401257930910208,
          0.027269129329154027
         ]
        }
       ],
       "layout": {
        "legend": {
         "tracegroupgap": 0
        },
        "scene": {
         "domain": {
          "x": [
           0,
           1
          ],
          "y": [
           0,
           1
          ]
         },
         "xaxis": {
          "title": {
           "text": "PCA1"
          }
         },
         "yaxis": {
          "title": {
           "text": "PCA2"
          }
         },
         "zaxis": {
          "title": {
           "text": "PCA3"
          }
         }
        },
        "template": {
         "data": {
          "bar": [
           {
            "error_x": {
             "color": "#2a3f5f"
            },
            "error_y": {
             "color": "#2a3f5f"
            },
            "marker": {
             "line": {
              "color": "#E5ECF6",
              "width": 0.5
             },
             "pattern": {
              "fillmode": "overlay",
              "size": 10,
              "solidity": 0.2
             }
            },
            "type": "bar"
           }
          ],
          "barpolar": [
           {
            "marker": {
             "line": {
              "color": "#E5ECF6",
              "width": 0.5
             },
             "pattern": {
              "fillmode": "overlay",
              "size": 10,
              "solidity": 0.2
             }
            },
            "type": "barpolar"
           }
          ],
          "carpet": [
           {
            "aaxis": {
             "endlinecolor": "#2a3f5f",
             "gridcolor": "white",
             "linecolor": "white",
             "minorgridcolor": "white",
             "startlinecolor": "#2a3f5f"
            },
            "baxis": {
             "endlinecolor": "#2a3f5f",
             "gridcolor": "white",
             "linecolor": "white",
             "minorgridcolor": "white",
             "startlinecolor": "#2a3f5f"
            },
            "type": "carpet"
           }
          ],
          "choropleth": [
           {
            "colorbar": {
             "outlinewidth": 0,
             "ticks": ""
            },
            "type": "choropleth"
           }
          ],
          "contour": [
           {
            "colorbar": {
             "outlinewidth": 0,
             "ticks": ""
            },
            "colorscale": [
             [
              0,
              "#0d0887"
             ],
             [
              0.1111111111111111,
              "#46039f"
             ],
             [
              0.2222222222222222,
              "#7201a8"
             ],
             [
              0.3333333333333333,
              "#9c179e"
             ],
             [
              0.4444444444444444,
              "#bd3786"
             ],
             [
              0.5555555555555556,
              "#d8576b"
             ],
             [
              0.6666666666666666,
              "#ed7953"
             ],
             [
              0.7777777777777778,
              "#fb9f3a"
             ],
             [
              0.8888888888888888,
              "#fdca26"
             ],
             [
              1,
              "#f0f921"
             ]
            ],
            "type": "contour"
           }
          ],
          "contourcarpet": [
           {
            "colorbar": {
             "outlinewidth": 0,
             "ticks": ""
            },
            "type": "contourcarpet"
           }
          ],
          "heatmap": [
           {
            "colorbar": {
             "outlinewidth": 0,
             "ticks": ""
            },
            "colorscale": [
             [
              0,
              "#0d0887"
             ],
             [
              0.1111111111111111,
              "#46039f"
             ],
             [
              0.2222222222222222,
              "#7201a8"
             ],
             [
              0.3333333333333333,
              "#9c179e"
             ],
             [
              0.4444444444444444,
              "#bd3786"
             ],
             [
              0.5555555555555556,
              "#d8576b"
             ],
             [
              0.6666666666666666,
              "#ed7953"
             ],
             [
              0.7777777777777778,
              "#fb9f3a"
             ],
             [
              0.8888888888888888,
              "#fdca26"
             ],
             [
              1,
              "#f0f921"
             ]
            ],
            "type": "heatmap"
           }
          ],
          "heatmapgl": [
           {
            "colorbar": {
             "outlinewidth": 0,
             "ticks": ""
            },
            "colorscale": [
             [
              0,
              "#0d0887"
             ],
             [
              0.1111111111111111,
              "#46039f"
             ],
             [
              0.2222222222222222,
              "#7201a8"
             ],
             [
              0.3333333333333333,
              "#9c179e"
             ],
             [
              0.4444444444444444,
              "#bd3786"
             ],
             [
              0.5555555555555556,
              "#d8576b"
             ],
             [
              0.6666666666666666,
              "#ed7953"
             ],
             [
              0.7777777777777778,
              "#fb9f3a"
             ],
             [
              0.8888888888888888,
              "#fdca26"
             ],
             [
              1,
              "#f0f921"
             ]
            ],
            "type": "heatmapgl"
           }
          ],
          "histogram": [
           {
            "marker": {
             "pattern": {
              "fillmode": "overlay",
              "size": 10,
              "solidity": 0.2
             }
            },
            "type": "histogram"
           }
          ],
          "histogram2d": [
           {
            "colorbar": {
             "outlinewidth": 0,
             "ticks": ""
            },
            "colorscale": [
             [
              0,
              "#0d0887"
             ],
             [
              0.1111111111111111,
              "#46039f"
             ],
             [
              0.2222222222222222,
              "#7201a8"
             ],
             [
              0.3333333333333333,
              "#9c179e"
             ],
             [
              0.4444444444444444,
              "#bd3786"
             ],
             [
              0.5555555555555556,
              "#d8576b"
             ],
             [
              0.6666666666666666,
              "#ed7953"
             ],
             [
              0.7777777777777778,
              "#fb9f3a"
             ],
             [
              0.8888888888888888,
              "#fdca26"
             ],
             [
              1,
              "#f0f921"
             ]
            ],
            "type": "histogram2d"
           }
          ],
          "histogram2dcontour": [
           {
            "colorbar": {
             "outlinewidth": 0,
             "ticks": ""
            },
            "colorscale": [
             [
              0,
              "#0d0887"
             ],
             [
              0.1111111111111111,
              "#46039f"
             ],
             [
              0.2222222222222222,
              "#7201a8"
             ],
             [
              0.3333333333333333,
              "#9c179e"
             ],
             [
              0.4444444444444444,
              "#bd3786"
             ],
             [
              0.5555555555555556,
              "#d8576b"
             ],
             [
              0.6666666666666666,
              "#ed7953"
             ],
             [
              0.7777777777777778,
              "#fb9f3a"
             ],
             [
              0.8888888888888888,
              "#fdca26"
             ],
             [
              1,
              "#f0f921"
             ]
            ],
            "type": "histogram2dcontour"
           }
          ],
          "mesh3d": [
           {
            "colorbar": {
             "outlinewidth": 0,
             "ticks": ""
            },
            "type": "mesh3d"
           }
          ],
          "parcoords": [
           {
            "line": {
             "colorbar": {
              "outlinewidth": 0,
              "ticks": ""
             }
            },
            "type": "parcoords"
           }
          ],
          "pie": [
           {
            "automargin": true,
            "type": "pie"
           }
          ],
          "scatter": [
           {
            "fillpattern": {
             "fillmode": "overlay",
             "size": 10,
             "solidity": 0.2
            },
            "type": "scatter"
           }
          ],
          "scatter3d": [
           {
            "line": {
             "colorbar": {
              "outlinewidth": 0,
              "ticks": ""
             }
            },
            "marker": {
             "colorbar": {
              "outlinewidth": 0,
              "ticks": ""
             }
            },
            "type": "scatter3d"
           }
          ],
          "scattercarpet": [
           {
            "marker": {
             "colorbar": {
              "outlinewidth": 0,
              "ticks": ""
             }
            },
            "type": "scattercarpet"
           }
          ],
          "scattergeo": [
           {
            "marker": {
             "colorbar": {
              "outlinewidth": 0,
              "ticks": ""
             }
            },
            "type": "scattergeo"
           }
          ],
          "scattergl": [
           {
            "marker": {
             "colorbar": {
              "outlinewidth": 0,
              "ticks": ""
             }
            },
            "type": "scattergl"
           }
          ],
          "scattermapbox": [
           {
            "marker": {
             "colorbar": {
              "outlinewidth": 0,
              "ticks": ""
             }
            },
            "type": "scattermapbox"
           }
          ],
          "scatterpolar": [
           {
            "marker": {
             "colorbar": {
              "outlinewidth": 0,
              "ticks": ""
             }
            },
            "type": "scatterpolar"
           }
          ],
          "scatterpolargl": [
           {
            "marker": {
             "colorbar": {
              "outlinewidth": 0,
              "ticks": ""
             }
            },
            "type": "scatterpolargl"
           }
          ],
          "scatterternary": [
           {
            "marker": {
             "colorbar": {
              "outlinewidth": 0,
              "ticks": ""
             }
            },
            "type": "scatterternary"
           }
          ],
          "surface": [
           {
            "colorbar": {
             "outlinewidth": 0,
             "ticks": ""
            },
            "colorscale": [
             [
              0,
              "#0d0887"
             ],
             [
              0.1111111111111111,
              "#46039f"
             ],
             [
              0.2222222222222222,
              "#7201a8"
             ],
             [
              0.3333333333333333,
              "#9c179e"
             ],
             [
              0.4444444444444444,
              "#bd3786"
             ],
             [
              0.5555555555555556,
              "#d8576b"
             ],
             [
              0.6666666666666666,
              "#ed7953"
             ],
             [
              0.7777777777777778,
              "#fb9f3a"
             ],
             [
              0.8888888888888888,
              "#fdca26"
             ],
             [
              1,
              "#f0f921"
             ]
            ],
            "type": "surface"
           }
          ],
          "table": [
           {
            "cells": {
             "fill": {
              "color": "#EBF0F8"
             },
             "line": {
              "color": "white"
             }
            },
            "header": {
             "fill": {
              "color": "#C8D4E3"
             },
             "line": {
              "color": "white"
             }
            },
            "type": "table"
           }
          ]
         },
         "layout": {
          "annotationdefaults": {
           "arrowcolor": "#2a3f5f",
           "arrowhead": 0,
           "arrowwidth": 1
          },
          "autotypenumbers": "strict",
          "coloraxis": {
           "colorbar": {
            "outlinewidth": 0,
            "ticks": ""
           }
          },
          "colorscale": {
           "diverging": [
            [
             0,
             "#8e0152"
            ],
            [
             0.1,
             "#c51b7d"
            ],
            [
             0.2,
             "#de77ae"
            ],
            [
             0.3,
             "#f1b6da"
            ],
            [
             0.4,
             "#fde0ef"
            ],
            [
             0.5,
             "#f7f7f7"
            ],
            [
             0.6,
             "#e6f5d0"
            ],
            [
             0.7,
             "#b8e186"
            ],
            [
             0.8,
             "#7fbc41"
            ],
            [
             0.9,
             "#4d9221"
            ],
            [
             1,
             "#276419"
            ]
           ],
           "sequential": [
            [
             0,
             "#0d0887"
            ],
            [
             0.1111111111111111,
             "#46039f"
            ],
            [
             0.2222222222222222,
             "#7201a8"
            ],
            [
             0.3333333333333333,
             "#9c179e"
            ],
            [
             0.4444444444444444,
             "#bd3786"
            ],
            [
             0.5555555555555556,
             "#d8576b"
            ],
            [
             0.6666666666666666,
             "#ed7953"
            ],
            [
             0.7777777777777778,
             "#fb9f3a"
            ],
            [
             0.8888888888888888,
             "#fdca26"
            ],
            [
             1,
             "#f0f921"
            ]
           ],
           "sequentialminus": [
            [
             0,
             "#0d0887"
            ],
            [
             0.1111111111111111,
             "#46039f"
            ],
            [
             0.2222222222222222,
             "#7201a8"
            ],
            [
             0.3333333333333333,
             "#9c179e"
            ],
            [
             0.4444444444444444,
             "#bd3786"
            ],
            [
             0.5555555555555556,
             "#d8576b"
            ],
            [
             0.6666666666666666,
             "#ed7953"
            ],
            [
             0.7777777777777778,
             "#fb9f3a"
            ],
            [
             0.8888888888888888,
             "#fdca26"
            ],
            [
             1,
             "#f0f921"
            ]
           ]
          },
          "colorway": [
           "#636efa",
           "#EF553B",
           "#00cc96",
           "#ab63fa",
           "#FFA15A",
           "#19d3f3",
           "#FF6692",
           "#B6E880",
           "#FF97FF",
           "#FECB52"
          ],
          "font": {
           "color": "#2a3f5f"
          },
          "geo": {
           "bgcolor": "white",
           "lakecolor": "white",
           "landcolor": "#E5ECF6",
           "showlakes": true,
           "showland": true,
           "subunitcolor": "white"
          },
          "hoverlabel": {
           "align": "left"
          },
          "hovermode": "closest",
          "mapbox": {
           "style": "light"
          },
          "paper_bgcolor": "white",
          "plot_bgcolor": "#E5ECF6",
          "polar": {
           "angularaxis": {
            "gridcolor": "white",
            "linecolor": "white",
            "ticks": ""
           },
           "bgcolor": "#E5ECF6",
           "radialaxis": {
            "gridcolor": "white",
            "linecolor": "white",
            "ticks": ""
           }
          },
          "scene": {
           "xaxis": {
            "backgroundcolor": "#E5ECF6",
            "gridcolor": "white",
            "gridwidth": 2,
            "linecolor": "white",
            "showbackground": true,
            "ticks": "",
            "zerolinecolor": "white"
           },
           "yaxis": {
            "backgroundcolor": "#E5ECF6",
            "gridcolor": "white",
            "gridwidth": 2,
            "linecolor": "white",
            "showbackground": true,
            "ticks": "",
            "zerolinecolor": "white"
           },
           "zaxis": {
            "backgroundcolor": "#E5ECF6",
            "gridcolor": "white",
            "gridwidth": 2,
            "linecolor": "white",
            "showbackground": true,
            "ticks": "",
            "zerolinecolor": "white"
           }
          },
          "shapedefaults": {
           "line": {
            "color": "#2a3f5f"
           }
          },
          "ternary": {
           "aaxis": {
            "gridcolor": "white",
            "linecolor": "white",
            "ticks": ""
           },
           "baxis": {
            "gridcolor": "white",
            "linecolor": "white",
            "ticks": ""
           },
           "bgcolor": "#E5ECF6",
           "caxis": {
            "gridcolor": "white",
            "linecolor": "white",
            "ticks": ""
           }
          },
          "title": {
           "x": 0.05
          },
          "xaxis": {
           "automargin": true,
           "gridcolor": "white",
           "linecolor": "white",
           "ticks": "",
           "title": {
            "standoff": 15
           },
           "zerolinecolor": "white",
           "zerolinewidth": 2
          },
          "yaxis": {
           "automargin": true,
           "gridcolor": "white",
           "linecolor": "white",
           "ticks": "",
           "title": {
            "standoff": 15
           },
           "zerolinecolor": "white",
           "zerolinewidth": 2
          }
         }
        },
        "title": {
         "text": "3D Word Vector Visualization"
        }
       }
      }
     },
     "metadata": {},
     "output_type": "display_data"
    }
   ],
   "source": [
    "# For 2D visualization, create a scatter plot and annotate each point with its corresponding word to provide context.\n",
    "# For 3D visualization, use interactive plotting tools like matplotlib’s Axes3D to explore the spatial relationships between words dynamically.\n",
    "\n",
    "import matplotlib.pyplot as plt\n",
    "\n",
    "# Create a scatter plot\n",
    "plt.figure(figsize=(10, 8))\n",
    "for i, word in enumerate(selected_words):\n",
    "    plt.scatter(reduced_vectors[i, 0], reduced_vectors[i, 1], label=word)\n",
    "    plt.text(reduced_vectors[i, 0] + 0.01, reduced_vectors[i, 1] + 0.01, word, fontsize=12)\n",
    "\n",
    "plt.title(\"2D Visualization of Word Vectors\")\n",
    "plt.xlabel(\"PCA Component 1\")\n",
    "plt.ylabel(\"PCA Component 2\")\n",
    "plt.grid()\n",
    "plt.legend()\n",
    "plt.show()\n",
    "\n",
    "\n",
    "# Reduce dimensionality to 3D\n",
    "pca_3d = PCA(n_components=3)\n",
    "reduced_vectors_3d = pca_3d.fit_transform(word_vectors)  # word_vectors is the list of vectors for selected words\n",
    "\n",
    "# Check the explained variance ratio\n",
    "print(\"Explained variance ratio for 3D PCA:\", pca_3d.explained_variance_ratio_)\n",
    "\n",
    "import plotly.express as px\n",
    "import pandas as pd\n",
    "\n",
    "# Prepare data for Plotly\n",
    "df = pd.DataFrame(reduced_vectors_3d, columns=[\"PCA1\", \"PCA2\", \"PCA3\"])\n",
    "df['word'] = selected_words\n",
    "\n",
    "# Create an interactive 3D scatter plot\n",
    "fig = px.scatter_3d(df, x=\"PCA1\", y=\"PCA2\", z=\"PCA3\", text=\"word\", title=\"3D Word Vector Visualization\")\n",
    "fig.update_traces(marker=dict(size=8))\n",
    "fig.show()"
   ]
  },
  {
   "cell_type": "markdown",
   "metadata": {},
   "source": [
    "Looking at above plots (they are simplified to just gendered terms to better see in this example), we can clearly see a direction which represents gender. Going litle right and down gives us the feminine words and going left and up gives us the masculine words. This is a clear example of how word embeddings can capture semantic relationships between words.\n",
    "\n",
    "When we don't simplify the plots we can see how similar words bunch together. Like when country names are added to the plot, we can see that they are all close to each other. This is because they are used in similar context and have similar meanings. This is the power of word embeddings."
   ]
  },
  {
   "cell_type": "markdown",
   "metadata": {
    "id": "NOrRum4DacX1"
   },
   "source": [
    "### 4. Creating the Emebdding Matrix (10 points)"
   ]
  },
  {
   "cell_type": "code",
   "execution_count": 20,
   "metadata": {
    "id": "Svrr1p9sacX1"
   },
   "outputs": [],
   "source": [
    "def create_embedding_matrix(word2vec, vocab, embedding_dim):\n",
    "    # Initialize the embedding matrix with zeros\n",
    "    vocab_size = len(vocab)+10\n",
    "    embedding_matrix = np.zeros((vocab_size, embedding_dim))\n",
    "\n",
    "    for word, index in vocab.items():\n",
    "        if word in word2vec: \n",
    "            embedding_matrix[index] = word2vec[word]   \n",
    "        else:\n",
    "            embedding_matrix[index] = np.random.uniform(-0.01, 0.01, embedding_dim)\n",
    "\n",
    "    return embedding_matrix\n",
    "\n",
    "# Create a matrix where each row corresponds to the vector representation of a word in the vocabulary\n",
    "# The embedding matrix will have dimensions [vocab_size, embedding_dim], where embedding_dim is the size of the word vectors"
   ]
  },
  {
   "cell_type": "code",
   "execution_count": 21,
   "metadata": {
    "id": "R7FBBHqlacX1"
   },
   "outputs": [],
   "source": [
    "# Convert the embedding matrix to a PyTorch tensor\n",
    "# You can create the embedding layer in here or directly in the model\n",
    "# Using PyTorch’s nn.Embedding.from_pretrained method you load the pre-trained embedding matrix into the embedding layer\n",
    "\n",
    "embedding_dim = 300\n",
    "\n",
    "embedding_matrix = create_embedding_matrix(fasttext_vectors, vocab, embedding_dim)\n",
    "\n",
    "# Convert the embedding matrix to a PyTorch tensor\n",
    "embedding_tensor = torch.tensor(embedding_matrix, dtype=torch.float32)\n",
    "embedding_layer = nn.Embedding.from_pretrained(embedding_tensor, freeze=False)"
   ]
  },
  {
   "cell_type": "markdown",
   "metadata": {
    "id": "ns3fOb1TacX1"
   },
   "source": [
    "### 5. Implementing the IMDBDataset (5 points)\n",
    "* Use PyTorch’s Dataset and DataLoader classes to manage the dataset efficiently and create mini-batches for training."
   ]
  },
  {
   "cell_type": "code",
   "execution_count": 22,
   "metadata": {
    "id": "s1UeOIhwacX1"
   },
   "outputs": [
    {
     "name": "stdout",
     "output_type": "stream",
     "text": [
      "Train size: 7000, Validation size: 1000, Test size: 2000\n"
     ]
    }
   ],
   "source": [
    "# Train, validation and test split\n",
    "\n",
    "from sklearn.model_selection import train_test_split\n",
    "\n",
    "# Split the data into train, validation, and test sets\n",
    "train_data, temp_data = train_test_split(data, test_size=0.3, random_state=42)\n",
    "val_data, test_data = train_test_split(temp_data, test_size=0.6666, random_state=42)\n",
    "\n",
    "print(f\"Train size: {len(train_data)}, Validation size: {len(val_data)}, Test size: {len(test_data)}\")\n"
   ]
  },
  {
   "cell_type": "code",
   "execution_count": 23,
   "metadata": {
    "id": "IaNtnjpzacX2"
   },
   "outputs": [],
   "source": [
    "# Implement the dataset class\n",
    "# Combine the padded sequences and corresponding sentiment labels into a dataset structure compatible with PyTorch.\n",
    "\n",
    "from torch.utils.data import Dataset\n",
    "\n",
    "class IMDBDataset(Dataset):\n",
    "    def __init__(self, data):\n",
    "        self.reviews = data['padded_indices'].tolist()\n",
    "        self.labels = data['sentiment'].tolist()\n",
    "\n",
    "    def __len__(self):\n",
    "        return len(self.reviews)\n",
    "\n",
    "    def __getitem__(self, idx):\n",
    "            review = torch.tensor(self.reviews[idx], dtype=torch.long)\n",
    "            label = torch.tensor(self.labels[idx], dtype=torch.float32)\n",
    "            return review, label"
   ]
  },
  {
   "cell_type": "code",
   "execution_count": 24,
   "metadata": {
    "id": "32AoCbTNacX2"
   },
   "outputs": [],
   "source": [
    "# Create the train, validation and test dataLoaders\n",
    "from torch.utils.data import DataLoader\n",
    "\n",
    "train_dataset = IMDBDataset(train_data)\n",
    "val_dataset = IMDBDataset(val_data)\n",
    "test_dataset = IMDBDataset(test_data)\n",
    "\n",
    "\n",
    "batch_size = 128\n",
    "\n",
    "train_loader = DataLoader(train_dataset, batch_size=batch_size, shuffle=True)\n",
    "val_loader = DataLoader(val_dataset, batch_size=batch_size, shuffle=False)\n",
    "test_loader = DataLoader(test_dataset, batch_size=batch_size, shuffle=False)\n",
    "\n"
   ]
  },
  {
   "cell_type": "markdown",
   "metadata": {
    "id": "1MYowuS7acX2"
   },
   "source": [
    "### 6. Implementing and Optimizing the Custom LSTM model (40 points)"
   ]
  },
  {
   "cell_type": "code",
   "execution_count": 25,
   "metadata": {
    "id": "buZqGBp3acX2"
   },
   "outputs": [],
   "source": [
    "# Manually implement the LSTM cell to understand its architecture and functionality.\n",
    "# Implement forget, input, and output gates.\n",
    "# Update the cell state and compute the hidden state for each time step.\n",
    "# Explain your steps and usage of the gates\n",
    "# Check assignment pdf for more detail on implementation tips\n",
    "\n",
    "# (below is just an empty example, you can change it entirely to make it suitable with your implementation)\n",
    "\n",
    "class LSTMCell(nn.Module):\n",
    "    def __init__(self, input_size, hidden_size):\n",
    "        super(LSTMCell, self).__init__()\n",
    "        self.hidden_size = hidden_size\n",
    "        self.W_f = nn.Linear(input_size + hidden_size, hidden_size)  \n",
    "        self.W_i = nn.Linear(input_size + hidden_size, hidden_size)  \n",
    "        self.W_c = nn.Linear(input_size + hidden_size, hidden_size) \n",
    "        self.W_o = nn.Linear(input_size + hidden_size, hidden_size)\n",
    "\n",
    "    def forward(self, x_t, h_prev, c_prev):\n",
    "        combined = torch.cat((x_t, h_prev), dim=1)\n",
    "\n",
    "        # Forget gate\n",
    "        f_t = torch.sigmoid(self.W_f(combined))\n",
    "\n",
    "        # Input gate\n",
    "        i_t = torch.sigmoid(self.W_i(combined))\n",
    "        c_tilde = torch.tanh(self.W_c(combined))\n",
    "\n",
    "        # Cell state update\n",
    "        c_t = f_t * c_prev + i_t * c_tilde\n",
    "\n",
    "        # Output gate\n",
    "        o_t = torch.sigmoid(self.W_o(combined))\n",
    "        h_t = o_t * torch.tanh(c_t)\n",
    "\n",
    "        return h_t, c_t"
   ]
  },
  {
   "cell_type": "code",
   "execution_count": 26,
   "metadata": {
    "id": "Sb2i2YwpacX2"
   },
   "outputs": [],
   "source": [
    "# Build an LSTM layer by combining one or multiple LSTM cells to process a sequence.\n",
    "\n",
    "# (below is just an empty example, you can change it entirely to make it suitable with your implementation)\n",
    "\n",
    "class LSTMLayer(nn.Module):\n",
    "    def __init__(self, input_size, hidden_size):\n",
    "        super(LSTMLayer, self).__init__()\n",
    "        self.hidden_size = hidden_size\n",
    "        self.lstm_cell = LSTMCell(input_size, hidden_size)\n",
    "\n",
    "    def forward(self, x):\n",
    "        batch_size, seq_len, _ = x.size()\n",
    "\n",
    "        h_t = torch.zeros(batch_size, self.hidden_size).to(x.device)\n",
    "        c_t = torch.zeros(batch_size, self.hidden_size).to(x.device)\n",
    "\n",
    "        outputs = []\n",
    "\n",
    "        # Iterate \n",
    "        for t in range(seq_len):\n",
    "            x_t = x[:, t, :]  \n",
    "            h_t, c_t = self.lstm_cell(x_t, h_t, c_t)\n",
    "            outputs.append(h_t)\n",
    "\n",
    "        outputs = torch.stack(outputs, dim=1)\n",
    "        return outputs"
   ]
  },
  {
   "cell_type": "code",
   "execution_count": 27,
   "metadata": {
    "id": "NiN2g-s3acX2"
   },
   "outputs": [],
   "source": [
    "# Build an LSTM model. Integrate the embedding layer into the model architecture.\n",
    "# The embedding layer will convert input indices (from padded sequences) into dense word vectors.\n",
    "# Decide whether to freeze the embedding weights or allow them to be fine-tuned during training and explain your choice.\n",
    "# These dense vectors are then passed to the LSTM layer for sequential processing.\n",
    "# You can provide embedding_matrix as tensor to define embedding layer inside the model class\n",
    "# Or if you have defined embedding layer before, you can directly use that inside the model class\n",
    "\n",
    "# (below is just an empty example, you can change it entirely to make it suitable with your implementation)\n",
    "\n",
    "class SentimentLSTM(nn.Module):\n",
    "    def __init__(self, vocab_size, embedding_dim, hidden_size, output_size, embedding_matrix):\n",
    "        super(SentimentLSTM, self).__init__()\n",
    "        self.embedding = nn.Embedding.from_pretrained(embedding_matrix, freeze=False)\n",
    "\n",
    "        self.lstm = LSTMLayer(embedding_dim, hidden_size)\n",
    "\n",
    "        # Fully Connected Output Layer\n",
    "        self.fc = nn.Linear(hidden_size, output_size)\n",
    "        self.sigmoid = nn.Sigmoid()\n",
    "\n",
    "    def forward(self, x):\n",
    "        # Pass input through the embedding layer\n",
    "        embedded = self.embedding(x)\n",
    "\n",
    "        lstm_out = self.lstm(embedded)\n",
    "        last_hidden_state = lstm_out[:, -1, :]\n",
    "\n",
    "        # Pass through the fully connected layer\n",
    "        output = self.fc(last_hidden_state)\n",
    "        output = self.sigmoid(output)\n",
    "\n",
    "        return output"
   ]
  },
  {
   "cell_type": "code",
   "execution_count": 28,
   "metadata": {
    "id": "AOBq8JJiacX2"
   },
   "outputs": [],
   "source": [
    "# Define the hyperparameters and try to optimize your model by experimenting with these\n",
    "input_size = 300  # Word vector size\n",
    "hidden_size = 128  # Number of LSTM units\n",
    "learning_rate = 0.001\n",
    "batch_size = 128\n",
    "epochs = 50"
   ]
  },
  {
   "cell_type": "markdown",
   "metadata": {},
   "source": [
    "input size is choosen 300 because our word embeddings are 300 dimensional. Batch size is choosen 128 because model is not too big and running with higher batch sizes will not be a problem and will actually make model faster."
   ]
  },
  {
   "cell_type": "code",
   "execution_count": 29,
   "metadata": {
    "id": "Tw9phagracX2"
   },
   "outputs": [],
   "source": [
    "# Define appropriate loss function for binary classification.\n",
    "# Choose an optimizer and set its parameters (e.g., learning rate).\n",
    "# Explain your choice of loss function and optimization algorithm.\n",
    "\n",
    "criterion = nn.BCELoss()  # Binary Cross-Entropy Loss\n",
    "model = SentimentLSTM(len(vocab), input_size, hidden_size, 1, embedding_tensor).to(device)\n",
    "optimizer = optim.Adam(model.parameters(), lr=learning_rate)"
   ]
  },
  {
   "cell_type": "code",
   "execution_count": 30,
   "metadata": {},
   "outputs": [
    {
     "data": {
      "text/plain": [
       "device(type='cuda')"
      ]
     },
     "execution_count": 30,
     "metadata": {},
     "output_type": "execute_result"
    }
   ],
   "source": [
    "device = torch.device('cuda' if torch.cuda.is_available() else 'cpu')\n",
    "device"
   ]
  },
  {
   "cell_type": "code",
   "execution_count": 31,
   "metadata": {},
   "outputs": [],
   "source": [
    "val_losses = []\n",
    "val_accuracies = []\n",
    "train_losses = []\n",
    "train_accuracies = []"
   ]
  },
  {
   "cell_type": "code",
   "execution_count": 32,
   "metadata": {
    "id": "bgXiUG0zacX3"
   },
   "outputs": [
    {
     "name": "stdout",
     "output_type": "stream",
     "text": [
      "Epoch 1 completed. Time taken: 53.94s Train loss: 0.6649, Train accuracy: 0.6179 Validation loss: 0.6171, Validation accuracy: 0.6570\n",
      "Epoch 2 completed. Time taken: 54.06s Train loss: 0.3731, Train accuracy: 0.8464 Validation loss: 0.4164, Validation accuracy: 0.8360\n",
      "Epoch 3 completed. Time taken: 53.67s Train loss: 0.1349, Train accuracy: 0.9547 Validation loss: 0.5047, Validation accuracy: 0.8090\n",
      "Epoch 4 completed. Time taken: 53.43s Train loss: 0.0558, Train accuracy: 0.9851 Validation loss: 0.5780, Validation accuracy: 0.8380\n",
      "Epoch 5 completed. Time taken: 53.94s Train loss: 0.0243, Train accuracy: 0.9951 Validation loss: 0.6427, Validation accuracy: 0.8470\n",
      "Epoch 6 completed. Time taken: 53.67s Train loss: 0.0129, Train accuracy: 0.9980 Validation loss: 0.7093, Validation accuracy: 0.8400\n",
      "Epoch 7 completed. Time taken: 54.25s Train loss: 0.0173, Train accuracy: 0.9967 Validation loss: 0.7270, Validation accuracy: 0.8410\n",
      "Epoch 8 completed. Time taken: 53.35s Train loss: 0.0071, Train accuracy: 0.9989 Validation loss: 0.8735, Validation accuracy: 0.8230\n",
      "Epoch 9 completed. Time taken: 54.02s Train loss: 0.0081, Train accuracy: 0.9984 Validation loss: 0.7030, Validation accuracy: 0.7880\n",
      "Epoch 10 completed. Time taken: 53.27s Train loss: 0.1957, Train accuracy: 0.9156 Validation loss: 0.7033, Validation accuracy: 0.8220\n",
      "Epoch 11 completed. Time taken: 54.33s Train loss: 0.0608, Train accuracy: 0.9803 Validation loss: 0.7467, Validation accuracy: 0.7840\n",
      "Epoch 12 completed. Time taken: 52.95s Train loss: 0.0125, Train accuracy: 0.9969 Validation loss: 0.7614, Validation accuracy: 0.8040\n",
      "Epoch 13 completed. Time taken: 52.57s Train loss: 0.0193, Train accuracy: 0.9941 Validation loss: 1.0969, Validation accuracy: 0.8020\n",
      "Epoch 14 completed. Time taken: 55.42s Train loss: 0.0162, Train accuracy: 0.9960 Validation loss: 0.8933, Validation accuracy: 0.7960\n"
     ]
    },
    {
     "ename": "KeyboardInterrupt",
     "evalue": "",
     "output_type": "error",
     "traceback": [
      "\u001b[1;31m---------------------------------------------------------------------------\u001b[0m",
      "\u001b[1;31mKeyboardInterrupt\u001b[0m                         Traceback (most recent call last)",
      "Cell \u001b[1;32mIn[32], line 15\u001b[0m\n\u001b[0;32m     13\u001b[0m reviews, labels \u001b[38;5;241m=\u001b[39m reviews\u001b[38;5;241m.\u001b[39mto(device), labels\u001b[38;5;241m.\u001b[39mto(device)\n\u001b[0;32m     14\u001b[0m optimizer\u001b[38;5;241m.\u001b[39mzero_grad()\n\u001b[1;32m---> 15\u001b[0m outputs \u001b[38;5;241m=\u001b[39m \u001b[43mmodel\u001b[49m\u001b[43m(\u001b[49m\u001b[43mreviews\u001b[49m\u001b[43m)\u001b[49m\n\u001b[0;32m     16\u001b[0m labels \u001b[38;5;241m=\u001b[39m labels\u001b[38;5;241m.\u001b[39munsqueeze(\u001b[38;5;241m1\u001b[39m)\n\u001b[0;32m     17\u001b[0m correct \u001b[38;5;241m+\u001b[39m\u001b[38;5;241m=\u001b[39m (torch\u001b[38;5;241m.\u001b[39mround(outputs) \u001b[38;5;241m==\u001b[39m labels)\u001b[38;5;241m.\u001b[39msum()\u001b[38;5;241m.\u001b[39mitem()\n",
      "File \u001b[1;32mc:\\Users\\algos\\AppData\\Local\\Programs\\Python\\Python39\\lib\\site-packages\\torch\\nn\\modules\\module.py:1553\u001b[0m, in \u001b[0;36mModule._wrapped_call_impl\u001b[1;34m(self, *args, **kwargs)\u001b[0m\n\u001b[0;32m   1551\u001b[0m     \u001b[38;5;28;01mreturn\u001b[39;00m \u001b[38;5;28mself\u001b[39m\u001b[38;5;241m.\u001b[39m_compiled_call_impl(\u001b[38;5;241m*\u001b[39margs, \u001b[38;5;241m*\u001b[39m\u001b[38;5;241m*\u001b[39mkwargs)  \u001b[38;5;66;03m# type: ignore[misc]\u001b[39;00m\n\u001b[0;32m   1552\u001b[0m \u001b[38;5;28;01melse\u001b[39;00m:\n\u001b[1;32m-> 1553\u001b[0m     \u001b[38;5;28;01mreturn\u001b[39;00m \u001b[38;5;28mself\u001b[39m\u001b[38;5;241m.\u001b[39m_call_impl(\u001b[38;5;241m*\u001b[39margs, \u001b[38;5;241m*\u001b[39m\u001b[38;5;241m*\u001b[39mkwargs)\n",
      "File \u001b[1;32mc:\\Users\\algos\\AppData\\Local\\Programs\\Python\\Python39\\lib\\site-packages\\torch\\nn\\modules\\module.py:1562\u001b[0m, in \u001b[0;36mModule._call_impl\u001b[1;34m(self, *args, **kwargs)\u001b[0m\n\u001b[0;32m   1557\u001b[0m \u001b[38;5;66;03m# If we don't have any hooks, we want to skip the rest of the logic in\u001b[39;00m\n\u001b[0;32m   1558\u001b[0m \u001b[38;5;66;03m# this function, and just call forward.\u001b[39;00m\n\u001b[0;32m   1559\u001b[0m \u001b[38;5;28;01mif\u001b[39;00m \u001b[38;5;129;01mnot\u001b[39;00m (\u001b[38;5;28mself\u001b[39m\u001b[38;5;241m.\u001b[39m_backward_hooks \u001b[38;5;129;01mor\u001b[39;00m \u001b[38;5;28mself\u001b[39m\u001b[38;5;241m.\u001b[39m_backward_pre_hooks \u001b[38;5;129;01mor\u001b[39;00m \u001b[38;5;28mself\u001b[39m\u001b[38;5;241m.\u001b[39m_forward_hooks \u001b[38;5;129;01mor\u001b[39;00m \u001b[38;5;28mself\u001b[39m\u001b[38;5;241m.\u001b[39m_forward_pre_hooks\n\u001b[0;32m   1560\u001b[0m         \u001b[38;5;129;01mor\u001b[39;00m _global_backward_pre_hooks \u001b[38;5;129;01mor\u001b[39;00m _global_backward_hooks\n\u001b[0;32m   1561\u001b[0m         \u001b[38;5;129;01mor\u001b[39;00m _global_forward_hooks \u001b[38;5;129;01mor\u001b[39;00m _global_forward_pre_hooks):\n\u001b[1;32m-> 1562\u001b[0m     \u001b[38;5;28;01mreturn\u001b[39;00m forward_call(\u001b[38;5;241m*\u001b[39margs, \u001b[38;5;241m*\u001b[39m\u001b[38;5;241m*\u001b[39mkwargs)\n\u001b[0;32m   1564\u001b[0m \u001b[38;5;28;01mtry\u001b[39;00m:\n\u001b[0;32m   1565\u001b[0m     result \u001b[38;5;241m=\u001b[39m \u001b[38;5;28;01mNone\u001b[39;00m\n",
      "Cell \u001b[1;32mIn[27], line 25\u001b[0m, in \u001b[0;36mSentimentLSTM.forward\u001b[1;34m(self, x)\u001b[0m\n\u001b[0;32m     21\u001b[0m \u001b[38;5;28;01mdef\u001b[39;00m \u001b[38;5;21mforward\u001b[39m(\u001b[38;5;28mself\u001b[39m, x):\n\u001b[0;32m     22\u001b[0m     \u001b[38;5;66;03m# Pass input through the embedding layer\u001b[39;00m\n\u001b[0;32m     23\u001b[0m     embedded \u001b[38;5;241m=\u001b[39m \u001b[38;5;28mself\u001b[39m\u001b[38;5;241m.\u001b[39membedding(x)\n\u001b[1;32m---> 25\u001b[0m     lstm_out \u001b[38;5;241m=\u001b[39m \u001b[38;5;28;43mself\u001b[39;49m\u001b[38;5;241;43m.\u001b[39;49m\u001b[43mlstm\u001b[49m\u001b[43m(\u001b[49m\u001b[43membedded\u001b[49m\u001b[43m)\u001b[49m\n\u001b[0;32m     26\u001b[0m     last_hidden_state \u001b[38;5;241m=\u001b[39m lstm_out[:, \u001b[38;5;241m-\u001b[39m\u001b[38;5;241m1\u001b[39m, :]\n\u001b[0;32m     28\u001b[0m     \u001b[38;5;66;03m# Pass through the fully connected layer\u001b[39;00m\n",
      "File \u001b[1;32mc:\\Users\\algos\\AppData\\Local\\Programs\\Python\\Python39\\lib\\site-packages\\torch\\nn\\modules\\module.py:1553\u001b[0m, in \u001b[0;36mModule._wrapped_call_impl\u001b[1;34m(self, *args, **kwargs)\u001b[0m\n\u001b[0;32m   1551\u001b[0m     \u001b[38;5;28;01mreturn\u001b[39;00m \u001b[38;5;28mself\u001b[39m\u001b[38;5;241m.\u001b[39m_compiled_call_impl(\u001b[38;5;241m*\u001b[39margs, \u001b[38;5;241m*\u001b[39m\u001b[38;5;241m*\u001b[39mkwargs)  \u001b[38;5;66;03m# type: ignore[misc]\u001b[39;00m\n\u001b[0;32m   1552\u001b[0m \u001b[38;5;28;01melse\u001b[39;00m:\n\u001b[1;32m-> 1553\u001b[0m     \u001b[38;5;28;01mreturn\u001b[39;00m \u001b[38;5;28mself\u001b[39m\u001b[38;5;241m.\u001b[39m_call_impl(\u001b[38;5;241m*\u001b[39margs, \u001b[38;5;241m*\u001b[39m\u001b[38;5;241m*\u001b[39mkwargs)\n",
      "File \u001b[1;32mc:\\Users\\algos\\AppData\\Local\\Programs\\Python\\Python39\\lib\\site-packages\\torch\\nn\\modules\\module.py:1562\u001b[0m, in \u001b[0;36mModule._call_impl\u001b[1;34m(self, *args, **kwargs)\u001b[0m\n\u001b[0;32m   1557\u001b[0m \u001b[38;5;66;03m# If we don't have any hooks, we want to skip the rest of the logic in\u001b[39;00m\n\u001b[0;32m   1558\u001b[0m \u001b[38;5;66;03m# this function, and just call forward.\u001b[39;00m\n\u001b[0;32m   1559\u001b[0m \u001b[38;5;28;01mif\u001b[39;00m \u001b[38;5;129;01mnot\u001b[39;00m (\u001b[38;5;28mself\u001b[39m\u001b[38;5;241m.\u001b[39m_backward_hooks \u001b[38;5;129;01mor\u001b[39;00m \u001b[38;5;28mself\u001b[39m\u001b[38;5;241m.\u001b[39m_backward_pre_hooks \u001b[38;5;129;01mor\u001b[39;00m \u001b[38;5;28mself\u001b[39m\u001b[38;5;241m.\u001b[39m_forward_hooks \u001b[38;5;129;01mor\u001b[39;00m \u001b[38;5;28mself\u001b[39m\u001b[38;5;241m.\u001b[39m_forward_pre_hooks\n\u001b[0;32m   1560\u001b[0m         \u001b[38;5;129;01mor\u001b[39;00m _global_backward_pre_hooks \u001b[38;5;129;01mor\u001b[39;00m _global_backward_hooks\n\u001b[0;32m   1561\u001b[0m         \u001b[38;5;129;01mor\u001b[39;00m _global_forward_hooks \u001b[38;5;129;01mor\u001b[39;00m _global_forward_pre_hooks):\n\u001b[1;32m-> 1562\u001b[0m     \u001b[38;5;28;01mreturn\u001b[39;00m forward_call(\u001b[38;5;241m*\u001b[39margs, \u001b[38;5;241m*\u001b[39m\u001b[38;5;241m*\u001b[39mkwargs)\n\u001b[0;32m   1564\u001b[0m \u001b[38;5;28;01mtry\u001b[39;00m:\n\u001b[0;32m   1565\u001b[0m     result \u001b[38;5;241m=\u001b[39m \u001b[38;5;28;01mNone\u001b[39;00m\n",
      "Cell \u001b[1;32mIn[26], line 22\u001b[0m, in \u001b[0;36mLSTMLayer.forward\u001b[1;34m(self, x)\u001b[0m\n\u001b[0;32m     20\u001b[0m \u001b[38;5;28;01mfor\u001b[39;00m t \u001b[38;5;129;01min\u001b[39;00m \u001b[38;5;28mrange\u001b[39m(seq_len):\n\u001b[0;32m     21\u001b[0m     x_t \u001b[38;5;241m=\u001b[39m x[:, t, :]  \n\u001b[1;32m---> 22\u001b[0m     h_t, c_t \u001b[38;5;241m=\u001b[39m \u001b[38;5;28;43mself\u001b[39;49m\u001b[38;5;241;43m.\u001b[39;49m\u001b[43mlstm_cell\u001b[49m\u001b[43m(\u001b[49m\u001b[43mx_t\u001b[49m\u001b[43m,\u001b[49m\u001b[43m \u001b[49m\u001b[43mh_t\u001b[49m\u001b[43m,\u001b[49m\u001b[43m \u001b[49m\u001b[43mc_t\u001b[49m\u001b[43m)\u001b[49m\n\u001b[0;32m     23\u001b[0m     outputs\u001b[38;5;241m.\u001b[39mappend(h_t)\n\u001b[0;32m     25\u001b[0m outputs \u001b[38;5;241m=\u001b[39m torch\u001b[38;5;241m.\u001b[39mstack(outputs, dim\u001b[38;5;241m=\u001b[39m\u001b[38;5;241m1\u001b[39m)\n",
      "File \u001b[1;32mc:\\Users\\algos\\AppData\\Local\\Programs\\Python\\Python39\\lib\\site-packages\\torch\\nn\\modules\\module.py:1553\u001b[0m, in \u001b[0;36mModule._wrapped_call_impl\u001b[1;34m(self, *args, **kwargs)\u001b[0m\n\u001b[0;32m   1551\u001b[0m     \u001b[38;5;28;01mreturn\u001b[39;00m \u001b[38;5;28mself\u001b[39m\u001b[38;5;241m.\u001b[39m_compiled_call_impl(\u001b[38;5;241m*\u001b[39margs, \u001b[38;5;241m*\u001b[39m\u001b[38;5;241m*\u001b[39mkwargs)  \u001b[38;5;66;03m# type: ignore[misc]\u001b[39;00m\n\u001b[0;32m   1552\u001b[0m \u001b[38;5;28;01melse\u001b[39;00m:\n\u001b[1;32m-> 1553\u001b[0m     \u001b[38;5;28;01mreturn\u001b[39;00m \u001b[38;5;28mself\u001b[39m\u001b[38;5;241m.\u001b[39m_call_impl(\u001b[38;5;241m*\u001b[39margs, \u001b[38;5;241m*\u001b[39m\u001b[38;5;241m*\u001b[39mkwargs)\n",
      "File \u001b[1;32mc:\\Users\\algos\\AppData\\Local\\Programs\\Python\\Python39\\lib\\site-packages\\torch\\nn\\modules\\module.py:1562\u001b[0m, in \u001b[0;36mModule._call_impl\u001b[1;34m(self, *args, **kwargs)\u001b[0m\n\u001b[0;32m   1557\u001b[0m \u001b[38;5;66;03m# If we don't have any hooks, we want to skip the rest of the logic in\u001b[39;00m\n\u001b[0;32m   1558\u001b[0m \u001b[38;5;66;03m# this function, and just call forward.\u001b[39;00m\n\u001b[0;32m   1559\u001b[0m \u001b[38;5;28;01mif\u001b[39;00m \u001b[38;5;129;01mnot\u001b[39;00m (\u001b[38;5;28mself\u001b[39m\u001b[38;5;241m.\u001b[39m_backward_hooks \u001b[38;5;129;01mor\u001b[39;00m \u001b[38;5;28mself\u001b[39m\u001b[38;5;241m.\u001b[39m_backward_pre_hooks \u001b[38;5;129;01mor\u001b[39;00m \u001b[38;5;28mself\u001b[39m\u001b[38;5;241m.\u001b[39m_forward_hooks \u001b[38;5;129;01mor\u001b[39;00m \u001b[38;5;28mself\u001b[39m\u001b[38;5;241m.\u001b[39m_forward_pre_hooks\n\u001b[0;32m   1560\u001b[0m         \u001b[38;5;129;01mor\u001b[39;00m _global_backward_pre_hooks \u001b[38;5;129;01mor\u001b[39;00m _global_backward_hooks\n\u001b[0;32m   1561\u001b[0m         \u001b[38;5;129;01mor\u001b[39;00m _global_forward_hooks \u001b[38;5;129;01mor\u001b[39;00m _global_forward_pre_hooks):\n\u001b[1;32m-> 1562\u001b[0m     \u001b[38;5;28;01mreturn\u001b[39;00m forward_call(\u001b[38;5;241m*\u001b[39margs, \u001b[38;5;241m*\u001b[39m\u001b[38;5;241m*\u001b[39mkwargs)\n\u001b[0;32m   1564\u001b[0m \u001b[38;5;28;01mtry\u001b[39;00m:\n\u001b[0;32m   1565\u001b[0m     result \u001b[38;5;241m=\u001b[39m \u001b[38;5;28;01mNone\u001b[39;00m\n",
      "Cell \u001b[1;32mIn[25], line 26\u001b[0m, in \u001b[0;36mLSTMCell.forward\u001b[1;34m(self, x_t, h_prev, c_prev)\u001b[0m\n\u001b[0;32m     24\u001b[0m \u001b[38;5;66;03m# Input gate\u001b[39;00m\n\u001b[0;32m     25\u001b[0m i_t \u001b[38;5;241m=\u001b[39m torch\u001b[38;5;241m.\u001b[39msigmoid(\u001b[38;5;28mself\u001b[39m\u001b[38;5;241m.\u001b[39mW_i(combined))\n\u001b[1;32m---> 26\u001b[0m c_tilde \u001b[38;5;241m=\u001b[39m \u001b[43mtorch\u001b[49m\u001b[38;5;241;43m.\u001b[39;49m\u001b[43mtanh\u001b[49m\u001b[43m(\u001b[49m\u001b[38;5;28;43mself\u001b[39;49m\u001b[38;5;241;43m.\u001b[39;49m\u001b[43mW_c\u001b[49m\u001b[43m(\u001b[49m\u001b[43mcombined\u001b[49m\u001b[43m)\u001b[49m\u001b[43m)\u001b[49m\n\u001b[0;32m     28\u001b[0m \u001b[38;5;66;03m# Cell state update\u001b[39;00m\n\u001b[0;32m     29\u001b[0m c_t \u001b[38;5;241m=\u001b[39m f_t \u001b[38;5;241m*\u001b[39m c_prev \u001b[38;5;241m+\u001b[39m i_t \u001b[38;5;241m*\u001b[39m c_tilde\n",
      "\u001b[1;31mKeyboardInterrupt\u001b[0m: "
     ]
    }
   ],
   "source": [
    "# Implement the training loop\n",
    "# Iterate over the training dataset in mini-batches.\n",
    "# Implement forward pass, feed the inputs through the network to compute the predictions.\n",
    "# Validate the model on the validation set periodically to monitor performance\n",
    "best_accuracy = 0\n",
    "total_mode_time = 0\n",
    "for epoch in range(epochs):\n",
    "    model.train()\n",
    "    total_loss = 0\n",
    "    correct = 0\n",
    "    time1 = time.time()\n",
    "    for reviews, labels in train_loader:\n",
    "        reviews, labels = reviews.to(device), labels.to(device)\n",
    "        optimizer.zero_grad()\n",
    "        outputs = model(reviews)\n",
    "        labels = labels.unsqueeze(1)\n",
    "        correct += (torch.round(outputs) == labels).sum().item()\n",
    "        loss = criterion(outputs, labels)\n",
    "        loss.backward()\n",
    "        optimizer.step()\n",
    "        total_loss += loss.item()\n",
    "    total_loss = total_loss / len(train_loader)\n",
    "    train_losses.append(total_loss)\n",
    "    train_accuracy = correct / len(train_data)\n",
    "    train_accuracies.append(train_accuracy)\n",
    "\n",
    "    # Validation\n",
    "    model.eval()\n",
    "    val_loss = 0\n",
    "    correct = 0\n",
    "    with torch.no_grad():\n",
    "        for reviews, labels in val_loader:\n",
    "            reviews, labels = reviews.to(device), labels.to(device)\n",
    "            outputs = model(reviews)\n",
    "            labels = labels.unsqueeze(1)\n",
    "            correct += (torch.round(outputs) == labels).sum().item()\n",
    "            loss = criterion(outputs, labels)\n",
    "            val_loss += loss.item()\n",
    "    val_loss = val_loss / len(val_loader)\n",
    "    val_losses.append(val_loss)\n",
    "    val_accuracy = correct / len(val_data)\n",
    "    val_accuracies.append(val_accuracy)\n",
    "    if val_accuracy > best_accuracy:\n",
    "        best_accuracy = val_accuracy\n",
    "        torch.save(model.state_dict(), \"best_model.pth\")\n",
    "\n",
    "    time2 = time.time() - time1\n",
    "    print(f\"Epoch {epoch+1} completed. Time taken: {time2:.2f}s\", end=\" \")\n",
    "    print(f\"Train loss: {train_losses[-1]:.4f}, Train accuracy: {train_accuracies[-1]:.4f}\", end=\" \")\n",
    "    print(f\"Validation loss: {val_losses[-1]:.4f}, Validation accuracy: {val_accuracies[-1]:.4f}\")\n"
   ]
  },
  {
   "cell_type": "markdown",
   "metadata": {},
   "source": [
    "# Early Stopped because train accuracy reached almost 100% and validation accuracy stopped increasing."
   ]
  },
  {
   "cell_type": "code",
   "execution_count": 33,
   "metadata": {
    "id": "Pa4ghiR2acX3"
   },
   "outputs": [
    {
     "data": {
      "image/png": "[encoded data removed]",
      "text/plain": [
       "<Figure size 1200x500 with 2 Axes>"
      ]
     },
     "metadata": {},
     "output_type": "display_data"
    }
   ],
   "source": [
    "# Visualize the accuracy and loss change of the best model across training and validation datasets\n",
    "# Make comments on the results\n",
    "\n",
    "plt.figure(figsize=(12, 5))\n",
    "plt.subplot(1, 2, 1)\n",
    "plt.plot(train_losses, label='Train Loss')\n",
    "plt.plot(val_losses, label='Validation Loss')\n",
    "plt.xlabel('Epoch')\n",
    "plt.ylabel('Loss')\n",
    "plt.title('Loss vs. Epoch')\n",
    "plt.legend()\n",
    "plt.grid()\n",
    "plt.subplot(1, 2, 2)\n",
    "plt.plot(train_accuracies, label='Train Accuracy')\n",
    "plt.plot(val_accuracies, label='Validation Accuracy')\n",
    "plt.xlabel('Epoch')\n",
    "plt.ylabel('Accuracy')\n",
    "plt.title('Accuracy vs. Epoch')\n",
    "plt.legend()\n",
    "plt.grid()\n",
    "plt.show()"
   ]
  },
  {
   "cell_type": "markdown",
   "metadata": {
    "id": "4STNfi7nacX3"
   },
   "source": [
    "### 7. Testing and Analysis (15 points)"
   ]
  },
  {
   "cell_type": "code",
   "execution_count": 34,
   "metadata": {
    "id": "GZkXiXgracX3"
   },
   "outputs": [
    {
     "name": "stderr",
     "output_type": "stream",
     "text": [
      "C:\\Users\\algos\\AppData\\Local\\Temp\\ipykernel_16944\\1464743993.py:7: FutureWarning:\n",
      "\n",
      "You are using `torch.load` with `weights_only=False` (the current default value), which uses the default pickle module implicitly. It is possible to construct malicious pickle data which will execute arbitrary code during unpickling (See https://github.com/pytorch/pytorch/blob/main/SECURITY.md#untrusted-models for more details). In a future release, the default value for `weights_only` will be flipped to `True`. This limits the functions that could be executed during unpickling. Arbitrary objects will no longer be allowed to be loaded via this mode unless they are explicitly allowlisted by the user via `torch.serialization.add_safe_globals`. We recommend you start setting `weights_only=True` for any use case where you don't have full control of the loaded file. Please open an issue on GitHub for any issues related to this experimental feature.\n",
      "\n"
     ]
    },
    {
     "name": "stdout",
     "output_type": "stream",
     "text": [
      "Test Loss: 0.6423, Test Accuracy: 0.8390\n",
      "Test Precision: 0.8415, Test Recall: 0.8465, Test F1 Score: 0.8440\n"
     ]
    }
   ],
   "source": [
    "# Test the best model on the test set to evaluate its performance.\n",
    "# Compute metrics such as accuracy, precision, recall, and F1-score to assess classification performance.\n",
    "# Explain and analyze your findings and results.\n",
    "# Summarize the performance of the model on the training, validation and test set. Comment on the results.\n",
    "# Discuss any challenges encountered during training and potential areas for improvement.\n",
    "\n",
    "model.load_state_dict(torch.load(\"best_model.pth\"))\n",
    "\n",
    "model.eval()\n",
    "test_loss = 0\n",
    "correct = 0\n",
    "predictions = []\n",
    "actuals = []\n",
    "with torch.no_grad():\n",
    "    for reviews, labels in test_loader:\n",
    "        reviews, labels = reviews.to(device), labels.to(device)\n",
    "        outputs = model(reviews)\n",
    "        labels = labels.unsqueeze(1)\n",
    "        correct += (torch.round(outputs) == labels).sum().item()\n",
    "        loss = criterion(outputs, labels)\n",
    "        test_loss += loss.item()\n",
    "        predictions.extend(torch.round(outputs).squeeze(1).tolist())\n",
    "        actuals.extend(labels.squeeze(1).tolist())\n",
    "test_loss = test_loss / len(test_loader)\n",
    "test_accuracy = correct / len(test_data)\n",
    "\n",
    "from sklearn.metrics import accuracy_score, precision_score, recall_score, f1_score\n",
    "\n",
    "accuracy = accuracy_score(actuals, predictions)\n",
    "precision = precision_score(actuals, predictions)\n",
    "recall = recall_score(actuals, predictions)\n",
    "f1 = f1_score(actuals, predictions)\n",
    "\n",
    "print(f\"Test Loss: {test_loss:.4f}, Test Accuracy: {test_accuracy:.4f}\")\n",
    "print(f\"Test Precision: {precision:.4f}, Test Recall: {recall:.4f}, Test F1 Score: {f1:.4f}\")"
   ]
  },
  {
   "cell_type": "markdown",
   "metadata": {},
   "source": [
    "Looking at the results, we see that model overfits to training data in just 5 epochs. As musch as this is not a good thing, we still reach a 85% accuracy on test data which is a good result. We can try to use dropout layers to prevent overfitting but it is not necessary in this case. We can also try to use a simpler model to prevent overfitting but this will decrease our accuracy. So, we can say that this is a good result for this model.\n",
    "\n",
    "Biggest challenge in this task was word embedding as our vocabolary had lots of OOV words and we had to use a custom word embedding layer. This was a good experience as we learned how to create a custom word embedding layer and how to use it in a model."
   ]
  },
  {
   "cell_type": "code",
   "execution_count": 38,
   "metadata": {},
   "outputs": [
    {
     "name": "stderr",
     "output_type": "stream",
     "text": [
      "C:\\Users\\algos\\AppData\\Local\\Temp\\ipykernel_16944\\137133447.py:7: FutureWarning:\n",
      "\n",
      "You are using `torch.load` with `weights_only=False` (the current default value), which uses the default pickle module implicitly. It is possible to construct malicious pickle data which will execute arbitrary code during unpickling (See https://github.com/pytorch/pytorch/blob/main/SECURITY.md#untrusted-models for more details). In a future release, the default value for `weights_only` will be flipped to `True`. This limits the functions that could be executed during unpickling. Arbitrary objects will no longer be allowed to be loaded via this mode unless they are explicitly allowlisted by the user via `torch.serialization.add_safe_globals`. We recommend you start setting `weights_only=True` for any use case where you don't have full control of the loaded file. Please open an issue on GitHub for any issues related to this experimental feature.\n",
      "\n"
     ]
    }
   ],
   "source": [
    "import pandas as pd\n",
    "import torch\n",
    "from torch.utils.data import DataLoader, Dataset\n",
    "\n",
    "model_path = './best_model.pth'  # Replace with your model's path\n",
    "model = SentimentLSTM(len(vocab), input_size, hidden_size, 1, embedding_tensor).to(device)\n",
    "model.load_state_dict(torch.load(model_path))\n",
    "model.eval()\n",
    "\n",
    "# Step 1: Load the test data\n",
    "test_file_path = 'subset1000_IMDB_Dataset.csv'  # Adjust this to the test dataset file path\n",
    "test_data = pd.read_csv(test_file_path)\n",
    "\n",
    "# Predefine tokenizer and other preprocessing utilities (reuse from training)\n",
    "\n",
    "# Step 2: Preprocess the test data, apply the steps used during training (change according to your implementation)\n",
    "test_data[\"cleaned_tokens\"] = test_data[\"review\"].apply(preprocess_text)\n",
    "padded_test = test_data[\"cleaned_tokens\"].apply(lambda x: pad_sequence(x, max_length)) # Replace with the maximum sequence length used during training\n",
    "\n",
    "# Convert to PyTorch tensor\n",
    "test_tensor = torch.tensor(padded_test, dtype=torch.long).to(device)\n",
    "\n",
    "\n",
    "\n",
    "# Step 4: Predict sentiment for the test reviews\n",
    "batch_size = 128\n",
    "test_loader = DataLoader(test_tensor, batch_size=batch_size, shuffle=False)\n",
    "\n",
    "predictions = []\n",
    "with torch.no_grad():\n",
    "    for batch in test_loader:\n",
    "        outputs = model(batch)\n",
    "        preds = torch.round(outputs).squeeze().tolist()\n",
    "        predictions.extend(preds)\n",
    "\n",
    "# Step 5: Map predicted class labels to corresponding class names\n",
    "class_labels = {0: 'negative', 1: 'positive'}\n",
    "\n",
    "# Step 6: Save predictions to CSV file\n",
    "df = pd.DataFrame({'ID': range(1, len(predictions) + 1), 'sentiment': [class_labels[p] for p in predictions]})\n",
    "df.to_csv('predictions.csv', index=False)\n"
   ]
  },
  {
   "cell_type": "markdown",
   "metadata": {},
   "source": [
    "My kaggle score is %95 which when multiplied by 5*0.95 = 4.75"
   ]
  }
 ],
 "metadata": {
  "colab": {
   "provenance": []
  },
  "kernelspec": {
   "display_name": "Python 3",
   "language": "python",
   "name": "python3"
  },
  "language_info": {
   "codemirror_mode": {
    "name": "ipython",
    "version": 3
   },
   "file_extension": ".py",
   "mimetype": "text/x-python",
   "name": "python",
   "nbconvert_exporter": "python",
   "pygments_lexer": "ipython3",
   "version": "3.9.13"
  }
 },
 "nbformat": 4,
 "nbformat_minor": 0
}
